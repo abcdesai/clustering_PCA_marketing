{
 "cells": [
  {
   "cell_type": "markdown",
   "metadata": {},
   "source": [
    "# Store range effect in purchase"
   ]
  },
  {
   "cell_type": "markdown",
   "metadata": {},
   "source": [
    "In this notebook we explore a data set of customers and its purchases in different stores"
   ]
  },
  {
   "cell_type": "code",
   "execution_count": null,
   "metadata": {
    "collapsed": true
   },
   "outputs": [],
   "source": [
    "# https://bigml.com/user/czuriaga/gallery/dataset/5559c2c6200d5a6570000084#info\n",
    "# http://www.michelecoscia.com/?page_id=379\n",
    "# Lift in data mining\n",
    "# https://en.wikipedia.org/wiki/Lift_(data_mining)"
   ]
  },
  {
   "cell_type": "markdown",
   "metadata": {},
   "source": [
    "Import needed libraries"
   ]
  },
  {
   "cell_type": "code",
   "execution_count": 1,
   "metadata": {
    "collapsed": false
   },
   "outputs": [],
   "source": [
    "import pandas as pd\n",
    "import os\n",
    "import numpy as np\n",
    "\n",
    "import matplotlib\n",
    "\n",
    "import matplotlib.pyplot as plt\n",
    "%matplotlib inline\n",
    "\n",
    "#from sklearn.cross_validation import train_test_split"
   ]
  },
  {
   "cell_type": "markdown",
   "metadata": {},
   "source": [
    "Read data, drop NA's and get number of records (customers)"
   ]
  },
  {
   "cell_type": "code",
   "execution_count": 69,
   "metadata": {
    "collapsed": true
   },
   "outputs": [],
   "source": [
    "data = pd.read_csv('data.csv')\n",
    "data = data.dropna()\n",
    "num_customers = data.shape[0]"
   ]
  },
  {
   "cell_type": "code",
   "execution_count": 70,
   "metadata": {
    "collapsed": false
   },
   "outputs": [
    {
     "data": {
      "text/html": [
       "<div>\n",
       "<table border=\"1\" class=\"dataframe\">\n",
       "  <thead>\n",
       "    <tr style=\"text-align: right;\">\n",
       "      <th></th>\n",
       "      <th>customer_id</th>\n",
       "      <th>avg_distance_to_shops</th>\n",
       "      <th>min_distance_to_shops</th>\n",
       "      <th>max_distance_to_shops</th>\n",
       "      <th>products_purchased</th>\n",
       "      <th>unique_products_purchased</th>\n",
       "      <th>amount_purchased</th>\n",
       "      <th>avg_purchase</th>\n",
       "      <th>avg_price</th>\n",
       "      <th>shops_used</th>\n",
       "      <th>...</th>\n",
       "      <th>avg_purchase_shop_1</th>\n",
       "      <th>avg_purchase_shop_2</th>\n",
       "      <th>avg_purchase_shop_3</th>\n",
       "      <th>avg_purchase_shop_4</th>\n",
       "      <th>avg_purchase_shop_5</th>\n",
       "      <th>avg_price_shop_1</th>\n",
       "      <th>avg_price_shop_2</th>\n",
       "      <th>avg_price_shop_3</th>\n",
       "      <th>avg_price_shop_4</th>\n",
       "      <th>avg_price_shop_5</th>\n",
       "    </tr>\n",
       "  </thead>\n",
       "  <tbody>\n",
       "    <tr>\n",
       "      <th>0</th>\n",
       "      <td>1</td>\n",
       "      <td>1434.91910</td>\n",
       "      <td>985.87620</td>\n",
       "      <td>4082.5222</td>\n",
       "      <td>3090</td>\n",
       "      <td>473</td>\n",
       "      <td>7551.701</td>\n",
       "      <td>14.221659</td>\n",
       "      <td>3.150493</td>\n",
       "      <td>2</td>\n",
       "      <td>...</td>\n",
       "      <td>10.441143</td>\n",
       "      <td>14.862848</td>\n",
       "      <td>0.000000</td>\n",
       "      <td>0</td>\n",
       "      <td>0.000000</td>\n",
       "      <td>6.393403</td>\n",
       "      <td>2.600485</td>\n",
       "      <td>0.000000</td>\n",
       "      <td>0</td>\n",
       "      <td>0.000000</td>\n",
       "    </tr>\n",
       "    <tr>\n",
       "      <th>1</th>\n",
       "      <td>2</td>\n",
       "      <td>909.76764</td>\n",
       "      <td>254.94832</td>\n",
       "      <td>2295.4840</td>\n",
       "      <td>4508</td>\n",
       "      <td>486</td>\n",
       "      <td>7820.219</td>\n",
       "      <td>11.235947</td>\n",
       "      <td>2.191422</td>\n",
       "      <td>4</td>\n",
       "      <td>...</td>\n",
       "      <td>3.761943</td>\n",
       "      <td>4.848720</td>\n",
       "      <td>2.546600</td>\n",
       "      <td>0</td>\n",
       "      <td>16.479185</td>\n",
       "      <td>2.851152</td>\n",
       "      <td>2.009863</td>\n",
       "      <td>2.059450</td>\n",
       "      <td>0</td>\n",
       "      <td>2.103394</td>\n",
       "    </tr>\n",
       "    <tr>\n",
       "      <th>2</th>\n",
       "      <td>3</td>\n",
       "      <td>1498.94700</td>\n",
       "      <td>754.29560</td>\n",
       "      <td>2831.7727</td>\n",
       "      <td>814</td>\n",
       "      <td>234</td>\n",
       "      <td>1788.613</td>\n",
       "      <td>5.453088</td>\n",
       "      <td>2.258994</td>\n",
       "      <td>4</td>\n",
       "      <td>...</td>\n",
       "      <td>3.757062</td>\n",
       "      <td>5.605183</td>\n",
       "      <td>1.923385</td>\n",
       "      <td>0</td>\n",
       "      <td>5.924268</td>\n",
       "      <td>3.426687</td>\n",
       "      <td>2.478529</td>\n",
       "      <td>1.923385</td>\n",
       "      <td>0</td>\n",
       "      <td>1.947067</td>\n",
       "    </tr>\n",
       "    <tr>\n",
       "      <th>3</th>\n",
       "      <td>4</td>\n",
       "      <td>561.65900</td>\n",
       "      <td>362.79178</td>\n",
       "      <td>2210.3820</td>\n",
       "      <td>648</td>\n",
       "      <td>208</td>\n",
       "      <td>1679.520</td>\n",
       "      <td>5.976940</td>\n",
       "      <td>2.614292</td>\n",
       "      <td>4</td>\n",
       "      <td>...</td>\n",
       "      <td>4.997400</td>\n",
       "      <td>2.688400</td>\n",
       "      <td>5.029184</td>\n",
       "      <td>0</td>\n",
       "      <td>7.156351</td>\n",
       "      <td>4.997400</td>\n",
       "      <td>2.688400</td>\n",
       "      <td>2.083168</td>\n",
       "      <td>0</td>\n",
       "      <td>2.754427</td>\n",
       "    </tr>\n",
       "    <tr>\n",
       "      <th>4</th>\n",
       "      <td>5</td>\n",
       "      <td>605.36280</td>\n",
       "      <td>275.46753</td>\n",
       "      <td>1375.1184</td>\n",
       "      <td>13</td>\n",
       "      <td>10</td>\n",
       "      <td>17.922</td>\n",
       "      <td>1.792200</td>\n",
       "      <td>1.692000</td>\n",
       "      <td>2</td>\n",
       "      <td>...</td>\n",
       "      <td>0.000000</td>\n",
       "      <td>0.967667</td>\n",
       "      <td>2.145571</td>\n",
       "      <td>0</td>\n",
       "      <td>0.000000</td>\n",
       "      <td>0.000000</td>\n",
       "      <td>0.633667</td>\n",
       "      <td>2.145571</td>\n",
       "      <td>0</td>\n",
       "      <td>0.000000</td>\n",
       "    </tr>\n",
       "  </tbody>\n",
       "</table>\n",
       "<p>5 rows × 40 columns</p>\n",
       "</div>"
      ],
      "text/plain": [
       "   customer_id  avg_distance_to_shops  min_distance_to_shops  \\\n",
       "0            1             1434.91910              985.87620   \n",
       "1            2              909.76764              254.94832   \n",
       "2            3             1498.94700              754.29560   \n",
       "3            4              561.65900              362.79178   \n",
       "4            5              605.36280              275.46753   \n",
       "\n",
       "   max_distance_to_shops  products_purchased  unique_products_purchased  \\\n",
       "0              4082.5222                3090                        473   \n",
       "1              2295.4840                4508                        486   \n",
       "2              2831.7727                 814                        234   \n",
       "3              2210.3820                 648                        208   \n",
       "4              1375.1184                  13                         10   \n",
       "\n",
       "   amount_purchased  avg_purchase  avg_price  shops_used        ...         \\\n",
       "0          7551.701     14.221659   3.150493           2        ...          \n",
       "1          7820.219     11.235947   2.191422           4        ...          \n",
       "2          1788.613      5.453088   2.258994           4        ...          \n",
       "3          1679.520      5.976940   2.614292           4        ...          \n",
       "4            17.922      1.792200   1.692000           2        ...          \n",
       "\n",
       "   avg_purchase_shop_1  avg_purchase_shop_2  avg_purchase_shop_3  \\\n",
       "0            10.441143            14.862848             0.000000   \n",
       "1             3.761943             4.848720             2.546600   \n",
       "2             3.757062             5.605183             1.923385   \n",
       "3             4.997400             2.688400             5.029184   \n",
       "4             0.000000             0.967667             2.145571   \n",
       "\n",
       "   avg_purchase_shop_4  avg_purchase_shop_5  avg_price_shop_1  \\\n",
       "0                    0             0.000000          6.393403   \n",
       "1                    0            16.479185          2.851152   \n",
       "2                    0             5.924268          3.426687   \n",
       "3                    0             7.156351          4.997400   \n",
       "4                    0             0.000000          0.000000   \n",
       "\n",
       "   avg_price_shop_2  avg_price_shop_3  avg_price_shop_4  avg_price_shop_5  \n",
       "0          2.600485          0.000000                 0          0.000000  \n",
       "1          2.009863          2.059450                 0          2.103394  \n",
       "2          2.478529          1.923385                 0          1.947067  \n",
       "3          2.688400          2.083168                 0          2.754427  \n",
       "4          0.633667          2.145571                 0          0.000000  \n",
       "\n",
       "[5 rows x 40 columns]"
      ]
     },
     "execution_count": 70,
     "metadata": {},
     "output_type": "execute_result"
    }
   ],
   "source": [
    "data.head()"
   ]
  },
  {
   "cell_type": "code",
   "execution_count": 71,
   "metadata": {
    "collapsed": false,
    "scrolled": true
   },
   "outputs": [
    {
     "data": {
      "text/plain": [
       "array(['customer_id', 'avg_distance_to_shops', 'min_distance_to_shops',\n",
       "       'max_distance_to_shops', 'products_purchased',\n",
       "       'unique_products_purchased', 'amount_purchased', 'avg_purchase',\n",
       "       'avg_price', 'shops_used', 'distance_shop_1', 'distance_shop_2',\n",
       "       'distance_shop_3', 'distance_shop_4', 'distance_shop_5',\n",
       "       'products_purchased_shop_1', 'products_purchased_shop_2',\n",
       "       'products_purchased_shop_3', 'products_purchased_shop_4',\n",
       "       'products_purchased_shop_5', 'unique_products_purchased_shop_1',\n",
       "       'unique_products_purchased_shop_2',\n",
       "       'unique_products_purchased_shop_3',\n",
       "       'unique_products_purchased_shop_4',\n",
       "       'unique_products_purchased_shop_5', 'amount_purchased_shop_1',\n",
       "       'amount_purchased_shop_2', 'amount_purchased_shop_3',\n",
       "       'amount_purchased_shop_4', 'amount_purchased_shop_5',\n",
       "       'avg_purchase_shop_1', 'avg_purchase_shop_2', 'avg_purchase_shop_3',\n",
       "       'avg_purchase_shop_4', 'avg_purchase_shop_5', 'avg_price_shop_1',\n",
       "       'avg_price_shop_2', 'avg_price_shop_3', 'avg_price_shop_4',\n",
       "       'avg_price_shop_5'], dtype=object)"
      ]
     },
     "execution_count": 71,
     "metadata": {},
     "output_type": "execute_result"
    }
   ],
   "source": [
    "data.columns.values"
   ]
  },
  {
   "cell_type": "markdown",
   "metadata": {},
   "source": [
    "Let's get the distribution of average purchases in store according to shops (in this case five stores)"
   ]
  },
  {
   "cell_type": "code",
   "execution_count": 85,
   "metadata": {
    "collapsed": false
   },
   "outputs": [
    {
     "data": {
      "image/png": "[encoded data removed]",
      "text/plain": [
       "<matplotlib.figure.Figure at 0x115edc790>"
      ]
     },
     "metadata": {},
     "output_type": "display_data"
    }
   ],
   "source": [
    "list_purchase = []\n",
    "for k in range(1,6):\n",
    "    text_ = 'avg_purchase_shop_' + str(k)\n",
    "    aux_ = data[text_].sum()/1000.\n",
    "    #print k , aux_\n",
    "    list_purchase.append(aux_)\n",
    "dfAux = pd.DataFrame()\n",
    "dfAux['Store Number'] = [1,2,3,4,5]\n",
    "dfAux['Avg. Purchase in Shop'] = list_purchase\n",
    "\n",
    "dfAux.plot(x='Store Number',y='Avg. Purchase in Shop',kind='bar',\n",
    "           title='Average Purchase per Store',legend=False,grid=True)\n",
    "plt.xlabel('Shop Number')\n",
    "plt.ylabel('Avg. Purch. in Store (Thousands of Euros)')\n",
    "plt.show()"
   ]
  },
  {
   "cell_type": "markdown",
   "metadata": {},
   "source": [
    "Now distribution of customers according to the number of shops they use when they purchase"
   ]
  },
  {
   "cell_type": "code",
   "execution_count": 90,
   "metadata": {
    "collapsed": false
   },
   "outputs": [
    {
     "data": {
      "image/png": "[encoded data removed]",
      "text/plain": [
       "<matplotlib.figure.Figure at 0x121b94510>"
      ]
     },
     "metadata": {},
     "output_type": "display_data"
    }
   ],
   "source": [
    "list_purchase = []\n",
    "for k in range(1,6):\n",
    "    #text_ = 'avg_purchase_shop_' + str(k)\n",
    "    aux_ = sum(data['shops_used']== k)\n",
    "    #perc_ = (float(aux_)/float(num_customers))*100\n",
    "    perc_ = float(aux_/1000.)\n",
    "    #print k , perc_\n",
    "    list_purchase.append(perc_)\n",
    "dfAux = pd.DataFrame()\n",
    "dfAux['Number of Shops Used'] = [1,2,3,4,5]\n",
    "dfAux['Number of Customers'] = list_purchase\n",
    "\n",
    "dfAux.plot(x='Number of Shops Used',y='Number of Customers',kind='bar',\n",
    "           title='Distribution of Customers According to Number of Stores Used',\n",
    "           legend=False,grid=True)\n",
    "plt.xlabel('Number of shops used ')\n",
    "plt.ylabel('Number of customers (thousands)')\n",
    "plt.show()"
   ]
  },
  {
   "cell_type": "markdown",
   "metadata": {
    "collapsed": false
   },
   "source": [
    "Distribution of customers according to the shop number"
   ]
  },
  {
   "cell_type": "code",
   "execution_count": 92,
   "metadata": {
    "collapsed": false
   },
   "outputs": [
    {
     "data": {
      "image/png": "[encoded data removed]",
      "text/plain": [
       "<matplotlib.figure.Figure at 0x1194eb8d0>"
      ]
     },
     "metadata": {},
     "output_type": "display_data"
    }
   ],
   "source": [
    "list_purchase = []\n",
    "for k in range(1,6):\n",
    "    text_ = 'avg_price_shop_' + str(k)\n",
    "    aux_ = sum(data[text_] <> 0)\n",
    "    #perc_ = aux_/float(num_customers)*100\n",
    "    perc_ = float(sum(data[text_] <> 0)/1000.)\n",
    "    #print k , perc_\n",
    "    list_purchase.append(perc_)\n",
    "dfAux = pd.DataFrame()\n",
    "dfAux['Shop Number'] = [1,2,3,4,5]\n",
    "dfAux['Number of Customers'] = list_purchase\n",
    "\n",
    "\n",
    "dfAux.plot(x='Shop Number',y='Number of Customers',kind='bar',\n",
    "           title='Distribution of Customers According to Store Number',\n",
    "           legend=False,grid=True)\n",
    "plt.xlabel('Shop Number')\n",
    "plt.ylabel('Number of Customers (Thousands)')\n",
    "plt.show()\n",
    "\n"
   ]
  },
  {
   "cell_type": "markdown",
   "metadata": {},
   "source": [
    "In what follows we will add to our data frame two columns. One of them will indicate the number of store that is closest to customer and the otherone indicating what is the farthest. "
   ]
  },
  {
   "cell_type": "code",
   "execution_count": 93,
   "metadata": {
    "collapsed": false
   },
   "outputs": [
    {
     "data": {
      "text/html": [
       "<div>\n",
       "<table border=\"1\" class=\"dataframe\">\n",
       "  <thead>\n",
       "    <tr style=\"text-align: right;\">\n",
       "      <th></th>\n",
       "      <th>distance_shop_1</th>\n",
       "      <th>distance_shop_2</th>\n",
       "      <th>distance_shop_3</th>\n",
       "      <th>distance_shop_4</th>\n",
       "      <th>distance_shop_5</th>\n",
       "    </tr>\n",
       "  </thead>\n",
       "  <tbody>\n",
       "    <tr>\n",
       "      <th>0</th>\n",
       "      <td>4082.5222</td>\n",
       "      <td>985.8762</td>\n",
       "      <td>2372.09700</td>\n",
       "      <td>4929.8047</td>\n",
       "      <td>3284.38670</td>\n",
       "    </tr>\n",
       "    <tr>\n",
       "      <th>1</th>\n",
       "      <td>1115.3433</td>\n",
       "      <td>2295.4840</td>\n",
       "      <td>670.90080</td>\n",
       "      <td>2048.0605</td>\n",
       "      <td>254.94832</td>\n",
       "    </tr>\n",
       "    <tr>\n",
       "      <th>2</th>\n",
       "      <td>1418.8348</td>\n",
       "      <td>2831.7727</td>\n",
       "      <td>1286.81900</td>\n",
       "      <td>1545.1963</td>\n",
       "      <td>754.29560</td>\n",
       "    </tr>\n",
       "    <tr>\n",
       "      <th>3</th>\n",
       "      <td>1104.3829</td>\n",
       "      <td>2210.3820</td>\n",
       "      <td>617.28710</td>\n",
       "      <td>2181.6853</td>\n",
       "      <td>362.79178</td>\n",
       "    </tr>\n",
       "    <tr>\n",
       "      <th>4</th>\n",
       "      <td>1913.7630</td>\n",
       "      <td>1375.1184</td>\n",
       "      <td>275.46753</td>\n",
       "      <td>2961.3035</td>\n",
       "      <td>1172.37730</td>\n",
       "    </tr>\n",
       "  </tbody>\n",
       "</table>\n",
       "</div>"
      ],
      "text/plain": [
       "   distance_shop_1  distance_shop_2  distance_shop_3  distance_shop_4  \\\n",
       "0        4082.5222         985.8762       2372.09700        4929.8047   \n",
       "1        1115.3433        2295.4840        670.90080        2048.0605   \n",
       "2        1418.8348        2831.7727       1286.81900        1545.1963   \n",
       "3        1104.3829        2210.3820        617.28710        2181.6853   \n",
       "4        1913.7630        1375.1184        275.46753        2961.3035   \n",
       "\n",
       "   distance_shop_5  \n",
       "0       3284.38670  \n",
       "1        254.94832  \n",
       "2        754.29560  \n",
       "3        362.79178  \n",
       "4       1172.37730  "
      ]
     },
     "execution_count": 93,
     "metadata": {},
     "output_type": "execute_result"
    }
   ],
   "source": [
    "data[['distance_shop_1', 'distance_shop_2',\n",
    "       'distance_shop_3', 'distance_shop_4', 'distance_shop_5']].head()"
   ]
  },
  {
   "cell_type": "code",
   "execution_count": 101,
   "metadata": {
    "collapsed": true
   },
   "outputs": [],
   "source": [
    "dist_ = data[['distance_shop_1', 'distance_shop_2',\n",
    "       'distance_shop_3', 'distance_shop_4', 'distance_shop_5']].values"
   ]
  },
  {
   "cell_type": "code",
   "execution_count": 106,
   "metadata": {
    "collapsed": false
   },
   "outputs": [],
   "source": [
    "closest = []\n",
    "farthest = []\n",
    "for k in range(num_customers):\n",
    "    Min = 1 + dist_[k,:].argmin()\n",
    "    Max = 1 + dist_[k,:].argmax()\n",
    "    closest.append(Min)\n",
    "    farthest.append(Max)\n",
    "data['closest_shop'] = closest\n",
    "data['farthest_shop'] = farthest"
   ]
  },
  {
   "cell_type": "code",
   "execution_count": 107,
   "metadata": {
    "collapsed": false
   },
   "outputs": [
    {
     "data": {
      "text/html": [
       "<div>\n",
       "<table border=\"1\" class=\"dataframe\">\n",
       "  <thead>\n",
       "    <tr style=\"text-align: right;\">\n",
       "      <th></th>\n",
       "      <th>distance_shop_1</th>\n",
       "      <th>distance_shop_2</th>\n",
       "      <th>distance_shop_3</th>\n",
       "      <th>distance_shop_4</th>\n",
       "      <th>distance_shop_5</th>\n",
       "      <th>closest_shop</th>\n",
       "      <th>farthest_shop</th>\n",
       "    </tr>\n",
       "  </thead>\n",
       "  <tbody>\n",
       "    <tr>\n",
       "      <th>0</th>\n",
       "      <td>4082.5222</td>\n",
       "      <td>985.8762</td>\n",
       "      <td>2372.09700</td>\n",
       "      <td>4929.8047</td>\n",
       "      <td>3284.38670</td>\n",
       "      <td>2</td>\n",
       "      <td>4</td>\n",
       "    </tr>\n",
       "    <tr>\n",
       "      <th>1</th>\n",
       "      <td>1115.3433</td>\n",
       "      <td>2295.4840</td>\n",
       "      <td>670.90080</td>\n",
       "      <td>2048.0605</td>\n",
       "      <td>254.94832</td>\n",
       "      <td>5</td>\n",
       "      <td>2</td>\n",
       "    </tr>\n",
       "    <tr>\n",
       "      <th>2</th>\n",
       "      <td>1418.8348</td>\n",
       "      <td>2831.7727</td>\n",
       "      <td>1286.81900</td>\n",
       "      <td>1545.1963</td>\n",
       "      <td>754.29560</td>\n",
       "      <td>5</td>\n",
       "      <td>2</td>\n",
       "    </tr>\n",
       "    <tr>\n",
       "      <th>3</th>\n",
       "      <td>1104.3829</td>\n",
       "      <td>2210.3820</td>\n",
       "      <td>617.28710</td>\n",
       "      <td>2181.6853</td>\n",
       "      <td>362.79178</td>\n",
       "      <td>5</td>\n",
       "      <td>2</td>\n",
       "    </tr>\n",
       "    <tr>\n",
       "      <th>4</th>\n",
       "      <td>1913.7630</td>\n",
       "      <td>1375.1184</td>\n",
       "      <td>275.46753</td>\n",
       "      <td>2961.3035</td>\n",
       "      <td>1172.37730</td>\n",
       "      <td>3</td>\n",
       "      <td>4</td>\n",
       "    </tr>\n",
       "  </tbody>\n",
       "</table>\n",
       "</div>"
      ],
      "text/plain": [
       "   distance_shop_1  distance_shop_2  distance_shop_3  distance_shop_4  \\\n",
       "0        4082.5222         985.8762       2372.09700        4929.8047   \n",
       "1        1115.3433        2295.4840        670.90080        2048.0605   \n",
       "2        1418.8348        2831.7727       1286.81900        1545.1963   \n",
       "3        1104.3829        2210.3820        617.28710        2181.6853   \n",
       "4        1913.7630        1375.1184        275.46753        2961.3035   \n",
       "\n",
       "   distance_shop_5  closest_shop  farthest_shop  \n",
       "0       3284.38670             2              4  \n",
       "1        254.94832             5              2  \n",
       "2        754.29560             5              2  \n",
       "3        362.79178             5              2  \n",
       "4       1172.37730             3              4  "
      ]
     },
     "execution_count": 107,
     "metadata": {},
     "output_type": "execute_result"
    }
   ],
   "source": [
    "data[['distance_shop_1', 'distance_shop_2',\n",
    "       'distance_shop_3', 'distance_shop_4', 'distance_shop_5','closest_shop',\n",
    "      'farthest_shop']].head()"
   ]
  },
  {
   "cell_type": "markdown",
   "metadata": {},
   "source": [
    "We now see distribution of customers according to closeness to store"
   ]
  },
  {
   "cell_type": "code",
   "execution_count": 114,
   "metadata": {
    "collapsed": false
   },
   "outputs": [
    {
     "data": {
      "image/png": "[encoded data removed]",
      "text/plain": [
       "<matplotlib.figure.Figure at 0x115f43390>"
      ]
     },
     "metadata": {},
     "output_type": "display_data"
    }
   ],
   "source": [
    "list_purchase = []\n",
    "for k in range(1,6):\n",
    "    aux_ = sum(data['closest_shop'] == k)\n",
    "    #perc_ = aux_/float(num_customers)*100\n",
    "    perc_ = float(aux_/1000.)\n",
    "    #print k , perc_\n",
    "    list_purchase.append(perc_)\n",
    "dfAux = pd.DataFrame()\n",
    "dfAux['Shop Number'] = [1,2,3,4,5]\n",
    "dfAux['Customers Closest to Store'] = list_purchase\n",
    "\n",
    "\n",
    "dfAux.plot(x='Shop Number',y='Customers Closest to Store',kind='bar',\n",
    "           title='Distribution of Customers According to Closeness to Stores',\n",
    "           legend=False,grid=True)\n",
    "plt.xlabel('Shop Number')\n",
    "plt.ylabel('Number of customers (thousands)')\n",
    "plt.show()\n"
   ]
  },
  {
   "cell_type": "code",
   "execution_count": 196,
   "metadata": {
    "collapsed": false
   },
   "outputs": [
    {
     "data": {
      "image/png": "[encoded data removed]",
      "text/plain": [
       "<matplotlib.figure.Figure at 0x102d9d5d0>"
      ]
     },
     "metadata": {},
     "output_type": "display_data"
    }
   ],
   "source": [
    "list_purchase = []\n",
    "for k in range(1,6):\n",
    "    aux_ = sum(data['farthest_shop'] == k)\n",
    "    #perc_ = aux_/float(num_customers)*100\n",
    "    perc_ = float(aux_/1000.)\n",
    "    #print k , perc_\n",
    "    list_purchase.append(perc_)\n",
    "dfAux = pd.DataFrame()\n",
    "dfAux['Shop Number'] = [1,2,3,4,5]\n",
    "dfAux['Customers Farthest to Store'] = list_purchase\n",
    "\n",
    "\n",
    "dfAux.plot(x='Shop Number',y='Customers Farthest to Store',kind='bar',\n",
    "           title='Distribution of Customers According to Fartheness to Stores',\n",
    "           legend=False,grid=True)\n",
    "plt.xlabel('Shop Number')\n",
    "plt.ylabel('Number of customers (thousands)')\n",
    "plt.show()\n"
   ]
  },
  {
   "cell_type": "markdown",
   "metadata": {},
   "source": [
    "Let's now get auxiliary data frames related with customers that purschased ONLY in each individual store"
   ]
  },
  {
   "cell_type": "code",
   "execution_count": 175,
   "metadata": {
    "collapsed": false,
    "scrolled": true
   },
   "outputs": [],
   "source": [
    "# Data frame for users who purchased ONLY in shop 1\n",
    "df1 = data[(data.amount_purchased_shop_2 == 0.) & (data.amount_purchased_shop_3 == 0.) &\n",
    "          (data.amount_purchased_shop_4 == 0.) & (data.amount_purchased_shop_5 == 0.)]\n",
    "num_1 = df1.shape[0]\n",
    "close_1 = sum(df1.closest_shop == 1)\n",
    "far_1 = sum(df1.farthest_shop == 1)\n",
    "\n",
    "# Data frame for users who purchased ONLY in shop 2\n",
    "df2 = data[(data.amount_purchased_shop_1 == 0.) & (data.amount_purchased_shop_3 == 0.) &\n",
    "          (data.amount_purchased_shop_4 == 0.) & (data.amount_purchased_shop_5 == 0.)]\n",
    "num_2 = df2.shape[0]\n",
    "close_2 = sum(df2.closest_shop == 2)\n",
    "far_2 = sum(df2.farthest_shop == 2)\n",
    "\n",
    "# Data frame for users who purchased ONLY in shop 3\n",
    "df3 = data[(data.amount_purchased_shop_1 == 0.) & (data.amount_purchased_shop_2 == 0.) &\n",
    "          (data.amount_purchased_shop_4 == 0.) & (data.amount_purchased_shop_5 == 0.)]\n",
    "num_3 = df3.shape[0]\n",
    "close_3 = sum(df3.closest_shop == 3)\n",
    "far_3 = sum(df3.farthest_shop == 3)\n",
    "\n",
    "# Data frame for users who purchased ONLY in shop 4\n",
    "df4 = data[(data.amount_purchased_shop_1 == 0.) & (data.amount_purchased_shop_2 == 0.) &\n",
    "          (data.amount_purchased_shop_3 == 0.) & (data.amount_purchased_shop_5 == 0.)]\n",
    "num_4 = df4.shape[0]\n",
    "close_4 = sum(df4.closest_shop == 4)\n",
    "far_4 = sum(df4.farthest_shop == 4)\n",
    "\n",
    "# Data frame for users who purchased ONLY in shop 5\n",
    "df5 = data[(data.amount_purchased_shop_1 == 0.) & (data.amount_purchased_shop_2 == 0.) &\n",
    "          (data.amount_purchased_shop_3 == 0.) & (data.amount_purchased_shop_4 == 0.)]\n",
    "num_5 = df5.shape[0]\n",
    "close_5 = sum(df5.closest_shop == 5)\n",
    "far_5 = sum(df5.farthest_shop == 5)"
   ]
  },
  {
   "cell_type": "markdown",
   "metadata": {},
   "source": [
    "We check consistency with our initial data frame"
   ]
  },
  {
   "cell_type": "code",
   "execution_count": 164,
   "metadata": {
    "collapsed": false
   },
   "outputs": [
    {
     "name": "stdout",
     "output_type": "stream",
     "text": [
      "11710\n",
      "11710\n"
     ]
    }
   ],
   "source": [
    "print num_1 + num_2 + num_3 + num_4 + num_5\n",
    "print sum(data.shops_used == 1)"
   ]
  },
  {
   "cell_type": "markdown",
   "metadata": {},
   "source": [
    "Let's see distribution of customers who purchased ONLY in one store and how many of them where closest to THAT particular store"
   ]
  },
  {
   "cell_type": "code",
   "execution_count": 191,
   "metadata": {
    "collapsed": false
   },
   "outputs": [],
   "source": [
    "del df_close\n",
    "one_store = [num_1,num_2,num_3,num_4,num_5]\n",
    "closest_to_one_store = [close_1,close_2,close_3,close_4,close_5]\n",
    "farthest_to_one_store = [far_1,far_2,far_3,far_4,far_5]\n",
    "df_close = pd.DataFrame()\n",
    "df_close['Total customers'] = one_store\n",
    "df_close['Closest to store'] = closest_to_one_store\n",
    "df_close['Farthest to store'] = farthest_to_one_store\n",
    "df_close.index = range(1,6)\n"
   ]
  },
  {
   "cell_type": "code",
   "execution_count": 192,
   "metadata": {
    "collapsed": false
   },
   "outputs": [
    {
     "data": {
      "text/html": [
       "<div>\n",
       "<table border=\"1\" class=\"dataframe\">\n",
       "  <thead>\n",
       "    <tr style=\"text-align: right;\">\n",
       "      <th></th>\n",
       "      <th>Total customers</th>\n",
       "      <th>Closest to store</th>\n",
       "      <th>Farthest to store</th>\n",
       "    </tr>\n",
       "  </thead>\n",
       "  <tbody>\n",
       "    <tr>\n",
       "      <th>1</th>\n",
       "      <td>7987</td>\n",
       "      <td>445</td>\n",
       "      <td>135</td>\n",
       "    </tr>\n",
       "    <tr>\n",
       "      <th>2</th>\n",
       "      <td>2470</td>\n",
       "      <td>1506</td>\n",
       "      <td>496</td>\n",
       "    </tr>\n",
       "    <tr>\n",
       "      <th>3</th>\n",
       "      <td>449</td>\n",
       "      <td>338</td>\n",
       "      <td>0</td>\n",
       "    </tr>\n",
       "    <tr>\n",
       "      <th>4</th>\n",
       "      <td>478</td>\n",
       "      <td>426</td>\n",
       "      <td>18</td>\n",
       "    </tr>\n",
       "    <tr>\n",
       "      <th>5</th>\n",
       "      <td>326</td>\n",
       "      <td>240</td>\n",
       "      <td>0</td>\n",
       "    </tr>\n",
       "  </tbody>\n",
       "</table>\n",
       "</div>"
      ],
      "text/plain": [
       "   Total customers  Closest to store  Farthest to store\n",
       "1             7987               445                135\n",
       "2             2470              1506                496\n",
       "3              449               338                  0\n",
       "4              478               426                 18\n",
       "5              326               240                  0"
      ]
     },
     "execution_count": 192,
     "metadata": {},
     "output_type": "execute_result"
    }
   ],
   "source": [
    "df_close"
   ]
  },
  {
   "cell_type": "code",
   "execution_count": 198,
   "metadata": {
    "collapsed": false
   },
   "outputs": [
    {
     "data": {
      "image/png": "[encoded data removed]",
      "text/plain": [
       "<matplotlib.figure.Figure at 0x11ca641d0>"
      ]
     },
     "metadata": {},
     "output_type": "display_data"
    }
   ],
   "source": [
    "df_close.plot(kind='bar',\n",
    "           title='Distribution of Customers Purchased in only one store',grid=True)\n",
    "plt.xlabel('Shop Number')\n",
    "plt.ylabel('Number of customers')\n",
    "plt.show()"
   ]
  },
  {
   "cell_type": "code",
   "execution_count": 82,
   "metadata": {
    "collapsed": false
   },
   "outputs": [
    {
     "data": {
      "text/plain": [
       "array([  2.12000000e-01,   6.53107000e+02,   2.35513800e+03,\n",
       "         6.05463100e+03])"
      ]
     },
     "execution_count": 82,
     "metadata": {},
     "output_type": "execute_result"
    }
   ],
   "source": [
    "quartiles = np.percentile(data.amount_purchased.values,np.arange(0,100,25))\n",
    "quartiles"
   ]
  }
 ],
 "metadata": {
  "kernelspec": {
   "display_name": "Python 2",
   "language": "python",
   "name": "python2"
  },
  "language_info": {
   "codemirror_mode": {
    "name": "ipython",
    "version": 2
   },
   "file_extension": ".py",
   "mimetype": "text/x-python",
   "name": "python",
   "nbconvert_exporter": "python",
   "pygments_lexer": "ipython2",
   "version": "2.7.9"
  }
 },
 "nbformat": 4,
 "nbformat_minor": 0
}

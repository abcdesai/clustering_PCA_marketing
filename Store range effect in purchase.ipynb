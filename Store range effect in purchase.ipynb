{
 "cells": [
  {
   "cell_type": "markdown",
   "metadata": {},
   "source": [
    "# Store range effect in purchase"
   ]
  },
  {
   "cell_type": "markdown",
   "metadata": {},
   "source": [
    "In this notebook we explore a data set of customers and its purchases in different stores"
   ]
  },
  {
   "cell_type": "code",
   "execution_count": 1,
   "metadata": {
    "collapsed": true
   },
   "outputs": [],
   "source": [
    "# https://bigml.com/user/czuriaga/gallery/dataset/5559c2c6200d5a6570000084#info\n",
    "# http://www.michelecoscia.com/?page_id=379\n",
    "# Lift in data mining\n",
    "# https://en.wikipedia.org/wiki/Lift_(data_mining)\n",
    "\n",
    "# Data Science central ... clustering with R\n",
    "# http://www.datasciencecentral.com/profiles/blogs/find-marketing-clusters-in-20-minutes-in-r"
   ]
  },
  {
   "cell_type": "markdown",
   "metadata": {},
   "source": [
    "Import needed libraries"
   ]
  },
  {
   "cell_type": "code",
   "execution_count": 2,
   "metadata": {
    "collapsed": false
   },
   "outputs": [],
   "source": [
    "import pandas as pd\n",
    "import os\n",
    "import numpy as np\n",
    "\n",
    "import matplotlib\n",
    "\n",
    "import matplotlib.pyplot as plt\n",
    "%matplotlib inline\n",
    "\n",
    "#from sklearn.cross_validation import train_test_split"
   ]
  },
  {
   "cell_type": "markdown",
   "metadata": {},
   "source": [
    "Read data, drop NA's and get number of records (customers)"
   ]
  },
  {
   "cell_type": "code",
   "execution_count": 3,
   "metadata": {
    "collapsed": true
   },
   "outputs": [],
   "source": [
    "data = pd.read_csv('data.csv')\n",
    "data = data.dropna()\n",
    "num_customers = data.shape[0]"
   ]
  },
  {
   "cell_type": "code",
   "execution_count": 4,
   "metadata": {
    "collapsed": false
   },
   "outputs": [
    {
     "data": {
      "text/html": [
       "<div>\n",
       "<table border=\"1\" class=\"dataframe\">\n",
       "  <thead>\n",
       "    <tr style=\"text-align: right;\">\n",
       "      <th></th>\n",
       "      <th>customer_id</th>\n",
       "      <th>avg_distance_to_shops</th>\n",
       "      <th>min_distance_to_shops</th>\n",
       "      <th>max_distance_to_shops</th>\n",
       "      <th>products_purchased</th>\n",
       "      <th>unique_products_purchased</th>\n",
       "      <th>amount_purchased</th>\n",
       "      <th>avg_purchase</th>\n",
       "      <th>avg_price</th>\n",
       "      <th>shops_used</th>\n",
       "      <th>...</th>\n",
       "      <th>avg_purchase_shop_1</th>\n",
       "      <th>avg_purchase_shop_2</th>\n",
       "      <th>avg_purchase_shop_3</th>\n",
       "      <th>avg_purchase_shop_4</th>\n",
       "      <th>avg_purchase_shop_5</th>\n",
       "      <th>avg_price_shop_1</th>\n",
       "      <th>avg_price_shop_2</th>\n",
       "      <th>avg_price_shop_3</th>\n",
       "      <th>avg_price_shop_4</th>\n",
       "      <th>avg_price_shop_5</th>\n",
       "    </tr>\n",
       "  </thead>\n",
       "  <tbody>\n",
       "    <tr>\n",
       "      <th>0</th>\n",
       "      <td>1</td>\n",
       "      <td>1434.91910</td>\n",
       "      <td>985.87620</td>\n",
       "      <td>4082.5222</td>\n",
       "      <td>3090</td>\n",
       "      <td>473</td>\n",
       "      <td>7551.701</td>\n",
       "      <td>14.221659</td>\n",
       "      <td>3.150493</td>\n",
       "      <td>2</td>\n",
       "      <td>...</td>\n",
       "      <td>10.441143</td>\n",
       "      <td>14.862848</td>\n",
       "      <td>0.000000</td>\n",
       "      <td>0</td>\n",
       "      <td>0.000000</td>\n",
       "      <td>6.393403</td>\n",
       "      <td>2.600485</td>\n",
       "      <td>0.000000</td>\n",
       "      <td>0</td>\n",
       "      <td>0.000000</td>\n",
       "    </tr>\n",
       "    <tr>\n",
       "      <th>1</th>\n",
       "      <td>2</td>\n",
       "      <td>909.76764</td>\n",
       "      <td>254.94832</td>\n",
       "      <td>2295.4840</td>\n",
       "      <td>4508</td>\n",
       "      <td>486</td>\n",
       "      <td>7820.219</td>\n",
       "      <td>11.235947</td>\n",
       "      <td>2.191422</td>\n",
       "      <td>4</td>\n",
       "      <td>...</td>\n",
       "      <td>3.761943</td>\n",
       "      <td>4.848720</td>\n",
       "      <td>2.546600</td>\n",
       "      <td>0</td>\n",
       "      <td>16.479185</td>\n",
       "      <td>2.851152</td>\n",
       "      <td>2.009863</td>\n",
       "      <td>2.059450</td>\n",
       "      <td>0</td>\n",
       "      <td>2.103394</td>\n",
       "    </tr>\n",
       "    <tr>\n",
       "      <th>2</th>\n",
       "      <td>3</td>\n",
       "      <td>1498.94700</td>\n",
       "      <td>754.29560</td>\n",
       "      <td>2831.7727</td>\n",
       "      <td>814</td>\n",
       "      <td>234</td>\n",
       "      <td>1788.613</td>\n",
       "      <td>5.453088</td>\n",
       "      <td>2.258994</td>\n",
       "      <td>4</td>\n",
       "      <td>...</td>\n",
       "      <td>3.757062</td>\n",
       "      <td>5.605183</td>\n",
       "      <td>1.923385</td>\n",
       "      <td>0</td>\n",
       "      <td>5.924268</td>\n",
       "      <td>3.426687</td>\n",
       "      <td>2.478529</td>\n",
       "      <td>1.923385</td>\n",
       "      <td>0</td>\n",
       "      <td>1.947067</td>\n",
       "    </tr>\n",
       "    <tr>\n",
       "      <th>3</th>\n",
       "      <td>4</td>\n",
       "      <td>561.65900</td>\n",
       "      <td>362.79178</td>\n",
       "      <td>2210.3820</td>\n",
       "      <td>648</td>\n",
       "      <td>208</td>\n",
       "      <td>1679.520</td>\n",
       "      <td>5.976940</td>\n",
       "      <td>2.614292</td>\n",
       "      <td>4</td>\n",
       "      <td>...</td>\n",
       "      <td>4.997400</td>\n",
       "      <td>2.688400</td>\n",
       "      <td>5.029184</td>\n",
       "      <td>0</td>\n",
       "      <td>7.156351</td>\n",
       "      <td>4.997400</td>\n",
       "      <td>2.688400</td>\n",
       "      <td>2.083168</td>\n",
       "      <td>0</td>\n",
       "      <td>2.754427</td>\n",
       "    </tr>\n",
       "    <tr>\n",
       "      <th>4</th>\n",
       "      <td>5</td>\n",
       "      <td>605.36280</td>\n",
       "      <td>275.46753</td>\n",
       "      <td>1375.1184</td>\n",
       "      <td>13</td>\n",
       "      <td>10</td>\n",
       "      <td>17.922</td>\n",
       "      <td>1.792200</td>\n",
       "      <td>1.692000</td>\n",
       "      <td>2</td>\n",
       "      <td>...</td>\n",
       "      <td>0.000000</td>\n",
       "      <td>0.967667</td>\n",
       "      <td>2.145571</td>\n",
       "      <td>0</td>\n",
       "      <td>0.000000</td>\n",
       "      <td>0.000000</td>\n",
       "      <td>0.633667</td>\n",
       "      <td>2.145571</td>\n",
       "      <td>0</td>\n",
       "      <td>0.000000</td>\n",
       "    </tr>\n",
       "  </tbody>\n",
       "</table>\n",
       "<p>5 rows × 40 columns</p>\n",
       "</div>"
      ],
      "text/plain": [
       "   customer_id  avg_distance_to_shops  min_distance_to_shops  \\\n",
       "0            1             1434.91910              985.87620   \n",
       "1            2              909.76764              254.94832   \n",
       "2            3             1498.94700              754.29560   \n",
       "3            4              561.65900              362.79178   \n",
       "4            5              605.36280              275.46753   \n",
       "\n",
       "   max_distance_to_shops  products_purchased  unique_products_purchased  \\\n",
       "0              4082.5222                3090                        473   \n",
       "1              2295.4840                4508                        486   \n",
       "2              2831.7727                 814                        234   \n",
       "3              2210.3820                 648                        208   \n",
       "4              1375.1184                  13                         10   \n",
       "\n",
       "   amount_purchased  avg_purchase  avg_price  shops_used        ...         \\\n",
       "0          7551.701     14.221659   3.150493           2        ...          \n",
       "1          7820.219     11.235947   2.191422           4        ...          \n",
       "2          1788.613      5.453088   2.258994           4        ...          \n",
       "3          1679.520      5.976940   2.614292           4        ...          \n",
       "4            17.922      1.792200   1.692000           2        ...          \n",
       "\n",
       "   avg_purchase_shop_1  avg_purchase_shop_2  avg_purchase_shop_3  \\\n",
       "0            10.441143            14.862848             0.000000   \n",
       "1             3.761943             4.848720             2.546600   \n",
       "2             3.757062             5.605183             1.923385   \n",
       "3             4.997400             2.688400             5.029184   \n",
       "4             0.000000             0.967667             2.145571   \n",
       "\n",
       "   avg_purchase_shop_4  avg_purchase_shop_5  avg_price_shop_1  \\\n",
       "0                    0             0.000000          6.393403   \n",
       "1                    0            16.479185          2.851152   \n",
       "2                    0             5.924268          3.426687   \n",
       "3                    0             7.156351          4.997400   \n",
       "4                    0             0.000000          0.000000   \n",
       "\n",
       "   avg_price_shop_2  avg_price_shop_3  avg_price_shop_4  avg_price_shop_5  \n",
       "0          2.600485          0.000000                 0          0.000000  \n",
       "1          2.009863          2.059450                 0          2.103394  \n",
       "2          2.478529          1.923385                 0          1.947067  \n",
       "3          2.688400          2.083168                 0          2.754427  \n",
       "4          0.633667          2.145571                 0          0.000000  \n",
       "\n",
       "[5 rows x 40 columns]"
      ]
     },
     "execution_count": 4,
     "metadata": {},
     "output_type": "execute_result"
    }
   ],
   "source": [
    "data.head()"
   ]
  },
  {
   "cell_type": "code",
   "execution_count": 5,
   "metadata": {
    "collapsed": false,
    "scrolled": true
   },
   "outputs": [
    {
     "data": {
      "text/plain": [
       "array(['customer_id', 'avg_distance_to_shops', 'min_distance_to_shops',\n",
       "       'max_distance_to_shops', 'products_purchased',\n",
       "       'unique_products_purchased', 'amount_purchased', 'avg_purchase',\n",
       "       'avg_price', 'shops_used', 'distance_shop_1', 'distance_shop_2',\n",
       "       'distance_shop_3', 'distance_shop_4', 'distance_shop_5',\n",
       "       'products_purchased_shop_1', 'products_purchased_shop_2',\n",
       "       'products_purchased_shop_3', 'products_purchased_shop_4',\n",
       "       'products_purchased_shop_5', 'unique_products_purchased_shop_1',\n",
       "       'unique_products_purchased_shop_2',\n",
       "       'unique_products_purchased_shop_3',\n",
       "       'unique_products_purchased_shop_4',\n",
       "       'unique_products_purchased_shop_5', 'amount_purchased_shop_1',\n",
       "       'amount_purchased_shop_2', 'amount_purchased_shop_3',\n",
       "       'amount_purchased_shop_4', 'amount_purchased_shop_5',\n",
       "       'avg_purchase_shop_1', 'avg_purchase_shop_2', 'avg_purchase_shop_3',\n",
       "       'avg_purchase_shop_4', 'avg_purchase_shop_5', 'avg_price_shop_1',\n",
       "       'avg_price_shop_2', 'avg_price_shop_3', 'avg_price_shop_4',\n",
       "       'avg_price_shop_5'], dtype=object)"
      ]
     },
     "execution_count": 5,
     "metadata": {},
     "output_type": "execute_result"
    }
   ],
   "source": [
    "data.columns.values"
   ]
  },
  {
   "cell_type": "markdown",
   "metadata": {},
   "source": [
    "Let's get the distribution of average purchases in store according to shops (in this case five stores)"
   ]
  },
  {
   "cell_type": "code",
   "execution_count": 6,
   "metadata": {
    "collapsed": false
   },
   "outputs": [
    {
     "data": {
      "image/png": "[encoded data removed]",
      "text/plain": [
       "<matplotlib.figure.Figure at 0x114ee4b10>"
      ]
     },
     "metadata": {},
     "output_type": "display_data"
    }
   ],
   "source": [
    "list_purchase = []\n",
    "for k in range(1,6):\n",
    "    text_ = 'avg_purchase_shop_' + str(k)\n",
    "    aux_ = data[text_].sum()/1000.\n",
    "    #print k , aux_\n",
    "    list_purchase.append(aux_)\n",
    "dfAux = pd.DataFrame()\n",
    "dfAux['Store Number'] = [1,2,3,4,5]\n",
    "dfAux['Avg. Purchase in Shop'] = list_purchase\n",
    "\n",
    "dfAux.plot(x='Store Number',y='Avg. Purchase in Shop',kind='bar',\n",
    "           title='Average Purchase per Store',legend=False,grid=True)\n",
    "plt.xlabel('Shop Number')\n",
    "plt.ylabel('Avg. Purch. in Store (Thousands of Euros)')\n",
    "plt.show()"
   ]
  },
  {
   "cell_type": "markdown",
   "metadata": {},
   "source": [
    "Now distribution of customers according to the number of shops they use when they purchase"
   ]
  },
  {
   "cell_type": "code",
   "execution_count": 7,
   "metadata": {
    "collapsed": false
   },
   "outputs": [
    {
     "data": {
      "image/png": "[encoded data removed]",
      "text/plain": [
       "<matplotlib.figure.Figure at 0x114edfe90>"
      ]
     },
     "metadata": {},
     "output_type": "display_data"
    }
   ],
   "source": [
    "list_purchase = []\n",
    "for k in range(1,6):\n",
    "    #text_ = 'avg_purchase_shop_' + str(k)\n",
    "    aux_ = sum(data['shops_used']== k)\n",
    "    #perc_ = (float(aux_)/float(num_customers))*100\n",
    "    perc_ = float(aux_/1000.)\n",
    "    #print k , perc_\n",
    "    list_purchase.append(perc_)\n",
    "dfAux = pd.DataFrame()\n",
    "dfAux['Number of Shops Used'] = [1,2,3,4,5]\n",
    "dfAux['Number of Customers'] = list_purchase\n",
    "\n",
    "dfAux.plot(x='Number of Shops Used',y='Number of Customers',kind='bar',\n",
    "           title='Distribution of Customers According to Number of Stores Used',\n",
    "           legend=False,grid=True)\n",
    "plt.xlabel('Number of shops used ')\n",
    "plt.ylabel('Number of customers (thousands)')\n",
    "plt.show()"
   ]
  },
  {
   "cell_type": "markdown",
   "metadata": {
    "collapsed": false
   },
   "source": [
    "Distribution of customers according to the shop number"
   ]
  },
  {
   "cell_type": "code",
   "execution_count": 8,
   "metadata": {
    "collapsed": false
   },
   "outputs": [
    {
     "data": {
      "image/png": "[encoded data removed]",
      "text/plain": [
       "<matplotlib.figure.Figure at 0x114e6df50>"
      ]
     },
     "metadata": {},
     "output_type": "display_data"
    }
   ],
   "source": [
    "list_purchase = []\n",
    "for k in range(1,6):\n",
    "    text_ = 'avg_price_shop_' + str(k)\n",
    "    aux_ = sum(data[text_] <> 0)\n",
    "    #perc_ = aux_/float(num_customers)*100\n",
    "    perc_ = float(sum(data[text_] <> 0)/1000.)\n",
    "    #print k , perc_\n",
    "    list_purchase.append(perc_)\n",
    "dfAux = pd.DataFrame()\n",
    "dfAux['Shop Number'] = [1,2,3,4,5]\n",
    "dfAux['Number of Customers'] = list_purchase\n",
    "\n",
    "\n",
    "dfAux.plot(x='Shop Number',y='Number of Customers',kind='bar',\n",
    "           title='Distribution of Customers According to Store Number',\n",
    "           legend=False,grid=True)\n",
    "plt.xlabel('Shop Number')\n",
    "plt.ylabel('Number of Customers (Thousands)')\n",
    "plt.show()\n",
    "\n"
   ]
  },
  {
   "cell_type": "markdown",
   "metadata": {},
   "source": [
    "In what follows we will add to our data frame two columns. One of them will indicate the number of store that is closest to customer and the otherone indicating what is the farthest. "
   ]
  },
  {
   "cell_type": "code",
   "execution_count": 9,
   "metadata": {
    "collapsed": false
   },
   "outputs": [
    {
     "data": {
      "text/html": [
       "<div>\n",
       "<table border=\"1\" class=\"dataframe\">\n",
       "  <thead>\n",
       "    <tr style=\"text-align: right;\">\n",
       "      <th></th>\n",
       "      <th>distance_shop_1</th>\n",
       "      <th>distance_shop_2</th>\n",
       "      <th>distance_shop_3</th>\n",
       "      <th>distance_shop_4</th>\n",
       "      <th>distance_shop_5</th>\n",
       "    </tr>\n",
       "  </thead>\n",
       "  <tbody>\n",
       "    <tr>\n",
       "      <th>0</th>\n",
       "      <td>4082.5222</td>\n",
       "      <td>985.8762</td>\n",
       "      <td>2372.09700</td>\n",
       "      <td>4929.8047</td>\n",
       "      <td>3284.38670</td>\n",
       "    </tr>\n",
       "    <tr>\n",
       "      <th>1</th>\n",
       "      <td>1115.3433</td>\n",
       "      <td>2295.4840</td>\n",
       "      <td>670.90080</td>\n",
       "      <td>2048.0605</td>\n",
       "      <td>254.94832</td>\n",
       "    </tr>\n",
       "    <tr>\n",
       "      <th>2</th>\n",
       "      <td>1418.8348</td>\n",
       "      <td>2831.7727</td>\n",
       "      <td>1286.81900</td>\n",
       "      <td>1545.1963</td>\n",
       "      <td>754.29560</td>\n",
       "    </tr>\n",
       "    <tr>\n",
       "      <th>3</th>\n",
       "      <td>1104.3829</td>\n",
       "      <td>2210.3820</td>\n",
       "      <td>617.28710</td>\n",
       "      <td>2181.6853</td>\n",
       "      <td>362.79178</td>\n",
       "    </tr>\n",
       "    <tr>\n",
       "      <th>4</th>\n",
       "      <td>1913.7630</td>\n",
       "      <td>1375.1184</td>\n",
       "      <td>275.46753</td>\n",
       "      <td>2961.3035</td>\n",
       "      <td>1172.37730</td>\n",
       "    </tr>\n",
       "  </tbody>\n",
       "</table>\n",
       "</div>"
      ],
      "text/plain": [
       "   distance_shop_1  distance_shop_2  distance_shop_3  distance_shop_4  \\\n",
       "0        4082.5222         985.8762       2372.09700        4929.8047   \n",
       "1        1115.3433        2295.4840        670.90080        2048.0605   \n",
       "2        1418.8348        2831.7727       1286.81900        1545.1963   \n",
       "3        1104.3829        2210.3820        617.28710        2181.6853   \n",
       "4        1913.7630        1375.1184        275.46753        2961.3035   \n",
       "\n",
       "   distance_shop_5  \n",
       "0       3284.38670  \n",
       "1        254.94832  \n",
       "2        754.29560  \n",
       "3        362.79178  \n",
       "4       1172.37730  "
      ]
     },
     "execution_count": 9,
     "metadata": {},
     "output_type": "execute_result"
    }
   ],
   "source": [
    "data[['distance_shop_1', 'distance_shop_2',\n",
    "       'distance_shop_3', 'distance_shop_4', 'distance_shop_5']].head()"
   ]
  },
  {
   "cell_type": "code",
   "execution_count": 10,
   "metadata": {
    "collapsed": true
   },
   "outputs": [],
   "source": [
    "dist_ = data[['distance_shop_1', 'distance_shop_2',\n",
    "       'distance_shop_3', 'distance_shop_4', 'distance_shop_5']].values"
   ]
  },
  {
   "cell_type": "code",
   "execution_count": 11,
   "metadata": {
    "collapsed": false
   },
   "outputs": [],
   "source": [
    "closest = []\n",
    "farthest = []\n",
    "for k in range(num_customers):\n",
    "    Min = 1 + dist_[k,:].argmin()\n",
    "    Max = 1 + dist_[k,:].argmax()\n",
    "    closest.append(Min)\n",
    "    farthest.append(Max)\n",
    "data['closest_shop'] = closest\n",
    "data['farthest_shop'] = farthest"
   ]
  },
  {
   "cell_type": "code",
   "execution_count": 12,
   "metadata": {
    "collapsed": false
   },
   "outputs": [
    {
     "data": {
      "text/html": [
       "<div>\n",
       "<table border=\"1\" class=\"dataframe\">\n",
       "  <thead>\n",
       "    <tr style=\"text-align: right;\">\n",
       "      <th></th>\n",
       "      <th>distance_shop_1</th>\n",
       "      <th>distance_shop_2</th>\n",
       "      <th>distance_shop_3</th>\n",
       "      <th>distance_shop_4</th>\n",
       "      <th>distance_shop_5</th>\n",
       "      <th>closest_shop</th>\n",
       "      <th>farthest_shop</th>\n",
       "    </tr>\n",
       "  </thead>\n",
       "  <tbody>\n",
       "    <tr>\n",
       "      <th>0</th>\n",
       "      <td>4082.5222</td>\n",
       "      <td>985.8762</td>\n",
       "      <td>2372.09700</td>\n",
       "      <td>4929.8047</td>\n",
       "      <td>3284.38670</td>\n",
       "      <td>2</td>\n",
       "      <td>4</td>\n",
       "    </tr>\n",
       "    <tr>\n",
       "      <th>1</th>\n",
       "      <td>1115.3433</td>\n",
       "      <td>2295.4840</td>\n",
       "      <td>670.90080</td>\n",
       "      <td>2048.0605</td>\n",
       "      <td>254.94832</td>\n",
       "      <td>5</td>\n",
       "      <td>2</td>\n",
       "    </tr>\n",
       "    <tr>\n",
       "      <th>2</th>\n",
       "      <td>1418.8348</td>\n",
       "      <td>2831.7727</td>\n",
       "      <td>1286.81900</td>\n",
       "      <td>1545.1963</td>\n",
       "      <td>754.29560</td>\n",
       "      <td>5</td>\n",
       "      <td>2</td>\n",
       "    </tr>\n",
       "    <tr>\n",
       "      <th>3</th>\n",
       "      <td>1104.3829</td>\n",
       "      <td>2210.3820</td>\n",
       "      <td>617.28710</td>\n",
       "      <td>2181.6853</td>\n",
       "      <td>362.79178</td>\n",
       "      <td>5</td>\n",
       "      <td>2</td>\n",
       "    </tr>\n",
       "    <tr>\n",
       "      <th>4</th>\n",
       "      <td>1913.7630</td>\n",
       "      <td>1375.1184</td>\n",
       "      <td>275.46753</td>\n",
       "      <td>2961.3035</td>\n",
       "      <td>1172.37730</td>\n",
       "      <td>3</td>\n",
       "      <td>4</td>\n",
       "    </tr>\n",
       "  </tbody>\n",
       "</table>\n",
       "</div>"
      ],
      "text/plain": [
       "   distance_shop_1  distance_shop_2  distance_shop_3  distance_shop_4  \\\n",
       "0        4082.5222         985.8762       2372.09700        4929.8047   \n",
       "1        1115.3433        2295.4840        670.90080        2048.0605   \n",
       "2        1418.8348        2831.7727       1286.81900        1545.1963   \n",
       "3        1104.3829        2210.3820        617.28710        2181.6853   \n",
       "4        1913.7630        1375.1184        275.46753        2961.3035   \n",
       "\n",
       "   distance_shop_5  closest_shop  farthest_shop  \n",
       "0       3284.38670             2              4  \n",
       "1        254.94832             5              2  \n",
       "2        754.29560             5              2  \n",
       "3        362.79178             5              2  \n",
       "4       1172.37730             3              4  "
      ]
     },
     "execution_count": 12,
     "metadata": {},
     "output_type": "execute_result"
    }
   ],
   "source": [
    "data[['distance_shop_1', 'distance_shop_2',\n",
    "       'distance_shop_3', 'distance_shop_4', 'distance_shop_5','closest_shop',\n",
    "      'farthest_shop']].head()"
   ]
  },
  {
   "cell_type": "markdown",
   "metadata": {},
   "source": [
    "We now see distribution of customers according to closeness to store"
   ]
  },
  {
   "cell_type": "code",
   "execution_count": 13,
   "metadata": {
    "collapsed": false
   },
   "outputs": [
    {
     "data": {
      "image/png": "[encoded data removed]",
      "text/plain": [
       "<matplotlib.figure.Figure at 0x1151e9bd0>"
      ]
     },
     "metadata": {},
     "output_type": "display_data"
    }
   ],
   "source": [
    "list_purchase = []\n",
    "for k in range(1,6):\n",
    "    aux_ = sum(data['closest_shop'] == k)\n",
    "    #perc_ = aux_/float(num_customers)*100\n",
    "    perc_ = float(aux_/1000.)\n",
    "    #print k , perc_\n",
    "    list_purchase.append(perc_)\n",
    "dfAux = pd.DataFrame()\n",
    "dfAux['Shop Number'] = [1,2,3,4,5]\n",
    "dfAux['Customers Closest to Store'] = list_purchase\n",
    "\n",
    "\n",
    "dfAux.plot(x='Shop Number',y='Customers Closest to Store',kind='bar',\n",
    "           title='Distribution of Customers According to Closeness to Stores',\n",
    "           legend=False,grid=True)\n",
    "plt.xlabel('Shop Number')\n",
    "plt.ylabel('Number of customers (thousands)')\n",
    "plt.show()\n"
   ]
  },
  {
   "cell_type": "code",
   "execution_count": 14,
   "metadata": {
    "collapsed": false
   },
   "outputs": [
    {
     "data": {
      "image/png": "[encoded data removed]",
      "text/plain": [
       "<matplotlib.figure.Figure at 0x11610a2d0>"
      ]
     },
     "metadata": {},
     "output_type": "display_data"
    }
   ],
   "source": [
    "# PERCENTAGE OF CUSTOMER WHO PURCHASE AT A GIVEN STORE ARE IN FACT CLOSEST TO THAT STORE\n",
    "# FOR CUSTOMERS WHO PURCHASE IN ONLY ONE STORE\n",
    "\n",
    "list_purchase = []\n",
    "rest = []\n",
    "for k in range(1,6):\n",
    "    df_aux = data[data['closest_shop'] == k][['amount_purchased_shop_'+str(k),'shops_used']]\n",
    "    #aux_ = sum(data['closest_shop'] == k)\n",
    "    aux_ = df_aux.shape[0]\n",
    "    #aux2 = sum((data['closest_shop'] == k) & (data['amount_purchased_shop_'+str(k)] !=0 ) &\n",
    "# (data['shops_used'] == 1)) \n",
    "    aux2 = sum((df_aux['amount_purchased_shop_'+str(k)] !=0 ) & (df_aux['shops_used'] == 1)) \n",
    "    #perc_ = aux_/float(num_customers)*100\n",
    "    perc_ = float(aux2)*100/float(aux_)\n",
    "    #print k , perc_\n",
    "    list_purchase.append(perc_)\n",
    "    rest.append(100. - perc_)\n",
    "dfAux = pd.DataFrame()\n",
    "#dfAux['Shop Number'] = [1,2,3,4,5]\n",
    "dfAux['Customers Closest to Store'] = list_purchase\n",
    "#dfAux['Customers Closest to another store'] = rest\n",
    "dfAux.index = range(1,6)\n",
    "\n",
    "\n",
    "#dfAux.plot(x='Shop Number',y='Customers Closest to Store',kind='bar',\n",
    "#           title='Distribution of Customers According to Closeness to Stores',\n",
    "#           legend=False,grid=True)\n",
    "dfAux.plot(kind='bar',title='Distribution of Customers According to Closeness to Stores',\n",
    "           legend=False) #,stacked=True)\n",
    "plt.xlabel('Shop Number')\n",
    "plt.ylabel('Number of customers (thousands)')\n",
    "plt.show()\n",
    "\n",
    "\n",
    "\n"
   ]
  },
  {
   "cell_type": "code",
   "execution_count": 15,
   "metadata": {
    "collapsed": false
   },
   "outputs": [
    {
     "data": {
      "text/html": [
       "<div>\n",
       "<table border=\"1\" class=\"dataframe\">\n",
       "  <thead>\n",
       "    <tr style=\"text-align: right;\">\n",
       "      <th></th>\n",
       "      <th>Customers Closest to Store</th>\n",
       "    </tr>\n",
       "  </thead>\n",
       "  <tbody>\n",
       "    <tr>\n",
       "      <th>1</th>\n",
       "      <td>22.463402</td>\n",
       "    </tr>\n",
       "    <tr>\n",
       "      <th>2</th>\n",
       "      <td>8.179448</td>\n",
       "    </tr>\n",
       "    <tr>\n",
       "      <th>3</th>\n",
       "      <td>2.124183</td>\n",
       "    </tr>\n",
       "    <tr>\n",
       "      <th>4</th>\n",
       "      <td>3.280961</td>\n",
       "    </tr>\n",
       "    <tr>\n",
       "      <th>5</th>\n",
       "      <td>2.166847</td>\n",
       "    </tr>\n",
       "  </tbody>\n",
       "</table>\n",
       "</div>"
      ],
      "text/plain": [
       "   Customers Closest to Store\n",
       "1                   22.463402\n",
       "2                    8.179448\n",
       "3                    2.124183\n",
       "4                    3.280961\n",
       "5                    2.166847"
      ]
     },
     "execution_count": 15,
     "metadata": {},
     "output_type": "execute_result"
    }
   ],
   "source": [
    "dfAux"
   ]
  },
  {
   "cell_type": "code",
   "execution_count": 16,
   "metadata": {
    "collapsed": false
   },
   "outputs": [
    {
     "data": {
      "text/plain": [
       "445"
      ]
     },
     "execution_count": 16,
     "metadata": {},
     "output_type": "execute_result"
    }
   ],
   "source": [
    "sum((data['closest_shop'] == 1) & (data['amount_purchased_shop_1'] !=0 ) &\n",
    " (data['shops_used'] == 1)) "
   ]
  },
  {
   "cell_type": "code",
   "execution_count": 17,
   "metadata": {
    "collapsed": false
   },
   "outputs": [
    {
     "data": {
      "image/png": "[encoded data removed]",
      "text/plain": [
       "<matplotlib.figure.Figure at 0x11536b310>"
      ]
     },
     "metadata": {},
     "output_type": "display_data"
    }
   ],
   "source": [
    "list_purchase = []\n",
    "for k in range(1,6):\n",
    "    aux_ = sum(data['farthest_shop'] == k)\n",
    "    #perc_ = aux_/float(num_customers)*100\n",
    "    perc_ = float(aux_/1000.)\n",
    "    #print k , perc_\n",
    "    list_purchase.append(perc_)\n",
    "dfAux = pd.DataFrame()\n",
    "#dfAux['Shop Number'] = [1,2,3,4,5]\n",
    "dfAux['Customers Farthest to Store'] = list_purchase\n",
    "\n",
    "\n",
    "dfAux.plot(y='Customers Farthest to Store',kind='bar',\n",
    "           title='Distribution of Customers According to Fartheness to Stores',\n",
    "           legend=False,grid=True)\n",
    "plt.xlabel('Shop Number')\n",
    "plt.ylabel('Number of customers (thousands)')\n",
    "plt.show()\n"
   ]
  },
  {
   "cell_type": "markdown",
   "metadata": {},
   "source": [
    "Let's now get auxiliary data frames related with customers that purschased ONLY in each individual store"
   ]
  },
  {
   "cell_type": "code",
   "execution_count": 18,
   "metadata": {
    "collapsed": false,
    "scrolled": true
   },
   "outputs": [],
   "source": [
    "# Data frame for users who purchased ONLY in shop 1\n",
    "df1 = data[(data.amount_purchased_shop_2 == 0.) & (data.amount_purchased_shop_3 == 0.) &\n",
    "          (data.amount_purchased_shop_4 == 0.) & (data.amount_purchased_shop_5 == 0.)]\n",
    "num_1 = df1.shape[0]\n",
    "close11 = sum(df1.closest_shop == 1)\n",
    "close12 = sum(df1.closest_shop == 2)\n",
    "close13 = sum(df1.closest_shop == 3)\n",
    "close14 = sum(df1.closest_shop == 4)\n",
    "close15 = sum(df1.closest_shop == 5)\n",
    "\n",
    "\n",
    "# Data frame for users who purchased ONLY in shop 2\n",
    "df2 = data[(data.amount_purchased_shop_1 == 0.) & (data.amount_purchased_shop_3 == 0.) &\n",
    "          (data.amount_purchased_shop_4 == 0.) & (data.amount_purchased_shop_5 == 0.)]\n",
    "num_2 = df2.shape[0]\n",
    "close21 = sum(df2.closest_shop == 1)\n",
    "close22 = sum(df2.closest_shop == 2)\n",
    "close23 = sum(df2.closest_shop == 3)\n",
    "close24 = sum(df2.closest_shop == 4)\n",
    "close25 = sum(df2.closest_shop == 5)\n",
    "\n",
    "\n",
    "# Data frame for users who purchased ONLY in shop 3\n",
    "df3 = data[(data.amount_purchased_shop_1 == 0.) & (data.amount_purchased_shop_2 == 0.) &\n",
    "          (data.amount_purchased_shop_4 == 0.) & (data.amount_purchased_shop_5 == 0.)]\n",
    "num_3 = df3.shape[0]\n",
    "close31 = sum(df3.closest_shop == 1)\n",
    "close32 = sum(df3.closest_shop == 2)\n",
    "close33 = sum(df3.closest_shop == 3)\n",
    "close34 = sum(df3.closest_shop == 4)\n",
    "close35 = sum(df3.closest_shop == 5)\n",
    "\n",
    "\n",
    "# Data frame for users who purchased ONLY in shop 4\n",
    "df4 = data[(data.amount_purchased_shop_1 == 0.) & (data.amount_purchased_shop_2 == 0.) &\n",
    "          (data.amount_purchased_shop_3 == 0.) & (data.amount_purchased_shop_5 == 0.)]\n",
    "num_4 = df4.shape[0]\n",
    "close41 = sum(df4.closest_shop == 1)\n",
    "close42 = sum(df4.closest_shop == 2)\n",
    "close43 = sum(df4.closest_shop == 3)\n",
    "close44 = sum(df4.closest_shop == 4)\n",
    "close45 = sum(df4.closest_shop == 5)\n",
    "\n",
    "\n",
    "# Data frame for users who purchased ONLY in shop 5\n",
    "df5 = data[(data.amount_purchased_shop_1 == 0.) & (data.amount_purchased_shop_2 == 0.) &\n",
    "          (data.amount_purchased_shop_3 == 0.) & (data.amount_purchased_shop_4 == 0.)]\n",
    "num_5 = df5.shape[0]\n",
    "close51 = sum(df5.closest_shop == 1)\n",
    "close52 = sum(df5.closest_shop == 2)\n",
    "close53 = sum(df5.closest_shop == 3)\n",
    "close54 = sum(df5.closest_shop == 4)\n",
    "close55 = sum(df5.closest_shop == 5)\n",
    "\n"
   ]
  },
  {
   "cell_type": "markdown",
   "metadata": {},
   "source": [
    "We check consistency with our initial data frame"
   ]
  },
  {
   "cell_type": "code",
   "execution_count": 19,
   "metadata": {
    "collapsed": false
   },
   "outputs": [
    {
     "name": "stdout",
     "output_type": "stream",
     "text": [
      "11710\n",
      "11710\n"
     ]
    }
   ],
   "source": [
    "print num_1 + num_2 + num_3 + num_4 + num_5\n",
    "print sum(data.shops_used == 1)"
   ]
  },
  {
   "cell_type": "markdown",
   "metadata": {},
   "source": [
    "Let's see distribution of customers who purchased ONLY in one store and how many of them where closest to THAT particular store"
   ]
  },
  {
   "cell_type": "code",
   "execution_count": 20,
   "metadata": {
    "collapsed": false
   },
   "outputs": [],
   "source": [
    "#del df_close\n",
    "one_store = [num_1,num_2,num_3,num_4,num_5]\n",
    "closest_to_1 = [close11,close21,close31,close41,close51]\n",
    "closest_to_2 = [close12,close22,close32,close42,close52]\n",
    "closest_to_3 = [close13,close23,close33,close43,close53]\n",
    "closest_to_4 = [close14,close24,close34,close44,close54]\n",
    "closest_to_5 = [close15,close25,close35,close45,close55]\n",
    "\n",
    "df_close = pd.DataFrame()\n",
    "df_close['Total customers'] = one_store\n",
    "df_close['Closest to 1'] = closest_to_1\n",
    "df_close['Closest to 2'] = closest_to_2\n",
    "df_close['Closest to 3'] = closest_to_3\n",
    "df_close['Closest to 4'] = closest_to_4\n",
    "df_close['Closest to 5'] = closest_to_5\n",
    "df_close.index = range(1,6)\n"
   ]
  },
  {
   "cell_type": "code",
   "execution_count": 21,
   "metadata": {
    "collapsed": false
   },
   "outputs": [
    {
     "data": {
      "text/html": [
       "<div>\n",
       "<table border=\"1\" class=\"dataframe\">\n",
       "  <thead>\n",
       "    <tr style=\"text-align: right;\">\n",
       "      <th></th>\n",
       "      <th>Total customers</th>\n",
       "      <th>Closest to 1</th>\n",
       "      <th>Closest to 2</th>\n",
       "      <th>Closest to 3</th>\n",
       "      <th>Closest to 4</th>\n",
       "      <th>Closest to 5</th>\n",
       "    </tr>\n",
       "  </thead>\n",
       "  <tbody>\n",
       "    <tr>\n",
       "      <th>1</th>\n",
       "      <td>7987</td>\n",
       "      <td>445</td>\n",
       "      <td>1019</td>\n",
       "      <td>1557</td>\n",
       "      <td>3112</td>\n",
       "      <td>1854</td>\n",
       "    </tr>\n",
       "    <tr>\n",
       "      <th>2</th>\n",
       "      <td>2470</td>\n",
       "      <td>18</td>\n",
       "      <td>1506</td>\n",
       "      <td>519</td>\n",
       "      <td>196</td>\n",
       "      <td>231</td>\n",
       "    </tr>\n",
       "    <tr>\n",
       "      <th>3</th>\n",
       "      <td>449</td>\n",
       "      <td>10</td>\n",
       "      <td>18</td>\n",
       "      <td>338</td>\n",
       "      <td>36</td>\n",
       "      <td>47</td>\n",
       "    </tr>\n",
       "    <tr>\n",
       "      <th>4</th>\n",
       "      <td>478</td>\n",
       "      <td>4</td>\n",
       "      <td>9</td>\n",
       "      <td>19</td>\n",
       "      <td>426</td>\n",
       "      <td>20</td>\n",
       "    </tr>\n",
       "    <tr>\n",
       "      <th>5</th>\n",
       "      <td>326</td>\n",
       "      <td>24</td>\n",
       "      <td>16</td>\n",
       "      <td>19</td>\n",
       "      <td>27</td>\n",
       "      <td>240</td>\n",
       "    </tr>\n",
       "  </tbody>\n",
       "</table>\n",
       "</div>"
      ],
      "text/plain": [
       "   Total customers  Closest to 1  Closest to 2  Closest to 3  Closest to 4  \\\n",
       "1             7987           445          1019          1557          3112   \n",
       "2             2470            18          1506           519           196   \n",
       "3              449            10            18           338            36   \n",
       "4              478             4             9            19           426   \n",
       "5              326            24            16            19            27   \n",
       "\n",
       "   Closest to 5  \n",
       "1          1854  \n",
       "2           231  \n",
       "3            47  \n",
       "4            20  \n",
       "5           240  "
      ]
     },
     "execution_count": 21,
     "metadata": {},
     "output_type": "execute_result"
    }
   ],
   "source": [
    "df_close"
   ]
  },
  {
   "cell_type": "code",
   "execution_count": 22,
   "metadata": {
    "collapsed": false
   },
   "outputs": [
    {
     "data": {
      "image/png": "[encoded data removed]",
      "text/plain": [
       "<matplotlib.figure.Figure at 0x116114550>"
      ]
     },
     "metadata": {},
     "output_type": "display_data"
    }
   ],
   "source": [
    "df_stack = df_close[['Closest to 1','Closest to 2','Closest to 3',\n",
    "                     'Closest to 4','Closest to 5']]\n",
    "df_stack.plot(kind='bar',\n",
    "           title='Distribution of Customers Purchased in only one store',stacked=True)\n",
    "plt.xlabel('Shop chosen')\n",
    "plt.ylabel('Number of customers')\n",
    "plt.show()"
   ]
  },
  {
   "cell_type": "code",
   "execution_count": 23,
   "metadata": {
    "collapsed": true
   },
   "outputs": [],
   "source": [
    "# Data frame for users who purchased in only ONE shop\n",
    "df1 = data[(data.amount_purchased_shop_1 != 0.) & (data.shops_used == 1)]\n",
    "num_1 = df1.shape[0]\n",
    "close11 = sum(df1.closest_shop == 1)\n",
    "close12 = sum(df1.closest_shop == 2)\n",
    "close13 = sum(df1.closest_shop == 3)\n",
    "close14 = sum(df1.closest_shop == 4)\n",
    "close15 = sum(df1.closest_shop == 5)\n",
    "\n",
    "\n",
    "# Data frame for users who purchased ONLY in shop 2\n",
    "df2 = data[(data.amount_purchased_shop_2 != 0.) & (data.shops_used == 1)]\n",
    "num_2 = df2.shape[0]\n",
    "close21 = sum(df2.closest_shop == 1)\n",
    "close22 = sum(df2.closest_shop == 2)\n",
    "close23 = sum(df2.closest_shop == 3)\n",
    "close24 = sum(df2.closest_shop == 4)\n",
    "close25 = sum(df2.closest_shop == 5)\n",
    "\n",
    "\n",
    "# Data frame for users who purchased ONLY in shop 3\n",
    "df3 = data[(data.amount_purchased_shop_3 != 0.) & (data.shops_used == 1)]\n",
    "num_3 = df3.shape[0]\n",
    "close31 = sum(df3.closest_shop == 1)\n",
    "close32 = sum(df3.closest_shop == 2)\n",
    "close33 = sum(df3.closest_shop == 3)\n",
    "close34 = sum(df3.closest_shop == 4)\n",
    "close35 = sum(df3.closest_shop == 5)\n",
    "\n",
    "\n",
    "# Data frame for users who purchased ONLY in shop 4\n",
    "df4 = data[(data.amount_purchased_shop_4 != 0.) & (data.shops_used == 1)]\n",
    "num_4 = df4.shape[0]\n",
    "close41 = sum(df4.closest_shop == 1)\n",
    "close42 = sum(df4.closest_shop == 2)\n",
    "close43 = sum(df4.closest_shop == 3)\n",
    "close44 = sum(df4.closest_shop == 4)\n",
    "close45 = sum(df4.closest_shop == 5)\n",
    "\n",
    "\n",
    "# Data frame for users who purchased ONLY in shop 5\n",
    "df5 = data[(data.amount_purchased_shop_5 != 0.) & (data.shops_used == 1)]\n",
    "num_5 = df5.shape[0]\n",
    "close51 = sum(df5.closest_shop == 1)\n",
    "close52 = sum(df5.closest_shop == 2)\n",
    "close53 = sum(df5.closest_shop == 3)\n",
    "close54 = sum(df5.closest_shop == 4)\n",
    "close55 = sum(df5.closest_shop == 5)\n",
    "\n"
   ]
  },
  {
   "cell_type": "code",
   "execution_count": 24,
   "metadata": {
    "collapsed": false
   },
   "outputs": [
    {
     "name": "stdout",
     "output_type": "stream",
     "text": [
      "11710\n",
      "11710\n"
     ]
    }
   ],
   "source": [
    "print num_1 + num_2 + num_3 + num_4 + num_5\n",
    "print sum(data.shops_used == 1)"
   ]
  },
  {
   "cell_type": "code",
   "execution_count": 25,
   "metadata": {
    "collapsed": true
   },
   "outputs": [],
   "source": [
    "del df_close\n",
    "one_store = [num_1,num_2,num_3,num_4,num_5]\n",
    "closest_to_1 = [close11,close21,close31,close41,close51]\n",
    "closest_to_2 = [close12,close22,close32,close42,close52]\n",
    "closest_to_3 = [close13,close23,close33,close43,close53]\n",
    "closest_to_4 = [close14,close24,close34,close44,close54]\n",
    "closest_to_5 = [close15,close25,close35,close45,close55]\n",
    "\n",
    "df_close = pd.DataFrame()\n",
    "df_close['Total customers'] = one_store\n",
    "df_close['Closest to 1'] = closest_to_1\n",
    "df_close['Closest to 2'] = closest_to_2\n",
    "df_close['Closest to 3'] = closest_to_3\n",
    "df_close['Closest to 4'] = closest_to_4\n",
    "df_close['Closest to 5'] = closest_to_5\n",
    "df_close.index = range(1,6)\n"
   ]
  },
  {
   "cell_type": "code",
   "execution_count": 26,
   "metadata": {
    "collapsed": false
   },
   "outputs": [
    {
     "data": {
      "text/html": [
       "<div>\n",
       "<table border=\"1\" class=\"dataframe\">\n",
       "  <thead>\n",
       "    <tr style=\"text-align: right;\">\n",
       "      <th></th>\n",
       "      <th>Total customers</th>\n",
       "      <th>Closest to 1</th>\n",
       "      <th>Closest to 2</th>\n",
       "      <th>Closest to 3</th>\n",
       "      <th>Closest to 4</th>\n",
       "      <th>Closest to 5</th>\n",
       "    </tr>\n",
       "  </thead>\n",
       "  <tbody>\n",
       "    <tr>\n",
       "      <th>1</th>\n",
       "      <td>7987</td>\n",
       "      <td>445</td>\n",
       "      <td>1019</td>\n",
       "      <td>1557</td>\n",
       "      <td>3112</td>\n",
       "      <td>1854</td>\n",
       "    </tr>\n",
       "    <tr>\n",
       "      <th>2</th>\n",
       "      <td>2470</td>\n",
       "      <td>18</td>\n",
       "      <td>1506</td>\n",
       "      <td>519</td>\n",
       "      <td>196</td>\n",
       "      <td>231</td>\n",
       "    </tr>\n",
       "    <tr>\n",
       "      <th>3</th>\n",
       "      <td>449</td>\n",
       "      <td>10</td>\n",
       "      <td>18</td>\n",
       "      <td>338</td>\n",
       "      <td>36</td>\n",
       "      <td>47</td>\n",
       "    </tr>\n",
       "    <tr>\n",
       "      <th>4</th>\n",
       "      <td>478</td>\n",
       "      <td>4</td>\n",
       "      <td>9</td>\n",
       "      <td>19</td>\n",
       "      <td>426</td>\n",
       "      <td>20</td>\n",
       "    </tr>\n",
       "    <tr>\n",
       "      <th>5</th>\n",
       "      <td>326</td>\n",
       "      <td>24</td>\n",
       "      <td>16</td>\n",
       "      <td>19</td>\n",
       "      <td>27</td>\n",
       "      <td>240</td>\n",
       "    </tr>\n",
       "  </tbody>\n",
       "</table>\n",
       "</div>"
      ],
      "text/plain": [
       "   Total customers  Closest to 1  Closest to 2  Closest to 3  Closest to 4  \\\n",
       "1             7987           445          1019          1557          3112   \n",
       "2             2470            18          1506           519           196   \n",
       "3              449            10            18           338            36   \n",
       "4              478             4             9            19           426   \n",
       "5              326            24            16            19            27   \n",
       "\n",
       "   Closest to 5  \n",
       "1          1854  \n",
       "2           231  \n",
       "3            47  \n",
       "4            20  \n",
       "5           240  "
      ]
     },
     "execution_count": 26,
     "metadata": {},
     "output_type": "execute_result"
    }
   ],
   "source": [
    "df_close"
   ]
  },
  {
   "cell_type": "code",
   "execution_count": 27,
   "metadata": {
    "collapsed": false
   },
   "outputs": [
    {
     "data": {
      "image/png": "[encoded data removed]",
      "text/plain": [
       "<matplotlib.figure.Figure at 0x11617f450>"
      ]
     },
     "metadata": {},
     "output_type": "display_data"
    }
   ],
   "source": [
    "df_stack = df_close[['Closest to 1','Closest to 2','Closest to 3',\n",
    "                     'Closest to 4','Closest to 5']]\n",
    "df_stack.plot(kind='bar',\n",
    "           title='Distribution of Customers Purchased in only one store',stacked=True)\n",
    "plt.xlabel('Shop chosen')\n",
    "plt.ylabel('Number of customers')\n",
    "plt.show()"
   ]
  },
  {
   "cell_type": "code",
   "execution_count": 28,
   "metadata": {
    "collapsed": true
   },
   "outputs": [],
   "source": [
    "# Data frame for users who purchased in only TWO shops\n",
    "df_1_and_2 = data[(data.amount_purchased_shop_1 != 0.) &\n",
    "                        (data.amount_purchased_shop_2 != 0.) & (data.shops_used == 2)]\n",
    "\n",
    "pair_12 = df_1_and_2.shape[0]\n",
    "\n",
    "\n",
    "df_1_and_3 = data[(data.amount_purchased_shop_1 != 0.) &\n",
    "                        (data.amount_purchased_shop_3 != 0.) & (data.shops_used == 2)]\n",
    "\n",
    "pair_13 = df_1_and_3.shape[0]\n",
    "\n",
    "df_1_and_4 = data[(data.amount_purchased_shop_1 != 0.) &\n",
    "                        (data.amount_purchased_shop_4 != 0.) & (data.shops_used == 2)]\n",
    "\n",
    "pair_14 = df_1_and_4.shape[0]\n",
    "\n",
    "df_1_and_5 = data[(data.amount_purchased_shop_1 != 0.) &\n",
    "                        (data.amount_purchased_shop_5 != 0.) & (data.shops_used == 2)]\n",
    "\n",
    "pair_15 = df_1_and_5.shape[0]\n",
    "\n",
    "df_2_and_3 = data[(data.amount_purchased_shop_2 != 0.) &\n",
    "                        (data.amount_purchased_shop_3 != 0.) & (data.shops_used == 2)]\n",
    "\n",
    "pair_23 = df_2_and_3.shape[0]\n",
    "\n",
    "df_2_and_4 = data[(data.amount_purchased_shop_2 != 0.) &\n",
    "                        (data.amount_purchased_shop_4 != 0.) & (data.shops_used == 2)]\n",
    "\n",
    "pair_24 = df_2_and_4.shape[0]\n",
    "\n",
    "df_2_and_5 = data[(data.amount_purchased_shop_2 != 0.) &\n",
    "                        (data.amount_purchased_shop_5 != 0.) & (data.shops_used == 2)]\n",
    "\n",
    "pair_25 = df_2_and_5.shape[0]\n",
    "\n",
    "df_3_and_4 = data[(data.amount_purchased_shop_3 != 0.) &\n",
    "                        (data.amount_purchased_shop_4 != 0.) & (data.shops_used == 2)]\n",
    "\n",
    "pair_34 = df_3_and_4.shape[0]\n",
    "\n",
    "df_3_and_5 = data[(data.amount_purchased_shop_3 != 0.) &\n",
    "                        (data.amount_purchased_shop_5 != 0.) & (data.shops_used == 2)]\n",
    "\n",
    "pair_35 = df_3_and_5.shape[0]\n",
    "\n",
    "df_4_and_5 = data[(data.amount_purchased_shop_4 != 0.) &\n",
    "                        (data.amount_purchased_shop_5 != 0.) & (data.shops_used == 2)]\n",
    "\n",
    "pair_45 = df_4_and_5.shape[0]\n"
   ]
  },
  {
   "cell_type": "code",
   "execution_count": 29,
   "metadata": {
    "collapsed": false
   },
   "outputs": [
    {
     "name": "stdout",
     "output_type": "stream",
     "text": [
      "18819 7987 2470\n",
      "1639 7987 449\n",
      "1806 7987 478\n",
      "1198 7987 326\n",
      "========================\n",
      "414 2470 449\n",
      "178 2470 478\n",
      "140 2470 326\n",
      "========================\n",
      "34 449 478\n",
      "101 449 326\n",
      "========================\n",
      "33 478 326\n"
     ]
    }
   ],
   "source": [
    "print pair_12, num_1, num_2\n",
    "print pair_13, num_1, num_3\n",
    "print pair_14, num_1, num_4\n",
    "print pair_15, num_1, num_5\n",
    "print \"===\"*8\n",
    "print pair_23, num_2, num_3\n",
    "print pair_24, num_2, num_4\n",
    "print pair_25, num_2, num_5\n",
    "print \"===\"*8\n",
    "print pair_34, num_3, num_4\n",
    "print pair_35, num_3, num_5\n",
    "print \"===\"*8\n",
    "print pair_45, num_4, num_5"
   ]
  },
  {
   "cell_type": "code",
   "execution_count": 30,
   "metadata": {
    "collapsed": false
   },
   "outputs": [
    {
     "name": "stdout",
     "output_type": "stream",
     "text": [
      "343\n",
      "9785\n",
      "4215\n"
     ]
    }
   ],
   "source": [
    "print sum(df_1_and_2.closest_shop == 1)\n",
    "print sum(df_1_and_2.closest_shop == 2)\n",
    "print sum(df_1_and_2.closest_shop == 3)"
   ]
  },
  {
   "cell_type": "code",
   "execution_count": 31,
   "metadata": {
    "collapsed": false
   },
   "outputs": [
    {
     "data": {
      "text/html": [
       "<div>\n",
       "<table border=\"1\" class=\"dataframe\">\n",
       "  <thead>\n",
       "    <tr style=\"text-align: right;\">\n",
       "      <th></th>\n",
       "      <th>amount_purchased</th>\n",
       "      <th>amount_purchased_shop_1</th>\n",
       "      <th>amount_purchased_shop_2</th>\n",
       "      <th>amount_purchased_shop_3</th>\n",
       "      <th>amount_purchased_shop_4</th>\n",
       "      <th>amount_purchased_shop_5</th>\n",
       "    </tr>\n",
       "  </thead>\n",
       "  <tbody>\n",
       "    <tr>\n",
       "      <th>0</th>\n",
       "      <td>7551.701</td>\n",
       "      <td>803.968</td>\n",
       "      <td>6747.733</td>\n",
       "      <td>0.000</td>\n",
       "      <td>0</td>\n",
       "      <td>0.000</td>\n",
       "    </tr>\n",
       "    <tr>\n",
       "      <th>1</th>\n",
       "      <td>7820.219</td>\n",
       "      <td>395.004</td>\n",
       "      <td>848.526</td>\n",
       "      <td>50.932</td>\n",
       "      <td>0</td>\n",
       "      <td>6525.757</td>\n",
       "    </tr>\n",
       "    <tr>\n",
       "      <th>2</th>\n",
       "      <td>1788.613</td>\n",
       "      <td>120.226</td>\n",
       "      <td>582.939</td>\n",
       "      <td>25.004</td>\n",
       "      <td>0</td>\n",
       "      <td>1060.444</td>\n",
       "    </tr>\n",
       "    <tr>\n",
       "      <th>3</th>\n",
       "      <td>1679.520</td>\n",
       "      <td>99.948</td>\n",
       "      <td>13.442</td>\n",
       "      <td>628.648</td>\n",
       "      <td>0</td>\n",
       "      <td>937.482</td>\n",
       "    </tr>\n",
       "    <tr>\n",
       "      <th>4</th>\n",
       "      <td>17.922</td>\n",
       "      <td>0.000</td>\n",
       "      <td>2.903</td>\n",
       "      <td>15.019</td>\n",
       "      <td>0</td>\n",
       "      <td>0.000</td>\n",
       "    </tr>\n",
       "  </tbody>\n",
       "</table>\n",
       "</div>"
      ],
      "text/plain": [
       "   amount_purchased  amount_purchased_shop_1  amount_purchased_shop_2  \\\n",
       "0          7551.701                  803.968                 6747.733   \n",
       "1          7820.219                  395.004                  848.526   \n",
       "2          1788.613                  120.226                  582.939   \n",
       "3          1679.520                   99.948                   13.442   \n",
       "4            17.922                    0.000                    2.903   \n",
       "\n",
       "   amount_purchased_shop_3  amount_purchased_shop_4  amount_purchased_shop_5  \n",
       "0                    0.000                        0                    0.000  \n",
       "1                   50.932                        0                 6525.757  \n",
       "2                   25.004                        0                 1060.444  \n",
       "3                  628.648                        0                  937.482  \n",
       "4                   15.019                        0                    0.000  "
      ]
     },
     "execution_count": 31,
     "metadata": {},
     "output_type": "execute_result"
    }
   ],
   "source": [
    "data[['amount_purchased','amount_purchased_shop_1','amount_purchased_shop_2',\n",
    "     'amount_purchased_shop_3','amount_purchased_shop_4','amount_purchased_shop_5']].head()"
   ]
  },
  {
   "cell_type": "code",
   "execution_count": 32,
   "metadata": {
    "collapsed": false
   },
   "outputs": [
    {
     "data": {
      "text/html": [
       "<div>\n",
       "<table border=\"1\" class=\"dataframe\">\n",
       "  <thead>\n",
       "    <tr style=\"text-align: right;\">\n",
       "      <th></th>\n",
       "      <th>unique_products_purchased</th>\n",
       "      <th>unique_products_purchased_shop_1</th>\n",
       "      <th>unique_products_purchased_shop_2</th>\n",
       "      <th>unique_products_purchased_shop_3</th>\n",
       "      <th>unique_products_purchased_shop_4</th>\n",
       "      <th>unique_products_purchased_shop_5</th>\n",
       "    </tr>\n",
       "  </thead>\n",
       "  <tbody>\n",
       "    <tr>\n",
       "      <th>0</th>\n",
       "      <td>473</td>\n",
       "      <td>77</td>\n",
       "      <td>454</td>\n",
       "      <td>0</td>\n",
       "      <td>0</td>\n",
       "      <td>0</td>\n",
       "    </tr>\n",
       "    <tr>\n",
       "      <th>1</th>\n",
       "      <td>486</td>\n",
       "      <td>105</td>\n",
       "      <td>175</td>\n",
       "      <td>20</td>\n",
       "      <td>0</td>\n",
       "      <td>396</td>\n",
       "    </tr>\n",
       "    <tr>\n",
       "      <th>2</th>\n",
       "      <td>234</td>\n",
       "      <td>32</td>\n",
       "      <td>104</td>\n",
       "      <td>13</td>\n",
       "      <td>0</td>\n",
       "      <td>179</td>\n",
       "    </tr>\n",
       "    <tr>\n",
       "      <th>3</th>\n",
       "      <td>208</td>\n",
       "      <td>20</td>\n",
       "      <td>5</td>\n",
       "      <td>125</td>\n",
       "      <td>0</td>\n",
       "      <td>131</td>\n",
       "    </tr>\n",
       "    <tr>\n",
       "      <th>4</th>\n",
       "      <td>10</td>\n",
       "      <td>0</td>\n",
       "      <td>3</td>\n",
       "      <td>7</td>\n",
       "      <td>0</td>\n",
       "      <td>0</td>\n",
       "    </tr>\n",
       "  </tbody>\n",
       "</table>\n",
       "</div>"
      ],
      "text/plain": [
       "   unique_products_purchased  unique_products_purchased_shop_1  \\\n",
       "0                        473                                77   \n",
       "1                        486                               105   \n",
       "2                        234                                32   \n",
       "3                        208                                20   \n",
       "4                         10                                 0   \n",
       "\n",
       "   unique_products_purchased_shop_2  unique_products_purchased_shop_3  \\\n",
       "0                               454                                 0   \n",
       "1                               175                                20   \n",
       "2                               104                                13   \n",
       "3                                 5                               125   \n",
       "4                                 3                                 7   \n",
       "\n",
       "   unique_products_purchased_shop_4  unique_products_purchased_shop_5  \n",
       "0                                 0                                 0  \n",
       "1                                 0                               396  \n",
       "2                                 0                               179  \n",
       "3                                 0                               131  \n",
       "4                                 0                                 0  "
      ]
     },
     "execution_count": 32,
     "metadata": {},
     "output_type": "execute_result"
    }
   ],
   "source": [
    "data[['unique_products_purchased','unique_products_purchased_shop_1',\n",
    "      'unique_products_purchased_shop_2','unique_products_purchased_shop_3',\n",
    "      'unique_products_purchased_shop_4','unique_products_purchased_shop_5']].head()"
   ]
  },
  {
   "cell_type": "code",
   "execution_count": 33,
   "metadata": {
    "collapsed": false
   },
   "outputs": [
    {
     "name": "stdout",
     "output_type": "stream",
     "text": [
      "1229\n",
      "899\n",
      "739\n",
      "725\n",
      "572\n"
     ]
    }
   ],
   "source": [
    "print max(data[(data.shops_used == 1) & (data.amount_purchased_shop_1 != 0.)]\n",
    "          ['unique_products_purchased_shop_1'].values)\n",
    "print max(data[(data.shops_used == 1) & (data.amount_purchased_shop_2 != 0.)]\n",
    "          ['unique_products_purchased_shop_2'].values)\n",
    "print max(data[(data.shops_used == 1) & (data.amount_purchased_shop_3 != 0.)]\n",
    "          ['unique_products_purchased_shop_3'].values)\n",
    "print max(data[(data.shops_used == 1) & (data.amount_purchased_shop_4 != 0.)]\n",
    "          ['unique_products_purchased_shop_4'].values)\n",
    "print max(data[(data.shops_used == 1) & (data.amount_purchased_shop_5 != 0.)]\n",
    "          ['unique_products_purchased_shop_5'].values)"
   ]
  },
  {
   "cell_type": "code",
   "execution_count": 34,
   "metadata": {
    "collapsed": false
   },
   "outputs": [
    {
     "name": "stdout",
     "output_type": "stream",
     "text": [
      "1459\n",
      "1161\n",
      "715\n",
      "723\n",
      "750\n"
     ]
    }
   ],
   "source": [
    "print max(data[(data.shops_used == 2) & (data.amount_purchased_shop_1 != 0.)]\n",
    "          ['unique_products_purchased_shop_1'].values)\n",
    "print max(data[(data.shops_used == 2) & (data.amount_purchased_shop_2 != 0.)]\n",
    "          ['unique_products_purchased_shop_2'].values)\n",
    "print max(data[(data.shops_used == 2) & (data.amount_purchased_shop_3 != 0.)]\n",
    "          ['unique_products_purchased_shop_3'].values)\n",
    "print max(data[(data.shops_used == 2) & (data.amount_purchased_shop_4 != 0.)]\n",
    "          ['unique_products_purchased_shop_4'].values)\n",
    "print max(data[(data.shops_used == 2) & (data.amount_purchased_shop_5 != 0.)]\n",
    "          ['unique_products_purchased_shop_5'].values)"
   ]
  },
  {
   "cell_type": "code",
   "execution_count": 35,
   "metadata": {
    "collapsed": false
   },
   "outputs": [
    {
     "name": "stdout",
     "output_type": "stream",
     "text": [
      "1245\n",
      "1053\n",
      "836\n",
      "785\n",
      "801\n"
     ]
    }
   ],
   "source": [
    "print max(data[(data.shops_used == 3) & (data.amount_purchased_shop_1 != 0.)]\n",
    "          ['unique_products_purchased_shop_1'].values)\n",
    "print max(data[(data.shops_used == 3) & (data.amount_purchased_shop_2 != 0.)]\n",
    "          ['unique_products_purchased_shop_2'].values)\n",
    "print max(data[(data.shops_used == 3) & (data.amount_purchased_shop_3 != 0.)]\n",
    "          ['unique_products_purchased_shop_3'].values)\n",
    "print max(data[(data.shops_used == 3) & (data.amount_purchased_shop_4 != 0.)]\n",
    "          ['unique_products_purchased_shop_4'].values)\n",
    "print max(data[(data.shops_used == 3) & (data.amount_purchased_shop_5 != 0.)]\n",
    "          ['unique_products_purchased_shop_5'].values)"
   ]
  },
  {
   "cell_type": "code",
   "execution_count": 86,
   "metadata": {
    "collapsed": false
   },
   "outputs": [
    {
     "data": {
      "image/png": "[encoded data removed]",
      "text/plain": [
       "<matplotlib.figure.Figure at 0x1169e0310>"
      ]
     },
     "metadata": {},
     "output_type": "display_data"
    }
   ],
   "source": [
    "# PERCENTAGE OF ALL PEOPLE WHO PURCHASE AT A GIVEN SHOP AND ARE CLOSEST TO SUCH STORE\n",
    "\n",
    "listA = []\n",
    "listB = []\n",
    "df_stack = pd.DataFrame()\n",
    "text_ = 'amount_purchased_shop_'\n",
    "for k in range(1,6):\n",
    "    \n",
    "    a = sum((data[text_ + str(k)] != 0.)) \n",
    "   \n",
    "    b = sum((data.closest_shop == k) & (data[text_ + str(k)] != 0.))\n",
    "    \n",
    "    listA.append((1. - float(b)/float(a))*100.)\n",
    "    listB.append(float(b)/float(a)*100.)\n",
    "\n",
    "    #print b, a, 100.*float(b)/float(a)\n",
    "    \n",
    "    #print \"=====\"*8\n",
    "\n",
    "\n",
    "df_stack['Closest to shop'] = listB\n",
    "df_stack['Not closest to shop'] = listA\n",
    "df_stack.index = range(1,6)\n",
    "\n",
    "df_stack.plot(kind='bar',\n",
    "           title='Distribution of Customers Purchased in a given store',stacked=True,\n",
    "              grid=True)\n",
    "plt.xlabel('Shop chosen')\n",
    "plt.ylabel('Percentage of customers')\n",
    "plt.show()\n",
    "\n"
   ]
  },
  {
   "cell_type": "code",
   "execution_count": 85,
   "metadata": {
    "collapsed": false
   },
   "outputs": [
    {
     "data": {
      "image/png": "[encoded data removed]",
      "text/plain": [
       "<matplotlib.figure.Figure at 0x116a0e210>"
      ]
     },
     "metadata": {},
     "output_type": "display_data"
    }
   ],
   "source": [
    "# PERCENTAGE OF ALL PEOPLE WHO PURCHASE AT ONLY ONE GIVEN SHOP AND ARE CLOSEST TO SUCH STORE\n",
    "\n",
    "listA = []\n",
    "listB = []\n",
    "df_stack = pd.DataFrame()\n",
    "\n",
    "text_ = 'amount_purchased_shop_'\n",
    "\n",
    "for k in range(1,6):\n",
    "    \n",
    "    a =  sum((data[text_ + str(k)] != 0.) &\n",
    "          (data.shops_used == k))\n",
    "    \n",
    "    b = sum((data.closest_shop == k) & (data[text_ + str(k)] != 0.) &\n",
    "          (data.shops_used == k))\n",
    "\n",
    "    listA.append((1. - float(b)/float(a))*100.)\n",
    "    listB.append(float(b)/float(a)*100.)\n",
    "\n",
    "    #print \"=====\"*8\n",
    "\n",
    "df_stack['Closest to shop'] = listB\n",
    "df_stack['Not closest to shop'] = listA\n",
    "df_stack.index = range(1,6)\n",
    "\n",
    "df_stack.plot(kind='bar',\n",
    "           title='Distribution of Customers Purchased in exactly one given store',stacked=True,\n",
    "              grid=True)\n",
    "plt.xlabel('Shop chosen')\n",
    "plt.ylabel('Percentage of customers')\n",
    "plt.show()\n",
    "\n",
    "    \n"
   ]
  },
  {
   "cell_type": "code",
   "execution_count": 89,
   "metadata": {
    "collapsed": false
   },
   "outputs": [
    {
     "data": {
      "image/png": "[encoded data removed]",
      "text/plain": [
       "<matplotlib.figure.Figure at 0x115210f90>"
      ]
     },
     "metadata": {},
     "output_type": "display_data"
    }
   ],
   "source": [
    "text_ = \"amount_purchased_shop_\"\n",
    "\n",
    "listA = []\n",
    "listB = []\n",
    "df_stack = pd.DataFrame()\n",
    "labels_ = []\n",
    "\n",
    "\n",
    "for m in range(1,6):\n",
    "    for n in range(m+1,6):\n",
    "        \n",
    "        #print \"stores\" , m,n\n",
    "        \n",
    "        labels_.append(str(m) + \",\" + str(n))\n",
    "        \n",
    "        a =  sum((data[text_ + str(m)] != 0.) & (data[text_ + str(n)] != 0.))\n",
    "\n",
    "\n",
    "        b = sum((data[text_ + str(m)] != 0.) & (data[text_ + str(n)] != 0.) &\n",
    "          ((data.closest_shop == m) | (data.closest_shop == n)))\n",
    "\n",
    "        listA.append((1. - float(b)/float(a))*100.)\n",
    "        listB.append(float(b)/float(a)*100.)\n",
    "        \n",
    "        #print b, a, 100.*float(b)/float(a)\n",
    "\n",
    "        #print \"=====\"*8\n",
    "        \n",
    "df_stack['Closest to either shop'] = listB\n",
    "df_stack['Not closest to either shop'] = listA\n",
    "df_stack.index = labels_ #range(1,6)\n",
    "\n",
    "df_stack.plot(kind='bar',\n",
    "           title='Distribution of purchases in two given stores',stacked=True,\n",
    "              grid=True)\n",
    "plt.xlabel('Shops chosen')\n",
    "plt.ylabel('Percentage of customers')\n",
    "plt.show()"
   ]
  },
  {
   "cell_type": "code",
   "execution_count": 90,
   "metadata": {
    "collapsed": false
   },
   "outputs": [
    {
     "data": {
      "image/png": "[encoded data removed]",
      "text/plain": [
       "<matplotlib.figure.Figure at 0x11af65910>"
      ]
     },
     "metadata": {},
     "output_type": "display_data"
    }
   ],
   "source": [
    "text_ = \"amount_purchased_shop_\"\n",
    "\n",
    "listA = []\n",
    "listB = []\n",
    "df_stack = pd.DataFrame()\n",
    "labels_ = []\n",
    "\n",
    "\n",
    "for m in range(1,6):\n",
    "    for n in range(m+1,6):\n",
    "        \n",
    "        #print \"stores\" , m,n\n",
    "        \n",
    "        labels_.append(str(m) + \",\" + str(n))\n",
    "        \n",
    "        a =  sum((data[text_ + str(m)] != 0.) & (data[text_ + str(n)] != 0.) &\n",
    "          (data.shops_used == 2))\n",
    "\n",
    "\n",
    "        b = sum((data[text_ + str(m)] != 0.) & (data[text_ + str(n)] != 0.) &\n",
    "          (data.shops_used == 2) &\n",
    "          ((data.closest_shop == m) | (data.closest_shop == n)))\n",
    "\n",
    "        listA.append((1. - float(b)/float(a))*100.)\n",
    "        listB.append(float(b)/float(a)*100.)\n",
    "        \n",
    "        #print b, a, 100.*float(b)/float(a)\n",
    "\n",
    "        #print \"=====\"*8\n",
    "        \n",
    "df_stack['Closest to either shop'] = listB\n",
    "df_stack['Not closest to either shop'] = listA\n",
    "df_stack.index = labels_ #range(1,6)\n",
    "\n",
    "df_stack.plot(kind='bar',\n",
    "           title='Distribution of purchases in exactly two given stores',stacked=True,\n",
    "              grid=True)\n",
    "plt.xlabel('Shops chosen')\n",
    "plt.ylabel('Percentage of customers')\n",
    "plt.show()"
   ]
  },
  {
   "cell_type": "code",
   "execution_count": 94,
   "metadata": {
    "collapsed": false
   },
   "outputs": [
    {
     "data": {
      "image/png": "[encoded data removed]",
      "text/plain": [
       "<matplotlib.figure.Figure at 0x1161a7ed0>"
      ]
     },
     "metadata": {},
     "output_type": "display_data"
    }
   ],
   "source": [
    "text_ = \"amount_purchased_shop_\"\n",
    "\n",
    "listA = []\n",
    "listB = []\n",
    "df_stack = pd.DataFrame()\n",
    "labels_ = []\n",
    "\n",
    "\n",
    "for i in range(1,6):\n",
    "    for j in range(i+1,6):\n",
    "        for k in range(j+1,6):\n",
    "            #print \"stores\" , i,j,k\n",
    "            \n",
    "            labels_.append(str(i) + \",\" + str(j) + \",\" + str(k))\n",
    "        \n",
    "            a =  sum((data[text_ + str(i)] != 0.) & (data[text_ + str(j)] != 0.) &\n",
    "                     (data[text_ + str(k)] != 0.) & (data.shops_used == 3))\n",
    "\n",
    "\n",
    "            b = sum((data[text_ + str(i)] != 0.) & (data[text_ + str(j)] != 0.) &\n",
    "                    (data[text_ + str(k)] != 0.) &\n",
    "                    (data.shops_used == 3) &\n",
    "                    ((data.closest_shop == i) | (data.closest_shop == j) |\n",
    "                     (data.closest_shop == k) ))\n",
    "\n",
    "            listA.append((1. - float(b)/float(a))*100.)\n",
    "            listB.append(float(b)/float(a)*100.)\n",
    "        \n",
    "        #print b, a, 100.*float(b)/float(a)\n",
    "\n",
    "        #print \"=====\"*8\n",
    "        \n",
    "df_stack['Closest to either shop'] = listB\n",
    "df_stack['Not closest to either shop'] = listA\n",
    "df_stack.index = labels_ #range(1,6)\n",
    "\n",
    "df_stack.plot(kind='bar',\n",
    "           title='Distribution of purchases in exactly three given stores',stacked=True,\n",
    "              grid=True)\n",
    "plt.xlabel('Shops chosen')\n",
    "plt.ylabel('Percentage of customers')\n",
    "plt.show()\n",
    "        "
   ]
  },
  {
   "cell_type": "code",
   "execution_count": 101,
   "metadata": {
    "collapsed": false
   },
   "outputs": [
    {
     "data": {
      "text/html": [
       "<div>\n",
       "<table border=\"1\" class=\"dataframe\">\n",
       "  <thead>\n",
       "    <tr style=\"text-align: right;\">\n",
       "      <th></th>\n",
       "      <th>unique_products_purchased_shop_1</th>\n",
       "      <th>unique_products_purchased_shop_2</th>\n",
       "      <th>unique_products_purchased_shop_3</th>\n",
       "      <th>unique_products_purchased_shop_4</th>\n",
       "      <th>unique_products_purchased_shop_5</th>\n",
       "    </tr>\n",
       "  </thead>\n",
       "  <tbody>\n",
       "    <tr>\n",
       "      <th>6</th>\n",
       "      <td>19</td>\n",
       "      <td>0</td>\n",
       "      <td>0</td>\n",
       "      <td>0</td>\n",
       "      <td>0</td>\n",
       "    </tr>\n",
       "    <tr>\n",
       "      <th>13</th>\n",
       "      <td>55</td>\n",
       "      <td>0</td>\n",
       "      <td>0</td>\n",
       "      <td>0</td>\n",
       "      <td>0</td>\n",
       "    </tr>\n",
       "    <tr>\n",
       "      <th>16</th>\n",
       "      <td>14</td>\n",
       "      <td>0</td>\n",
       "      <td>0</td>\n",
       "      <td>0</td>\n",
       "      <td>0</td>\n",
       "    </tr>\n",
       "    <tr>\n",
       "      <th>23</th>\n",
       "      <td>48</td>\n",
       "      <td>0</td>\n",
       "      <td>0</td>\n",
       "      <td>0</td>\n",
       "      <td>0</td>\n",
       "    </tr>\n",
       "    <tr>\n",
       "      <th>24</th>\n",
       "      <td>0</td>\n",
       "      <td>54</td>\n",
       "      <td>0</td>\n",
       "      <td>0</td>\n",
       "      <td>0</td>\n",
       "    </tr>\n",
       "  </tbody>\n",
       "</table>\n",
       "</div>"
      ],
      "text/plain": [
       "    unique_products_purchased_shop_1  unique_products_purchased_shop_2  \\\n",
       "6                                 19                                 0   \n",
       "13                                55                                 0   \n",
       "16                                14                                 0   \n",
       "23                                48                                 0   \n",
       "24                                 0                                54   \n",
       "\n",
       "    unique_products_purchased_shop_3  unique_products_purchased_shop_4  \\\n",
       "6                                  0                                 0   \n",
       "13                                 0                                 0   \n",
       "16                                 0                                 0   \n",
       "23                                 0                                 0   \n",
       "24                                 0                                 0   \n",
       "\n",
       "    unique_products_purchased_shop_5  \n",
       "6                                  0  \n",
       "13                                 0  \n",
       "16                                 0  \n",
       "23                                 0  \n",
       "24                                 0  "
      ]
     },
     "execution_count": 101,
     "metadata": {},
     "output_type": "execute_result"
    }
   ],
   "source": [
    "data[(data.shops_used == 1)][['unique_products_purchased_shop_1',\n",
    "                              'unique_products_purchased_shop_2',\n",
    "                              'unique_products_purchased_shop_3',\n",
    "                              'unique_products_purchased_shop_4',\n",
    "                              'unique_products_purchased_shop_5']].head()"
   ]
  },
  {
   "cell_type": "code",
   "execution_count": 117,
   "metadata": {
    "collapsed": false
   },
   "outputs": [
    {
     "name": "stdout",
     "output_type": "stream",
     "text": [
      "1229.0\n",
      "899.0\n",
      "739.0\n",
      "725.0\n",
      "572.0\n"
     ]
    }
   ],
   "source": [
    "print data[(data.shops_used == 1) & (data.amount_purchased_shop_1 !=0)]['unique_products_purchased'].max()\n",
    "print data[(data.shops_used == 1) & (data.amount_purchased_shop_2 !=0)]['unique_products_purchased'].max()\n",
    "print data[(data.shops_used == 1) & (data.amount_purchased_shop_3 !=0)]['unique_products_purchased'].max()\n",
    "print data[(data.shops_used == 1) & (data.amount_purchased_shop_4 !=0)]['unique_products_purchased'].max()\n",
    "print data[(data.shops_used == 1) & (data.amount_purchased_shop_5 !=0)]['unique_products_purchased'].max()"
   ]
  },
  {
   "cell_type": "code",
   "execution_count": 118,
   "metadata": {
    "collapsed": false
   },
   "outputs": [
    {
     "name": "stdout",
     "output_type": "stream",
     "text": [
      "1.0\n",
      "1.0\n",
      "1.0\n",
      "1.0\n",
      "1.0\n"
     ]
    }
   ],
   "source": [
    "print data[(data.shops_used == 1) & (data.amount_purchased_shop_1 !=0)]['unique_products_purchased'].min()\n",
    "print data[(data.shops_used == 1) & (data.amount_purchased_shop_2 !=0)]['unique_products_purchased'].min()\n",
    "print data[(data.shops_used == 1) & (data.amount_purchased_shop_3 !=0)]['unique_products_purchased'].min()\n",
    "print data[(data.shops_used == 1) & (data.amount_purchased_shop_4 !=0)]['unique_products_purchased'].min()\n",
    "print data[(data.shops_used == 1) & (data.amount_purchased_shop_5 !=0)]['unique_products_purchased'].min()"
   ]
  },
  {
   "cell_type": "code",
   "execution_count": 104,
   "metadata": {
    "collapsed": false
   },
   "outputs": [
    {
     "name": "stdout",
     "output_type": "stream",
     "text": [
      "7987\n",
      "2470\n",
      "449\n",
      "478\n",
      "326\n"
     ]
    }
   ],
   "source": [
    "print sum((data.shops_used == 1) & (data.amount_purchased_shop_1 !=0))\n",
    "print sum((data.shops_used == 1) & (data.amount_purchased_shop_2 !=0))\n",
    "print sum((data.shops_used == 1) & (data.amount_purchased_shop_3 !=0))\n",
    "print sum((data.shops_used == 1) & (data.amount_purchased_shop_4 !=0))\n",
    "print sum((data.shops_used == 1) & (data.amount_purchased_shop_5 !=0))"
   ]
  },
  {
   "cell_type": "code",
   "execution_count": 40,
   "metadata": {
    "collapsed": false
   },
   "outputs": [
    {
     "data": {
      "text/plain": [
       "array([  2.12000000e-01,   6.53107000e+02,   2.35513800e+03,\n",
       "         6.05463100e+03])"
      ]
     },
     "execution_count": 40,
     "metadata": {},
     "output_type": "execute_result"
    }
   ],
   "source": [
    "quartiles = np.percentile(data.amount_purchased.values,np.arange(0,100,25))\n",
    "quartiles"
   ]
  },
  {
   "cell_type": "code",
   "execution_count": 44,
   "metadata": {
    "collapsed": false
   },
   "outputs": [
    {
     "name": "stdout",
     "output_type": "stream",
     "text": [
      "55552\n"
     ]
    }
   ],
   "source": [
    "text_ = 'amount_purchased_shop_1'\n",
    "print sum((data[text_] != 0.))"
   ]
  },
  {
   "cell_type": "code",
   "execution_count": null,
   "metadata": {
    "collapsed": true
   },
   "outputs": [],
   "source": []
  }
 ],
 "metadata": {
  "kernelspec": {
   "display_name": "Python 2",
   "language": "python",
   "name": "python2"
  },
  "language_info": {
   "codemirror_mode": {
    "name": "ipython",
    "version": 2
   },
   "file_extension": ".py",
   "mimetype": "text/x-python",
   "name": "python",
   "nbconvert_exporter": "python",
   "pygments_lexer": "ipython2",
   "version": "2.7.9"
  }
 },
 "nbformat": 4,
 "nbformat_minor": 0
}

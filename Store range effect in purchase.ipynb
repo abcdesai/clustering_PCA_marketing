{
 "cells": [
  {
   "cell_type": "markdown",
   "metadata": {},
   "source": [
    "# Store range effect in purchase"
   ]
  },
  {
   "cell_type": "markdown",
   "metadata": {},
   "source": [
    "In this notebook we explore a data set of customers and its purchases in different stores"
   ]
  },
  {
   "cell_type": "markdown",
   "metadata": {},
   "source": [
    "Import needed libraries"
   ]
  },
  {
   "cell_type": "code",
   "execution_count": 1,
   "metadata": {
    "collapsed": false
   },
   "outputs": [],
   "source": [
    "import pandas as pd\n",
    "import os\n",
    "import numpy as np\n",
    "\n",
    "import matplotlib \n",
    "\n",
    "import matplotlib.pyplot as plt\n",
    "\n",
    "# For statistical tests\n",
    "import scipy.stats as st\n",
    "\n",
    "%matplotlib inline\n",
    "\n",
    "from sklearn.cluster import KMeans\n",
    "\n",
    "#from sklearn.cross_validation import train_test_split"
   ]
  },
  {
   "cell_type": "markdown",
   "metadata": {},
   "source": [
    "Read data, drop NA's and get number of records (customers)"
   ]
  },
  {
   "cell_type": "code",
   "execution_count": 2,
   "metadata": {
    "collapsed": false
   },
   "outputs": [
    {
     "name": "stdout",
     "output_type": "stream",
     "text": [
      "60365\n"
     ]
    }
   ],
   "source": [
    "data = pd.read_csv('data.csv')\n",
    "data = data.dropna()\n",
    "num_customers = data.shape[0]\n",
    "print num_customers"
   ]
  },
  {
   "cell_type": "code",
   "execution_count": 3,
   "metadata": {
    "collapsed": false
   },
   "outputs": [
    {
     "data": {
      "text/html": [
       "<div>\n",
       "<table border=\"1\" class=\"dataframe\">\n",
       "  <thead>\n",
       "    <tr style=\"text-align: right;\">\n",
       "      <th></th>\n",
       "      <th>customer_id</th>\n",
       "      <th>avg_distance_to_shops</th>\n",
       "      <th>min_distance_to_shops</th>\n",
       "      <th>max_distance_to_shops</th>\n",
       "      <th>products_purchased</th>\n",
       "      <th>unique_products_purchased</th>\n",
       "      <th>amount_purchased</th>\n",
       "      <th>avg_purchase</th>\n",
       "      <th>avg_price</th>\n",
       "      <th>shops_used</th>\n",
       "      <th>...</th>\n",
       "      <th>avg_purchase_shop_1</th>\n",
       "      <th>avg_purchase_shop_2</th>\n",
       "      <th>avg_purchase_shop_3</th>\n",
       "      <th>avg_purchase_shop_4</th>\n",
       "      <th>avg_purchase_shop_5</th>\n",
       "      <th>avg_price_shop_1</th>\n",
       "      <th>avg_price_shop_2</th>\n",
       "      <th>avg_price_shop_3</th>\n",
       "      <th>avg_price_shop_4</th>\n",
       "      <th>avg_price_shop_5</th>\n",
       "    </tr>\n",
       "  </thead>\n",
       "  <tbody>\n",
       "    <tr>\n",
       "      <th>0</th>\n",
       "      <td>1</td>\n",
       "      <td>1434.91910</td>\n",
       "      <td>985.87620</td>\n",
       "      <td>4082.5222</td>\n",
       "      <td>3090</td>\n",
       "      <td>473</td>\n",
       "      <td>7551.701</td>\n",
       "      <td>14.221659</td>\n",
       "      <td>3.150493</td>\n",
       "      <td>2</td>\n",
       "      <td>...</td>\n",
       "      <td>10.441143</td>\n",
       "      <td>14.862848</td>\n",
       "      <td>0.000000</td>\n",
       "      <td>0</td>\n",
       "      <td>0.000000</td>\n",
       "      <td>6.393403</td>\n",
       "      <td>2.600485</td>\n",
       "      <td>0.000000</td>\n",
       "      <td>0</td>\n",
       "      <td>0.000000</td>\n",
       "    </tr>\n",
       "    <tr>\n",
       "      <th>1</th>\n",
       "      <td>2</td>\n",
       "      <td>909.76764</td>\n",
       "      <td>254.94832</td>\n",
       "      <td>2295.4840</td>\n",
       "      <td>4508</td>\n",
       "      <td>486</td>\n",
       "      <td>7820.219</td>\n",
       "      <td>11.235947</td>\n",
       "      <td>2.191422</td>\n",
       "      <td>4</td>\n",
       "      <td>...</td>\n",
       "      <td>3.761943</td>\n",
       "      <td>4.848720</td>\n",
       "      <td>2.546600</td>\n",
       "      <td>0</td>\n",
       "      <td>16.479185</td>\n",
       "      <td>2.851152</td>\n",
       "      <td>2.009863</td>\n",
       "      <td>2.059450</td>\n",
       "      <td>0</td>\n",
       "      <td>2.103394</td>\n",
       "    </tr>\n",
       "    <tr>\n",
       "      <th>2</th>\n",
       "      <td>3</td>\n",
       "      <td>1498.94700</td>\n",
       "      <td>754.29560</td>\n",
       "      <td>2831.7727</td>\n",
       "      <td>814</td>\n",
       "      <td>234</td>\n",
       "      <td>1788.613</td>\n",
       "      <td>5.453088</td>\n",
       "      <td>2.258994</td>\n",
       "      <td>4</td>\n",
       "      <td>...</td>\n",
       "      <td>3.757062</td>\n",
       "      <td>5.605183</td>\n",
       "      <td>1.923385</td>\n",
       "      <td>0</td>\n",
       "      <td>5.924268</td>\n",
       "      <td>3.426687</td>\n",
       "      <td>2.478529</td>\n",
       "      <td>1.923385</td>\n",
       "      <td>0</td>\n",
       "      <td>1.947067</td>\n",
       "    </tr>\n",
       "    <tr>\n",
       "      <th>3</th>\n",
       "      <td>4</td>\n",
       "      <td>561.65900</td>\n",
       "      <td>362.79178</td>\n",
       "      <td>2210.3820</td>\n",
       "      <td>648</td>\n",
       "      <td>208</td>\n",
       "      <td>1679.520</td>\n",
       "      <td>5.976940</td>\n",
       "      <td>2.614292</td>\n",
       "      <td>4</td>\n",
       "      <td>...</td>\n",
       "      <td>4.997400</td>\n",
       "      <td>2.688400</td>\n",
       "      <td>5.029184</td>\n",
       "      <td>0</td>\n",
       "      <td>7.156351</td>\n",
       "      <td>4.997400</td>\n",
       "      <td>2.688400</td>\n",
       "      <td>2.083168</td>\n",
       "      <td>0</td>\n",
       "      <td>2.754427</td>\n",
       "    </tr>\n",
       "    <tr>\n",
       "      <th>4</th>\n",
       "      <td>5</td>\n",
       "      <td>605.36280</td>\n",
       "      <td>275.46753</td>\n",
       "      <td>1375.1184</td>\n",
       "      <td>13</td>\n",
       "      <td>10</td>\n",
       "      <td>17.922</td>\n",
       "      <td>1.792200</td>\n",
       "      <td>1.692000</td>\n",
       "      <td>2</td>\n",
       "      <td>...</td>\n",
       "      <td>0.000000</td>\n",
       "      <td>0.967667</td>\n",
       "      <td>2.145571</td>\n",
       "      <td>0</td>\n",
       "      <td>0.000000</td>\n",
       "      <td>0.000000</td>\n",
       "      <td>0.633667</td>\n",
       "      <td>2.145571</td>\n",
       "      <td>0</td>\n",
       "      <td>0.000000</td>\n",
       "    </tr>\n",
       "  </tbody>\n",
       "</table>\n",
       "<p>5 rows × 40 columns</p>\n",
       "</div>"
      ],
      "text/plain": [
       "   customer_id  avg_distance_to_shops  min_distance_to_shops  \\\n",
       "0            1             1434.91910              985.87620   \n",
       "1            2              909.76764              254.94832   \n",
       "2            3             1498.94700              754.29560   \n",
       "3            4              561.65900              362.79178   \n",
       "4            5              605.36280              275.46753   \n",
       "\n",
       "   max_distance_to_shops  products_purchased  unique_products_purchased  \\\n",
       "0              4082.5222                3090                        473   \n",
       "1              2295.4840                4508                        486   \n",
       "2              2831.7727                 814                        234   \n",
       "3              2210.3820                 648                        208   \n",
       "4              1375.1184                  13                         10   \n",
       "\n",
       "   amount_purchased  avg_purchase  avg_price  shops_used        ...         \\\n",
       "0          7551.701     14.221659   3.150493           2        ...          \n",
       "1          7820.219     11.235947   2.191422           4        ...          \n",
       "2          1788.613      5.453088   2.258994           4        ...          \n",
       "3          1679.520      5.976940   2.614292           4        ...          \n",
       "4            17.922      1.792200   1.692000           2        ...          \n",
       "\n",
       "   avg_purchase_shop_1  avg_purchase_shop_2  avg_purchase_shop_3  \\\n",
       "0            10.441143            14.862848             0.000000   \n",
       "1             3.761943             4.848720             2.546600   \n",
       "2             3.757062             5.605183             1.923385   \n",
       "3             4.997400             2.688400             5.029184   \n",
       "4             0.000000             0.967667             2.145571   \n",
       "\n",
       "   avg_purchase_shop_4  avg_purchase_shop_5  avg_price_shop_1  \\\n",
       "0                    0             0.000000          6.393403   \n",
       "1                    0            16.479185          2.851152   \n",
       "2                    0             5.924268          3.426687   \n",
       "3                    0             7.156351          4.997400   \n",
       "4                    0             0.000000          0.000000   \n",
       "\n",
       "   avg_price_shop_2  avg_price_shop_3  avg_price_shop_4  avg_price_shop_5  \n",
       "0          2.600485          0.000000                 0          0.000000  \n",
       "1          2.009863          2.059450                 0          2.103394  \n",
       "2          2.478529          1.923385                 0          1.947067  \n",
       "3          2.688400          2.083168                 0          2.754427  \n",
       "4          0.633667          2.145571                 0          0.000000  \n",
       "\n",
       "[5 rows x 40 columns]"
      ]
     },
     "execution_count": 3,
     "metadata": {},
     "output_type": "execute_result"
    }
   ],
   "source": [
    "data.head()"
   ]
  },
  {
   "cell_type": "code",
   "execution_count": 4,
   "metadata": {
    "collapsed": false,
    "scrolled": true
   },
   "outputs": [
    {
     "data": {
      "text/plain": [
       "array(['customer_id', 'avg_distance_to_shops', 'min_distance_to_shops',\n",
       "       'max_distance_to_shops', 'products_purchased',\n",
       "       'unique_products_purchased', 'amount_purchased', 'avg_purchase',\n",
       "       'avg_price', 'shops_used', 'distance_shop_1', 'distance_shop_2',\n",
       "       'distance_shop_3', 'distance_shop_4', 'distance_shop_5',\n",
       "       'products_purchased_shop_1', 'products_purchased_shop_2',\n",
       "       'products_purchased_shop_3', 'products_purchased_shop_4',\n",
       "       'products_purchased_shop_5', 'unique_products_purchased_shop_1',\n",
       "       'unique_products_purchased_shop_2',\n",
       "       'unique_products_purchased_shop_3',\n",
       "       'unique_products_purchased_shop_4',\n",
       "       'unique_products_purchased_shop_5', 'amount_purchased_shop_1',\n",
       "       'amount_purchased_shop_2', 'amount_purchased_shop_3',\n",
       "       'amount_purchased_shop_4', 'amount_purchased_shop_5',\n",
       "       'avg_purchase_shop_1', 'avg_purchase_shop_2', 'avg_purchase_shop_3',\n",
       "       'avg_purchase_shop_4', 'avg_purchase_shop_5', 'avg_price_shop_1',\n",
       "       'avg_price_shop_2', 'avg_price_shop_3', 'avg_price_shop_4',\n",
       "       'avg_price_shop_5'], dtype=object)"
      ]
     },
     "execution_count": 4,
     "metadata": {},
     "output_type": "execute_result"
    }
   ],
   "source": [
    "data.columns.values"
   ]
  },
  {
   "cell_type": "markdown",
   "metadata": {},
   "source": [
    "Let's get the distribution of average purchases in store according to shops (in this case five stores)"
   ]
  },
  {
   "cell_type": "code",
   "execution_count": 5,
   "metadata": {
    "collapsed": false
   },
   "outputs": [
    {
     "data": {
      "image/png": "[encoded data removed]",
      "text/plain": [
       "<matplotlib.figure.Figure at 0x1173ca110>"
      ]
     },
     "metadata": {},
     "output_type": "display_data"
    }
   ],
   "source": [
    "list_purchase = []\n",
    "for k in range(1,6):\n",
    "    text_ = 'avg_purchase_shop_' + str(k)\n",
    "    aux_ = data[text_].sum()/1000.\n",
    "    list_purchase.append(aux_)\n",
    "dfAux = pd.DataFrame()\n",
    "dfAux['Store Number'] = [1,2,3,4,5]\n",
    "dfAux['Avg. Purchase in Shop'] = list_purchase\n",
    "\n",
    "dfAux.plot(x='Store Number',y='Avg. Purchase in Shop',kind='bar',\n",
    "           title='Average Purchase per Store',legend=False,grid=True)\n",
    "plt.xlabel('Shop Number')\n",
    "plt.ylabel('Avg. Purch. in Store (Thousands of Euros)')\n",
    "plt.show()"
   ]
  },
  {
   "cell_type": "markdown",
   "metadata": {},
   "source": [
    "The previous graph shows that the most profitable store is store number 1. In what follows we will try to figure out why but for the time being let's keep doing exploratory data analysis."
   ]
  },
  {
   "cell_type": "markdown",
   "metadata": {},
   "source": [
    "We now show distribution of customers according to the number of shops they use when they purchase"
   ]
  },
  {
   "cell_type": "code",
   "execution_count": 6,
   "metadata": {
    "collapsed": false
   },
   "outputs": [
    {
     "data": {
      "image/png": "[encoded data removed]",
      "text/plain": [
       "<matplotlib.figure.Figure at 0x1173b2810>"
      ]
     },
     "metadata": {},
     "output_type": "display_data"
    }
   ],
   "source": [
    "list_purchase = []\n",
    "for k in range(1,6):\n",
    "    aux_ = sum(data['shops_used']== k)\n",
    "    perc_ = float(aux_/1000.)\n",
    "    list_purchase.append(perc_)\n",
    "dfAux = pd.DataFrame()\n",
    "dfAux['Number of Shops Used'] = [1,2,3,4,5]\n",
    "dfAux['Number of Customers'] = list_purchase\n",
    "\n",
    "dfAux.plot(x='Number of Shops Used',y='Number of Customers',kind='bar',\n",
    "           title='Distribution of Customers According to Number of Stores Used',\n",
    "           legend=False,grid=True)\n",
    "plt.xlabel('Number of shops used ')\n",
    "plt.ylabel('Number of customers (thousands)')\n",
    "plt.show()"
   ]
  },
  {
   "cell_type": "markdown",
   "metadata": {},
   "source": [
    "The previous bar plot reveals that the majority of clients utilize exactly two stores, follows by customers that utilize exactly two and then the ones that use exactly one. The minority utilize exactly four and five stores so we will focus on the ones that use exactly one, two and three stores."
   ]
  },
  {
   "cell_type": "code",
   "execution_count": 7,
   "metadata": {
    "collapsed": false
   },
   "outputs": [
    {
     "data": {
      "image/png": "[encoded data removed]",
      "text/plain": [
       "<matplotlib.figure.Figure at 0x1175e5990>"
      ]
     },
     "metadata": {},
     "output_type": "display_data"
    }
   ],
   "source": [
    "list_purchase = []\n",
    "labels_ = [\"One store\",\"Two stores\",\"Three stores\",\"Four stores\",\"Five stores\"]\n",
    "colors = ['lightblue','red','yellow','magenta','green']\n",
    "explode = (0.05,0.05,0.05,0.05,0.05)\n",
    "for k in range(1,6):\n",
    "    aux_ = sum(data['shops_used']== k)\n",
    "    perc_ = float(aux_)\n",
    "    list_purchase.append(perc_)\n",
    "list_purchase = np.array(list_purchase) \n",
    "list_purchase = list_purchase*100./sum(list_purchase)\n",
    "\n",
    "    \n",
    "matplotlib.rcParams.update({'font.size': 12})\n",
    "plt.pie(list_purchase,explode=explode,colors=colors,labels=labels_,\n",
    "        autopct='%1.1f%%',shadow=True,startangle=10)\n",
    "\n",
    "plt.axis('equal')\n",
    "\n",
    "plt.title('Customers according to number of stores used')\n",
    "\n",
    "plt.show()\n"
   ]
  },
  {
   "cell_type": "markdown",
   "metadata": {
    "collapsed": false
   },
   "source": [
    "We now let's show the distribution of customers according to the shop number"
   ]
  },
  {
   "cell_type": "code",
   "execution_count": 8,
   "metadata": {
    "collapsed": false
   },
   "outputs": [
    {
     "data": {
      "image/png": "[encoded data removed]",
      "text/plain": [
       "<matplotlib.figure.Figure at 0x118341050>"
      ]
     },
     "metadata": {},
     "output_type": "display_data"
    },
    {
     "data": {
      "image/png": "[encoded data removed]",
      "text/plain": [
       "<matplotlib.figure.Figure at 0x1173b2090>"
      ]
     },
     "metadata": {},
     "output_type": "display_data"
    }
   ],
   "source": [
    "list_purchase = []\n",
    "for k in range(1,6):\n",
    "    text_ = 'avg_price_shop_' + str(k)\n",
    "    aux_ = sum(data[text_] <> 0)\n",
    "    perc_ = float(sum(data[text_] <> 0)/1000.)\n",
    "    list_purchase.append(perc_)\n",
    "dfAux = pd.DataFrame()\n",
    "dfAux['Shop Number'] = [1,2,3,4,5]\n",
    "dfAux['Number of Customers'] = list_purchase\n",
    "\n",
    "dfAux.plot(x='Shop Number',y='Number of Customers',kind='bar',\n",
    "           title='Distribution of Customers According to Store Number',\n",
    "           legend=False,grid=True)\n",
    "plt.xlabel('Shop Number')\n",
    "plt.ylabel('Number of Customers (Thousands)')\n",
    "plt.show()\n",
    "\n",
    "# Pie chart\n",
    "\n",
    "labels_ = [\"Shop 1\",\"Shop 2\",\"Shop 3\",\"Shop 4\",\"Shop 5\"]\n",
    "colors = ['lightblue','red','yellow','magenta','green']\n",
    "list_purchase = np.array(list_purchase) \n",
    "list_purchase = list_purchase*100./sum(list_purchase)\n",
    " \n",
    "matplotlib.rcParams.update({'font.size': 12})\n",
    "plt.pie(list_purchase,explode=explode,colors=colors,labels=labels_,\n",
    "        autopct='%1.1f%%',shadow=True,startangle=-30)\n",
    "\n",
    "plt.axis('equal')\n",
    "\n",
    "plt.title('Customers according to shop number')\n",
    "\n",
    "plt.show()\n",
    "\n",
    "\n"
   ]
  },
  {
   "cell_type": "markdown",
   "metadata": {},
   "source": [
    "In what follows we will add to our data frame two columns. One of them will indicate the number of store that is closest to customer while the other will indicate what shop is the farthest. For this goal we first remind ourselves of what the relevant fields are."
   ]
  },
  {
   "cell_type": "code",
   "execution_count": 9,
   "metadata": {
    "collapsed": false
   },
   "outputs": [
    {
     "data": {
      "text/html": [
       "<div>\n",
       "<table border=\"1\" class=\"dataframe\">\n",
       "  <thead>\n",
       "    <tr style=\"text-align: right;\">\n",
       "      <th></th>\n",
       "      <th>distance_shop_1</th>\n",
       "      <th>distance_shop_2</th>\n",
       "      <th>distance_shop_3</th>\n",
       "      <th>distance_shop_4</th>\n",
       "      <th>distance_shop_5</th>\n",
       "    </tr>\n",
       "  </thead>\n",
       "  <tbody>\n",
       "    <tr>\n",
       "      <th>0</th>\n",
       "      <td>4082.5222</td>\n",
       "      <td>985.8762</td>\n",
       "      <td>2372.09700</td>\n",
       "      <td>4929.8047</td>\n",
       "      <td>3284.38670</td>\n",
       "    </tr>\n",
       "    <tr>\n",
       "      <th>1</th>\n",
       "      <td>1115.3433</td>\n",
       "      <td>2295.4840</td>\n",
       "      <td>670.90080</td>\n",
       "      <td>2048.0605</td>\n",
       "      <td>254.94832</td>\n",
       "    </tr>\n",
       "    <tr>\n",
       "      <th>2</th>\n",
       "      <td>1418.8348</td>\n",
       "      <td>2831.7727</td>\n",
       "      <td>1286.81900</td>\n",
       "      <td>1545.1963</td>\n",
       "      <td>754.29560</td>\n",
       "    </tr>\n",
       "    <tr>\n",
       "      <th>3</th>\n",
       "      <td>1104.3829</td>\n",
       "      <td>2210.3820</td>\n",
       "      <td>617.28710</td>\n",
       "      <td>2181.6853</td>\n",
       "      <td>362.79178</td>\n",
       "    </tr>\n",
       "    <tr>\n",
       "      <th>4</th>\n",
       "      <td>1913.7630</td>\n",
       "      <td>1375.1184</td>\n",
       "      <td>275.46753</td>\n",
       "      <td>2961.3035</td>\n",
       "      <td>1172.37730</td>\n",
       "    </tr>\n",
       "  </tbody>\n",
       "</table>\n",
       "</div>"
      ],
      "text/plain": [
       "   distance_shop_1  distance_shop_2  distance_shop_3  distance_shop_4  \\\n",
       "0        4082.5222         985.8762       2372.09700        4929.8047   \n",
       "1        1115.3433        2295.4840        670.90080        2048.0605   \n",
       "2        1418.8348        2831.7727       1286.81900        1545.1963   \n",
       "3        1104.3829        2210.3820        617.28710        2181.6853   \n",
       "4        1913.7630        1375.1184        275.46753        2961.3035   \n",
       "\n",
       "   distance_shop_5  \n",
       "0       3284.38670  \n",
       "1        254.94832  \n",
       "2        754.29560  \n",
       "3        362.79178  \n",
       "4       1172.37730  "
      ]
     },
     "execution_count": 9,
     "metadata": {},
     "output_type": "execute_result"
    }
   ],
   "source": [
    "data[['distance_shop_1', 'distance_shop_2',\n",
    "       'distance_shop_3', 'distance_shop_4', 'distance_shop_5']].head()"
   ]
  },
  {
   "cell_type": "markdown",
   "metadata": {},
   "source": [
    "Let's now transform the previous data frame to a numpy array for further calculations"
   ]
  },
  {
   "cell_type": "code",
   "execution_count": 10,
   "metadata": {
    "collapsed": false
   },
   "outputs": [
    {
     "name": "stdout",
     "output_type": "stream",
     "text": [
      "[[ 4082.5222    985.8762   2372.097    4929.8047   3284.3867 ]\n",
      " [ 1115.3433   2295.484     670.9008   2048.0605    254.94832]\n",
      " [ 1418.8348   2831.7727   1286.819    1545.1963    754.2956 ]\n",
      " ..., \n",
      " [  938.86285  2375.3333    785.6533   2044.8994    247.7872 ]\n",
      " [ 1727.252    1846.5889   1124.2445   3185.135    1456.6217 ]\n",
      " [ 1025.5867   3444.8223   1823.8531    869.9029    959.00525]]\n"
     ]
    }
   ],
   "source": [
    "dist_ = data[['distance_shop_1', 'distance_shop_2',\n",
    "       'distance_shop_3', 'distance_shop_4', 'distance_shop_5']].values\n",
    "print dist_"
   ]
  },
  {
   "cell_type": "markdown",
   "metadata": {},
   "source": [
    "We finally add the two aforementioned columns..."
   ]
  },
  {
   "cell_type": "code",
   "execution_count": 11,
   "metadata": {
    "collapsed": false
   },
   "outputs": [],
   "source": [
    "# Empty lists\n",
    "closest = []\n",
    "farthest = []\n",
    "# For every customer (columns in previous matrix )...\n",
    "for k in range(num_customers):\n",
    "    # ... find the index that corresponds to the maximum and minimum \n",
    "    # distances and add one to it (remember indexing in Python begins\n",
    "    # at zero while the indexing at customer number begins at one) ...\n",
    "    Min = 1 + dist_[k,:].argmin()\n",
    "    Max = 1 + dist_[k,:].argmax()\n",
    "    #  ... and add each value to corresponding list\n",
    "    closest.append(Min)\n",
    "    farthest.append(Max)\n",
    "# Finally add columns to the data frame\n",
    "data['closest_shop'] = closest\n",
    "data['farthest_shop'] = farthest"
   ]
  },
  {
   "cell_type": "markdown",
   "metadata": {},
   "source": [
    "We check the previous actions took place"
   ]
  },
  {
   "cell_type": "code",
   "execution_count": 12,
   "metadata": {
    "collapsed": false
   },
   "outputs": [
    {
     "data": {
      "text/html": [
       "<div>\n",
       "<table border=\"1\" class=\"dataframe\">\n",
       "  <thead>\n",
       "    <tr style=\"text-align: right;\">\n",
       "      <th></th>\n",
       "      <th>distance_shop_1</th>\n",
       "      <th>distance_shop_2</th>\n",
       "      <th>distance_shop_3</th>\n",
       "      <th>distance_shop_4</th>\n",
       "      <th>distance_shop_5</th>\n",
       "      <th>closest_shop</th>\n",
       "      <th>farthest_shop</th>\n",
       "    </tr>\n",
       "  </thead>\n",
       "  <tbody>\n",
       "    <tr>\n",
       "      <th>0</th>\n",
       "      <td>4082.5222</td>\n",
       "      <td>985.8762</td>\n",
       "      <td>2372.09700</td>\n",
       "      <td>4929.8047</td>\n",
       "      <td>3284.38670</td>\n",
       "      <td>2</td>\n",
       "      <td>4</td>\n",
       "    </tr>\n",
       "    <tr>\n",
       "      <th>1</th>\n",
       "      <td>1115.3433</td>\n",
       "      <td>2295.4840</td>\n",
       "      <td>670.90080</td>\n",
       "      <td>2048.0605</td>\n",
       "      <td>254.94832</td>\n",
       "      <td>5</td>\n",
       "      <td>2</td>\n",
       "    </tr>\n",
       "    <tr>\n",
       "      <th>2</th>\n",
       "      <td>1418.8348</td>\n",
       "      <td>2831.7727</td>\n",
       "      <td>1286.81900</td>\n",
       "      <td>1545.1963</td>\n",
       "      <td>754.29560</td>\n",
       "      <td>5</td>\n",
       "      <td>2</td>\n",
       "    </tr>\n",
       "    <tr>\n",
       "      <th>3</th>\n",
       "      <td>1104.3829</td>\n",
       "      <td>2210.3820</td>\n",
       "      <td>617.28710</td>\n",
       "      <td>2181.6853</td>\n",
       "      <td>362.79178</td>\n",
       "      <td>5</td>\n",
       "      <td>2</td>\n",
       "    </tr>\n",
       "    <tr>\n",
       "      <th>4</th>\n",
       "      <td>1913.7630</td>\n",
       "      <td>1375.1184</td>\n",
       "      <td>275.46753</td>\n",
       "      <td>2961.3035</td>\n",
       "      <td>1172.37730</td>\n",
       "      <td>3</td>\n",
       "      <td>4</td>\n",
       "    </tr>\n",
       "  </tbody>\n",
       "</table>\n",
       "</div>"
      ],
      "text/plain": [
       "   distance_shop_1  distance_shop_2  distance_shop_3  distance_shop_4  \\\n",
       "0        4082.5222         985.8762       2372.09700        4929.8047   \n",
       "1        1115.3433        2295.4840        670.90080        2048.0605   \n",
       "2        1418.8348        2831.7727       1286.81900        1545.1963   \n",
       "3        1104.3829        2210.3820        617.28710        2181.6853   \n",
       "4        1913.7630        1375.1184        275.46753        2961.3035   \n",
       "\n",
       "   distance_shop_5  closest_shop  farthest_shop  \n",
       "0       3284.38670             2              4  \n",
       "1        254.94832             5              2  \n",
       "2        754.29560             5              2  \n",
       "3        362.79178             5              2  \n",
       "4       1172.37730             3              4  "
      ]
     },
     "execution_count": 12,
     "metadata": {},
     "output_type": "execute_result"
    }
   ],
   "source": [
    "data[['distance_shop_1', 'distance_shop_2',\n",
    "       'distance_shop_3', 'distance_shop_4', 'distance_shop_5','closest_shop',\n",
    "      'farthest_shop']].head()"
   ]
  },
  {
   "cell_type": "markdown",
   "metadata": {},
   "source": [
    "We now see distribution of customers according to closeness to store"
   ]
  },
  {
   "cell_type": "code",
   "execution_count": 13,
   "metadata": {
    "collapsed": false
   },
   "outputs": [
    {
     "data": {
      "image/png": "[encoded data removed]",
      "text/plain": [
       "<matplotlib.figure.Figure at 0x1175a2850>"
      ]
     },
     "metadata": {},
     "output_type": "display_data"
    }
   ],
   "source": [
    "# Reference for pie chart: https://www.getdatajoy.com/examples/python-plots/pie-chart\n",
    "list_purchase = []\n",
    "labels_ = [\"Store 1\",\"Store 2\",\"Store 3\",\"Store 4\",\"Store 5\"]\n",
    "colors = ['lightblue','red','yellow','magenta','green']\n",
    "explode = (0.2,0.05,0.05,0.05,0.05)\n",
    "for k in range(1,6):\n",
    "    aux_ = sum(data['closest_shop'] == k)\n",
    "    perc_ = float(aux_)*100./float(num_customers)\n",
    "    list_purchase.append(perc_)\n",
    "\n",
    "    \n",
    "matplotlib.rcParams.update({'font.size': 12})\n",
    "plt.pie(list_purchase,explode=explode,colors=colors,labels=labels_,\n",
    "        autopct='%1.1f%%',shadow=True,startangle=-15)\n",
    "\n",
    "plt.axis('equal')\n",
    "\n",
    "plt.title('Customers according to closeness to stores')\n",
    "\n",
    "plt.show()\n",
    "\n"
   ]
  },
  {
   "cell_type": "code",
   "execution_count": 14,
   "metadata": {
    "collapsed": false
   },
   "outputs": [
    {
     "data": {
      "image/png": "[encoded data removed]",
      "text/plain": [
       "<matplotlib.figure.Figure at 0x11740fed0>"
      ]
     },
     "metadata": {},
     "output_type": "display_data"
    }
   ],
   "source": [
    "# Reference for pie chart: https://www.getdatajoy.com/examples/python-plots/pie-chart\n",
    "list_purchase = []\n",
    "labels_ = [\"Store 1\",\"Store 2\",\"Store 3\",\"Store 4\",\"Store 5\"]\n",
    "colors = ['lightblue','red','yellow','magenta','green']\n",
    "explode = (0.05,0.05,0.05,0.05,0.05)\n",
    "text_ = 'avg_purchase_shop_'\n",
    "num_ = sum((data['shops_used'] == 1))\n",
    "for k in range(1,6):\n",
    "    aux_ = sum((data[text_ + str(k)] != 0) & (data['shops_used'] == 1))\n",
    "    perc_ = float(aux_)*100./float(num_)\n",
    "    list_purchase.append(perc_)\n",
    "\n",
    "    \n",
    "matplotlib.rcParams.update({'font.size': 12})\n",
    "plt.pie(list_purchase,explode=explode,colors=colors,labels=labels_,\n",
    "        autopct='%1.1f%%',shadow=True,startangle=45)\n",
    "\n",
    "plt.axis('equal')\n",
    "\n",
    "plt.title('Customers who buy exclusively in one store')\n",
    "\n",
    "plt.show()\n",
    "\n",
    "\n"
   ]
  },
  {
   "cell_type": "markdown",
   "metadata": {},
   "source": [
    "The previous bar plot reveals that the majority of customers live closest to store 2 while the minorty live closest to store 1. This is something that deserves more exploration since the store that generated the highest revenue, on average, is store 1. Keep in mind that that bar plot showing the average purchase per store does not exclude customers that buy **exclusively** in that store. That is, people who by in store 1 may also buy in other stores. \n",
    "Let's then analyse this further."
   ]
  },
  {
   "cell_type": "markdown",
   "metadata": {
    "collapsed": false
   },
   "source": [
    "We now analyse, of the people who purchase in a given store, what fraction of them live closest to such given store."
   ]
  },
  {
   "cell_type": "code",
   "execution_count": 15,
   "metadata": {
    "collapsed": false
   },
   "outputs": [
    {
     "data": {
      "image/png": "[encoded data removed]",
      "text/plain": [
       "<matplotlib.figure.Figure at 0x11752cdd0>"
      ]
     },
     "metadata": {},
     "output_type": "display_data"
    }
   ],
   "source": [
    "# Fraction of people who purchse in a given store that live closest to it\n",
    "\n",
    "# Set empty lists and empty data frame\n",
    "listA = []; listB = []\n",
    "df_stack = pd.DataFrame()\n",
    "# Auxiliary test to extract desired values\n",
    "text_ = 'amount_purchased_shop_'\n",
    "# For each of the five stores...\n",
    "for k in range(1,6):\n",
    "    # ... the total number of customers who purchased at \n",
    "    # the store in turn ...\n",
    "    a = sum((data[text_ + str(k)] != 0.)) \n",
    "    # ... and from that total number, get the ones that ALSO live \n",
    "    # closest to the store in turn.\n",
    "    b = sum((data[text_ + str(k)] != 0.) & (data.closest_shop == k))\n",
    "    \n",
    "    # From the customers who purchase at a given store we determine the \n",
    "    # fraction of them that live the closest to the store in question\n",
    "    fract_ = float(b)/float(a)\n",
    "    # Store the complement (the ones who DO NOT live closest to store)...\n",
    "    listA.append((1. - fract_)*100.)\n",
    "    # ... and the fraction itself\n",
    "    listB.append(fract_*100.)\n",
    "\n",
    "# Create dataframe to make the stacked bar plots\n",
    "df_stack['Closest to shop'] = listB\n",
    "df_stack['Not closest to shop'] = listA\n",
    "df_stack.index = range(1,6)\n",
    "\n",
    "# And plot\n",
    "matplotlib.rcParams.update({'font.size': 12})\n",
    "df_stack.plot(kind='bar',\n",
    "           title='Fraction of purchases in a given store',stacked=True,\n",
    "              grid=True)\n",
    "plt.xlabel('Shop chosen')\n",
    "plt.ylabel('Percentage of customers')\n",
    "plt.show()\n",
    "\n"
   ]
  },
  {
   "cell_type": "code",
   "execution_count": 16,
   "metadata": {
    "collapsed": false
   },
   "outputs": [
    {
     "data": {
      "text/html": [
       "<div>\n",
       "<table border=\"1\" class=\"dataframe\">\n",
       "  <thead>\n",
       "    <tr style=\"text-align: right;\">\n",
       "      <th></th>\n",
       "      <th>Closest to shop</th>\n",
       "      <th>Not closest to shop</th>\n",
       "    </tr>\n",
       "  </thead>\n",
       "  <tbody>\n",
       "    <tr>\n",
       "      <th>1</th>\n",
       "      <td>3.409418</td>\n",
       "      <td>96.590582</td>\n",
       "    </tr>\n",
       "    <tr>\n",
       "      <th>2</th>\n",
       "      <td>38.183685</td>\n",
       "      <td>61.816315</td>\n",
       "    </tr>\n",
       "    <tr>\n",
       "      <th>3</th>\n",
       "      <td>42.013364</td>\n",
       "      <td>57.986636</td>\n",
       "    </tr>\n",
       "    <tr>\n",
       "      <th>4</th>\n",
       "      <td>54.961538</td>\n",
       "      <td>45.038462</td>\n",
       "    </tr>\n",
       "    <tr>\n",
       "      <th>5</th>\n",
       "      <td>39.644208</td>\n",
       "      <td>60.355792</td>\n",
       "    </tr>\n",
       "  </tbody>\n",
       "</table>\n",
       "</div>"
      ],
      "text/plain": [
       "   Closest to shop  Not closest to shop\n",
       "1         3.409418            96.590582\n",
       "2        38.183685            61.816315\n",
       "3        42.013364            57.986636\n",
       "4        54.961538            45.038462\n",
       "5        39.644208            60.355792"
      ]
     },
     "execution_count": 16,
     "metadata": {},
     "output_type": "execute_result"
    }
   ],
   "source": [
    "df_stack"
   ]
  },
  {
   "cell_type": "markdown",
   "metadata": {},
   "source": [
    "Of particular interest is store number 1. Only **3.5%** of customers who purchased in that store live the closest to it. A less dramatic but still interesting situation can be seen in stores 2, 3 and 5; about **40 %** of each of these stores' customers live the closest to each of them. "
   ]
  },
  {
   "cell_type": "markdown",
   "metadata": {},
   "source": [
    "Let's do a similar analysis but this time we will focus only on customers that purchased EXCLUSIVELY in ONE store"
   ]
  },
  {
   "cell_type": "code",
   "execution_count": 17,
   "metadata": {
    "collapsed": false
   },
   "outputs": [
    {
     "data": {
      "image/png": "[encoded data removed]",
      "text/plain": [
       "<matplotlib.figure.Figure at 0x1175a2f50>"
      ]
     },
     "metadata": {},
     "output_type": "display_data"
    }
   ],
   "source": [
    "# Empty lists and dataframe\n",
    "listA = [];listB = []\n",
    "df_stack = pd.DataFrame()\n",
    "\n",
    "# Auxiliary text to filter data of interest\n",
    "text_ = 'amount_purchased_shop_'\n",
    "\n",
    "# For each store...\n",
    "for k in range(1,6):\n",
    "    \n",
    "    # Get number of customers that purchased in the store in turn and ONLY in that store...\n",
    "    a =  sum((data[text_ + str(k)] != 0.) & (data.shops_used == 1))\n",
    "    # ... and extract from them those who are closest to the store in turn\n",
    "    b = sum((data[text_ + str(k)] != 0.) & (data.shops_used == 1) &\n",
    "            (data.closest_shop == k))\n",
    "    \n",
    "    # From the previous to numbers get the fraction desired...\n",
    "    fract_ = float(b)/float(a)\n",
    "\n",
    "    # ... and store it, as well as its complement, in the corresponding\n",
    "    # lists created before\n",
    "    listA.append((1. - fract_)*100.)\n",
    "    listB.append(fract_*100.)\n",
    "    \n",
    "\n",
    "# Create the corrsponding dataframe ...\n",
    "df_stack['Closest to shop'] = listB\n",
    "df_stack['Not closest to shop'] = listA\n",
    "df_stack.index = range(1,6)\n",
    "\n",
    "# ... and plot\n",
    "df_stack.plot(kind='bar',\n",
    "           title='Distribution of Customers Purchased in exactly one given store',stacked=True,\n",
    "              grid=True)\n",
    "plt.xlabel('Shop chosen')\n",
    "plt.ylabel('Percentage of customers')\n",
    "plt.show()\n",
    "\n",
    "    \n"
   ]
  },
  {
   "cell_type": "code",
   "execution_count": 18,
   "metadata": {
    "collapsed": false
   },
   "outputs": [
    {
     "data": {
      "text/html": [
       "<div>\n",
       "<table border=\"1\" class=\"dataframe\">\n",
       "  <thead>\n",
       "    <tr style=\"text-align: right;\">\n",
       "      <th></th>\n",
       "      <th>Closest to shop</th>\n",
       "      <th>Not closest to shop</th>\n",
       "    </tr>\n",
       "  </thead>\n",
       "  <tbody>\n",
       "    <tr>\n",
       "      <th>1</th>\n",
       "      <td>5.571554</td>\n",
       "      <td>94.428446</td>\n",
       "    </tr>\n",
       "    <tr>\n",
       "      <th>2</th>\n",
       "      <td>60.971660</td>\n",
       "      <td>39.028340</td>\n",
       "    </tr>\n",
       "    <tr>\n",
       "      <th>3</th>\n",
       "      <td>75.278396</td>\n",
       "      <td>24.721604</td>\n",
       "    </tr>\n",
       "    <tr>\n",
       "      <th>4</th>\n",
       "      <td>89.121339</td>\n",
       "      <td>10.878661</td>\n",
       "    </tr>\n",
       "    <tr>\n",
       "      <th>5</th>\n",
       "      <td>73.619632</td>\n",
       "      <td>26.380368</td>\n",
       "    </tr>\n",
       "  </tbody>\n",
       "</table>\n",
       "</div>"
      ],
      "text/plain": [
       "   Closest to shop  Not closest to shop\n",
       "1         5.571554            94.428446\n",
       "2        60.971660            39.028340\n",
       "3        75.278396            24.721604\n",
       "4        89.121339            10.878661\n",
       "5        73.619632            26.380368"
      ]
     },
     "execution_count": 18,
     "metadata": {},
     "output_type": "execute_result"
    }
   ],
   "source": [
    "df_stack"
   ]
  },
  {
   "cell_type": "markdown",
   "metadata": {},
   "source": [
    "This reveals that only **5.5% ** of customers who purchased in store 1 and store 1 only live the closest to it."
   ]
  },
  {
   "cell_type": "markdown",
   "metadata": {},
   "source": [
    "Let's do a similar analysis and determine, of the customers that purchased in ONLY one store and live the closest to a given store, the fraction that purchased in that particular store"
   ]
  },
  {
   "cell_type": "code",
   "execution_count": 19,
   "metadata": {
    "collapsed": false
   },
   "outputs": [
    {
     "data": {
      "image/png": "[encoded data removed]",
      "text/plain": [
       "<matplotlib.figure.Figure at 0x1174b1590>"
      ]
     },
     "metadata": {},
     "output_type": "display_data"
    }
   ],
   "source": [
    "# PERCENTAGE OF ALL PEOPLE WHO PURCHASE AT ONLY ONE GIVEN SHOP AND ARE CLOSEST TO SUCH STORE\n",
    "\n",
    "# Empty lists and dataframe\n",
    "listA = [];listB = []\n",
    "df_stack = pd.DataFrame()\n",
    "\n",
    "# Auxiliary text to filter data of interest\n",
    "text_ = 'amount_purchased_shop_'\n",
    "\n",
    "# For each store...\n",
    "for k in range(1,6):\n",
    "    \n",
    "    # Get number of customers that purchased ONLY in one store and live the closest\n",
    "    # to the store in question\n",
    "    a =  sum((data.closest_shop == k) & (data.shops_used == 1))\n",
    "    # ... and extract from them those who purchased in that store\n",
    "    b = sum((data[text_ + str(k)] != 0.) & (data.shops_used == 1) &\n",
    "            (data.closest_shop == k))\n",
    "    \n",
    "    # From the previous to numbers get the fraction desired...\n",
    "    fract_ = float(b)/float(a)\n",
    "\n",
    "    # ... and store it, as well as its complement, in the corresponding\n",
    "    # lists created before\n",
    "    listA.append((1. - fract_)*100.)\n",
    "    listB.append(fract_*100.)\n",
    "    \n",
    "\n",
    "# Create the corrsponding dataframe ...\n",
    "df_stack['Closest to shop'] = listB\n",
    "df_stack['Not closest to shop'] = listA\n",
    "df_stack.index = range(1,6)\n",
    "\n",
    "# ... and plot\n",
    "df_stack.plot(kind='bar',\n",
    "           title='Distribution of Customers Purchased in exactly one given store',stacked=True,\n",
    "              grid=True)\n",
    "plt.xlabel('Shop chosen')\n",
    "plt.ylabel('Percentage of customers')\n",
    "plt.show()\n",
    "\n",
    "    \n"
   ]
  },
  {
   "cell_type": "code",
   "execution_count": 20,
   "metadata": {
    "collapsed": false
   },
   "outputs": [
    {
     "data": {
      "text/html": [
       "<div>\n",
       "<table border=\"1\" class=\"dataframe\">\n",
       "  <thead>\n",
       "    <tr style=\"text-align: right;\">\n",
       "      <th></th>\n",
       "      <th>Closest to shop</th>\n",
       "      <th>Not closest to shop</th>\n",
       "    </tr>\n",
       "  </thead>\n",
       "  <tbody>\n",
       "    <tr>\n",
       "      <th>1</th>\n",
       "      <td>88.822355</td>\n",
       "      <td>11.177645</td>\n",
       "    </tr>\n",
       "    <tr>\n",
       "      <th>2</th>\n",
       "      <td>58.644860</td>\n",
       "      <td>41.355140</td>\n",
       "    </tr>\n",
       "    <tr>\n",
       "      <th>3</th>\n",
       "      <td>13.784666</td>\n",
       "      <td>86.215334</td>\n",
       "    </tr>\n",
       "    <tr>\n",
       "      <th>4</th>\n",
       "      <td>11.219384</td>\n",
       "      <td>88.780616</td>\n",
       "    </tr>\n",
       "    <tr>\n",
       "      <th>5</th>\n",
       "      <td>10.033445</td>\n",
       "      <td>89.966555</td>\n",
       "    </tr>\n",
       "  </tbody>\n",
       "</table>\n",
       "</div>"
      ],
      "text/plain": [
       "   Closest to shop  Not closest to shop\n",
       "1        88.822355            11.177645\n",
       "2        58.644860            41.355140\n",
       "3        13.784666            86.215334\n",
       "4        11.219384            88.780616\n",
       "5        10.033445            89.966555"
      ]
     },
     "execution_count": 20,
     "metadata": {},
     "output_type": "execute_result"
    }
   ],
   "source": [
    "df_stack"
   ]
  },
  {
   "cell_type": "markdown",
   "metadata": {},
   "source": [
    "Store 1 keeps getting our interst as **89%** of customers who purchased in only in one store and live the closest to that store, decided to purchase in that store. This percetange goes down to **60.0%** for store 2. A very dramatic situation is observed for stores 3, 4 and 5 as only **10%** of customers who live the closest to each corresponding store and purchased exclusively in one store, decided to purchase somewhere else."
   ]
  },
  {
   "cell_type": "markdown",
   "metadata": {},
   "source": [
    "To still have more insight about store 1 let's now focus on one-store-buyers and see how customers are distributed according to each store where they purchase and see how each segment is composed by buyers according to the distance to each store."
   ]
  },
  {
   "cell_type": "code",
   "execution_count": 21,
   "metadata": {
    "collapsed": false
   },
   "outputs": [],
   "source": [
    "# auxiliar text\n",
    "text_ = 'amount_purchased_shop_'\n",
    "# Set empty list that will keep track of each component per segment\n",
    "one_store = []\n",
    "# List that will store lists containing contributions from each store\n",
    "closest_to_X = []\n",
    "# Set to zero cumulative sum. This will be only used\n",
    "# as a check\n",
    "cumul_num = 0\n",
    "# For evert store...\n",
    "for k in range(1,6):\n",
    "    # Subset the dataset to determine the group of one-store-buyers that\n",
    "    # purchased in the store in turn\n",
    "    dfX = data[ (data[text_+str(k)] != 0.) & (data.shops_used == 1) ]\n",
    "    # Get number of customers from the dataframe in turn\n",
    "    numX = dfX.shape[0]\n",
    "    # Save such value in the created list ...\n",
    "    one_store.append(numX)\n",
    "    # ... and update cumulative sum\n",
    "    cumul_num += numX\n",
    "    \n",
    "    # Store the recently created list into the remaining empty list\n",
    "    closest_to_X.append( [sum(dfX.closest_shop == n) for n in range(1,6)] )\n",
    "    \n",
    "# Create an empty dataframe\n",
    "df_close = pd.DataFrame()\n",
    "# populate first column with total number of one-store-buyers according to each store\n",
    "df_close['Total customers'] = one_store\n",
    "# Create auxiliary text to populate rest of columns\n",
    "text_ = 'Closest to '\n",
    "# For each store ...\n",
    "for m in range(5):\n",
    "    # ... populate the corresponding column ...\n",
    "    df_close[text_+str(m+1)] = [closest_to_X[k][m] for k in range(5)]\n",
    "# ... and set indices in dataframe\n",
    "df_close.index = range(1,6)  \n",
    "\n"
   ]
  },
  {
   "cell_type": "code",
   "execution_count": 22,
   "metadata": {
    "collapsed": false
   },
   "outputs": [
    {
     "name": "stdout",
     "output_type": "stream",
     "text": [
      "11710\n",
      "11710\n"
     ]
    }
   ],
   "source": [
    "# We check cumulative sum agains total number of one-shop-buyers\n",
    "print cumul_num \n",
    "print sum(data.shops_used == 1)"
   ]
  },
  {
   "cell_type": "markdown",
   "metadata": {},
   "source": [
    "We check content of dataframe and create a stacked bar plot"
   ]
  },
  {
   "cell_type": "code",
   "execution_count": 23,
   "metadata": {
    "collapsed": false
   },
   "outputs": [
    {
     "data": {
      "text/html": [
       "<div>\n",
       "<table border=\"1\" class=\"dataframe\">\n",
       "  <thead>\n",
       "    <tr style=\"text-align: right;\">\n",
       "      <th></th>\n",
       "      <th>Total customers</th>\n",
       "      <th>Closest to 1</th>\n",
       "      <th>Closest to 2</th>\n",
       "      <th>Closest to 3</th>\n",
       "      <th>Closest to 4</th>\n",
       "      <th>Closest to 5</th>\n",
       "    </tr>\n",
       "  </thead>\n",
       "  <tbody>\n",
       "    <tr>\n",
       "      <th>1</th>\n",
       "      <td>7987</td>\n",
       "      <td>445</td>\n",
       "      <td>1019</td>\n",
       "      <td>1557</td>\n",
       "      <td>3112</td>\n",
       "      <td>1854</td>\n",
       "    </tr>\n",
       "    <tr>\n",
       "      <th>2</th>\n",
       "      <td>2470</td>\n",
       "      <td>18</td>\n",
       "      <td>1506</td>\n",
       "      <td>519</td>\n",
       "      <td>196</td>\n",
       "      <td>231</td>\n",
       "    </tr>\n",
       "    <tr>\n",
       "      <th>3</th>\n",
       "      <td>449</td>\n",
       "      <td>10</td>\n",
       "      <td>18</td>\n",
       "      <td>338</td>\n",
       "      <td>36</td>\n",
       "      <td>47</td>\n",
       "    </tr>\n",
       "    <tr>\n",
       "      <th>4</th>\n",
       "      <td>478</td>\n",
       "      <td>4</td>\n",
       "      <td>9</td>\n",
       "      <td>19</td>\n",
       "      <td>426</td>\n",
       "      <td>20</td>\n",
       "    </tr>\n",
       "    <tr>\n",
       "      <th>5</th>\n",
       "      <td>326</td>\n",
       "      <td>24</td>\n",
       "      <td>16</td>\n",
       "      <td>19</td>\n",
       "      <td>27</td>\n",
       "      <td>240</td>\n",
       "    </tr>\n",
       "  </tbody>\n",
       "</table>\n",
       "</div>"
      ],
      "text/plain": [
       "   Total customers  Closest to 1  Closest to 2  Closest to 3  Closest to 4  \\\n",
       "1             7987           445          1019          1557          3112   \n",
       "2             2470            18          1506           519           196   \n",
       "3              449            10            18           338            36   \n",
       "4              478             4             9            19           426   \n",
       "5              326            24            16            19            27   \n",
       "\n",
       "   Closest to 5  \n",
       "1          1854  \n",
       "2           231  \n",
       "3            47  \n",
       "4            20  \n",
       "5           240  "
      ]
     },
     "execution_count": 23,
     "metadata": {},
     "output_type": "execute_result"
    }
   ],
   "source": [
    "df_close"
   ]
  },
  {
   "cell_type": "code",
   "execution_count": 24,
   "metadata": {
    "collapsed": true
   },
   "outputs": [],
   "source": [
    "df_stack = df_close[['Closest to 1','Closest to 2','Closest to 3',\n",
    "                     'Closest to 4','Closest to 5']]"
   ]
  },
  {
   "cell_type": "code",
   "execution_count": 25,
   "metadata": {
    "collapsed": false
   },
   "outputs": [
    {
     "data": {
      "text/html": [
       "<div>\n",
       "<table border=\"1\" class=\"dataframe\">\n",
       "  <thead>\n",
       "    <tr style=\"text-align: right;\">\n",
       "      <th></th>\n",
       "      <th>Closest to 1</th>\n",
       "      <th>Closest to 2</th>\n",
       "      <th>Closest to 3</th>\n",
       "      <th>Closest to 4</th>\n",
       "      <th>Closest to 5</th>\n",
       "    </tr>\n",
       "  </thead>\n",
       "  <tbody>\n",
       "    <tr>\n",
       "      <th>1</th>\n",
       "      <td>445</td>\n",
       "      <td>1019</td>\n",
       "      <td>1557</td>\n",
       "      <td>3112</td>\n",
       "      <td>1854</td>\n",
       "    </tr>\n",
       "    <tr>\n",
       "      <th>2</th>\n",
       "      <td>18</td>\n",
       "      <td>1506</td>\n",
       "      <td>519</td>\n",
       "      <td>196</td>\n",
       "      <td>231</td>\n",
       "    </tr>\n",
       "    <tr>\n",
       "      <th>3</th>\n",
       "      <td>10</td>\n",
       "      <td>18</td>\n",
       "      <td>338</td>\n",
       "      <td>36</td>\n",
       "      <td>47</td>\n",
       "    </tr>\n",
       "    <tr>\n",
       "      <th>4</th>\n",
       "      <td>4</td>\n",
       "      <td>9</td>\n",
       "      <td>19</td>\n",
       "      <td>426</td>\n",
       "      <td>20</td>\n",
       "    </tr>\n",
       "    <tr>\n",
       "      <th>5</th>\n",
       "      <td>24</td>\n",
       "      <td>16</td>\n",
       "      <td>19</td>\n",
       "      <td>27</td>\n",
       "      <td>240</td>\n",
       "    </tr>\n",
       "  </tbody>\n",
       "</table>\n",
       "</div>"
      ],
      "text/plain": [
       "   Closest to 1  Closest to 2  Closest to 3  Closest to 4  Closest to 5\n",
       "1           445          1019          1557          3112          1854\n",
       "2            18          1506           519           196           231\n",
       "3            10            18           338            36            47\n",
       "4             4             9            19           426            20\n",
       "5            24            16            19            27           240"
      ]
     },
     "execution_count": 25,
     "metadata": {},
     "output_type": "execute_result"
    }
   ],
   "source": [
    "df_stack"
   ]
  },
  {
   "cell_type": "code",
   "execution_count": 26,
   "metadata": {
    "collapsed": false
   },
   "outputs": [
    {
     "data": {
      "image/png": "[encoded data removed]",
      "text/plain": [
       "<matplotlib.figure.Figure at 0x102d83250>"
      ]
     },
     "metadata": {},
     "output_type": "display_data"
    }
   ],
   "source": [
    "\n",
    "df_stack.plot(kind='bar',\n",
    "           title='Distribution of only-one-store buyers',stacked=True)\n",
    "plt.xlabel('Shop chosen')\n",
    "plt.ylabel('Number of customers')\n",
    "plt.show()"
   ]
  },
  {
   "cell_type": "markdown",
   "metadata": {},
   "source": [
    "It is important to note that of the total group of one-shop buyers, almost **70%** of them buy in store 1 but less than **10%** of this group are the closest to the store. This, and all the previous analysis, sugests there is something about store 1 that makes it attractive. Let's do some extra analysis."
   ]
  },
  {
   "cell_type": "markdown",
   "metadata": {},
   "source": [
    "The data given do not provide information about the type of products offered in each store. With this limitation in mind let's explore the **maximum** number of **unique** products purchased in each store. Hopefully this will give us some insight about the variety of products offered in each store."
   ]
  },
  {
   "cell_type": "code",
   "execution_count": 27,
   "metadata": {
    "collapsed": false
   },
   "outputs": [
    {
     "data": {
      "image/png": "[encoded data removed]",
      "text/plain": [
       "<matplotlib.figure.Figure at 0x117596050>"
      ]
     },
     "metadata": {},
     "output_type": "display_data"
    }
   ],
   "source": [
    "# Auxiliary texts for the processing\n",
    "text_1 = 'unique_products_purchased_shop_'\n",
    "text_2 = 'amount_purchased_shop_'\n",
    "# Empty list to creat the needed dataframe\n",
    "list_purchase = []\n",
    "# For each store ...\n",
    "for k in range(1,6):\n",
    "    # ... we subset the dataset to find one-shop buyers and the individuals that purchased \n",
    "    # in the corresponding store\n",
    "    aux_ = max(data[(data[text_2 + str(k)] != 0.) & (data.shops_used == 1) ][text_1 + str(k)].values)\n",
    "    # Add such a number of the created list\n",
    "    list_purchase.append(aux_)\n",
    "\n",
    "# Create empty dataframe\n",
    "dfAux = pd.DataFrame()\n",
    "# Add columns\n",
    "dfAux['Shop Number'] = [1,2,3,4,5]\n",
    "dfAux['Number of unique products'] = list_purchase\n",
    "# ... and index it\n",
    "#dfAux.index = range(1,6)\n",
    "\n",
    "# Generate the plot\n",
    "dfAux.plot(x='Shop Number',y='Number of unique products',kind='bar',\n",
    "           title='Max. number of unique products purchased (only one-store-buyers)',\n",
    "           legend=False,grid=True)\n",
    "plt.xlabel('Shop Number')\n",
    "plt.ylabel('Number of unique products')\n",
    "plt.show()\n",
    "\n"
   ]
  },
  {
   "cell_type": "markdown",
   "metadata": {},
   "source": [
    "Based on the limited information we have, the previous bar plot suggests that store 1 offers the greatest variety of products, followed by stores 2 and 3. It would be nice to know the unique products that are found at each store as it may be the case that cutomers who do not find products in store 1 go to store 2 after to look for the missing products. This is only speculation as we do not have data to support this; this is something to keep in mind for further analyses. "
   ]
  },
  {
   "cell_type": "markdown",
   "metadata": {},
   "source": [
    "We now consider the group of customers that purchased in exactly two shops. From this group we consider those who purchased in store 1 and another store. "
   ]
  },
  {
   "cell_type": "code",
   "execution_count": 28,
   "metadata": {
    "collapsed": false
   },
   "outputs": [
    {
     "data": {
      "image/png": "[encoded data removed]",
      "text/plain": [
       "<matplotlib.figure.Figure at 0x11cc2a4d0>"
      ]
     },
     "metadata": {},
     "output_type": "display_data"
    }
   ],
   "source": [
    "# Reference for pie chart: https://www.getdatajoy.com/examples/python-plots/pie-chart\n",
    "list_purchase = []\n",
    "labels_ = [\"Store 2\",\"Store 3\",\"Store 4\",\"Store 5\"]\n",
    "colors = ['red','yellow','magenta','green']\n",
    "explode = (0.05,0.05,0.05,0.05)\n",
    "text_ = 'avg_purchase_shop_'\n",
    "num_ = sum((data['shops_used'] == 2) & (data['avg_purchase_shop_1'] != 0))\n",
    "\n",
    "cumul_ = 0\n",
    "for k in range(2,6):\n",
    "    aux_ = sum((data[text_ + str(k)] != 0) & (data['shops_used'] == 2) & (data['avg_purchase_shop_1'] != 0))   \n",
    "    cumul_ += aux_\n",
    "    perc_ = float(aux_)*100./float(num_)\n",
    "    list_purchase.append(perc_)\n",
    "\n",
    "matplotlib.rcParams.update({'font.size': 12})\n",
    "plt.pie(list_purchase,explode=explode,colors=colors,labels=labels_,\n",
    "        autopct='%1.1f%%',shadow=True,startangle=45)\n",
    "\n",
    "plt.axis('equal')\n",
    "\n",
    "plt.title('Customers who buy exclusively in shop 1 and exactly one other shop')\n",
    "\n",
    "plt.show()\n"
   ]
  },
  {
   "cell_type": "markdown",
   "metadata": {
    "collapsed": false
   },
   "source": [
    "From the previous chart we see that from the groupe who purchased in exactly two shops, one of them being shop 1, **80%** of them purchased in store 2. This suggests that shops 1 and 2 may have something interesting that is worth exploring further."
   ]
  },
  {
   "cell_type": "markdown",
   "metadata": {
    "collapsed": false
   },
   "source": [
    "In what follows we consider the group of customers who purchased in exactly one store and write a function to perform AB tests on the proportion of customers who purchased in two given pair of shops."
   ]
  },
  {
   "cell_type": "code",
   "execution_count": 29,
   "metadata": {
    "collapsed": false
   },
   "outputs": [],
   "source": [
    "def ABTest_Proportions(data,field_1,field_2,alpha_):\n",
    "    acol = np.array(data[data.shops_used == 1][field_1].apply(lambda x: 1. if x !=0 else 0 ))\n",
    "    bcol = np.array(data[data.shops_used == 1][field_2].apply(lambda x: 1. if x !=0 else 0 ))\n",
    "\n",
    "    \n",
    "    if ((len(acol) < 30) | (len(bcol) < 30)):\n",
    "        print \"Your samples do not seem to be large enough\"\n",
    "        return len(acol),len(bcol)\n",
    "    else:\n",
    "        # Compute proportions\n",
    "        a_proportion = sum(acol)/len(acol)\n",
    "        b_proportion = sum(bcol)/len(bcol)\n",
    "        # Test statistic\n",
    "        test_statistic = (a_proportion - b_proportion )\n",
    "        # Pooled proportion\n",
    "        pooled_proportion = (sum(acol) + sum(bcol))/(len(acol) + len(bcol)) \n",
    "        # Standard error\n",
    "        SError = np.sqrt(pooled_proportion*(1-pooled_proportion)* (1./len(acol) + 1./len(bcol))  ) \n",
    "        # Z-score\n",
    "        z_score = test_statistic / SError\n",
    "        p_value = st.norm.sf(abs(z_score)) #one-sided\n",
    "        print 'z score = ' , z_score\n",
    "        print 'p value = ' , p_value\n",
    "        print 'Null hypothesis is' , p_value > alpha_\n",
    "        print \"Difference in proportions between\" , field_1 , \"and\" , field_2 \n",
    "        if p_value > alpha_:\n",
    "            print \"may have been due to chance\"\n",
    "        else: \n",
    "            print \"may NOT have been due to chance\"\n",
    "        print \"######\"*10"
   ]
  },
  {
   "cell_type": "code",
   "execution_count": 30,
   "metadata": {
    "collapsed": false
   },
   "outputs": [
    {
     "name": "stdout",
     "output_type": "stream",
     "text": [
      "Comparing proportions for shops 1 and 2\n",
      "z score =  72.5170476884\n",
      "p value =  0.0\n",
      "Null hypothesis is False\n",
      "Difference in proportions between amount_purchased_shop_1 and amount_purchased_shop_2\n",
      "may NOT have been due to chance\n",
      "############################################################\n",
      "Comparing proportions for shops 1 and 3\n",
      "z score =  102.604736824\n",
      "p value =  0.0\n",
      "Null hypothesis is False\n",
      "Difference in proportions between amount_purchased_shop_1 and amount_purchased_shop_3\n",
      "may NOT have been due to chance\n",
      "############################################################\n",
      "Comparing proportions for shops 1 and 4\n",
      "z score =  102.133651649\n",
      "p value =  0.0\n",
      "Null hypothesis is False\n",
      "Difference in proportions between amount_purchased_shop_1 and amount_purchased_shop_4\n",
      "may NOT have been due to chance\n",
      "############################################################\n",
      "Comparing proportions for shops 1 and 5\n",
      "z score =  104.619081505\n",
      "p value =  0.0\n",
      "Null hypothesis is False\n",
      "Difference in proportions between amount_purchased_shop_1 and amount_purchased_shop_5\n",
      "may NOT have been due to chance\n",
      "############################################################\n",
      "Comparing proportions for shops 2 and 3\n",
      "z score =  39.981141416\n",
      "p value =  0.0\n",
      "Null hypothesis is False\n",
      "Difference in proportions between amount_purchased_shop_2 and amount_purchased_shop_3\n",
      "may NOT have been due to chance\n",
      "############################################################\n",
      "Comparing proportions for shops 2 and 4\n",
      "z score =  39.2408949353\n",
      "p value =  0.0\n",
      "Null hypothesis is False\n",
      "Difference in proportions between amount_purchased_shop_2 and amount_purchased_shop_4\n",
      "may NOT have been due to chance\n",
      "############################################################\n",
      "Comparing proportions for shops 2 and 5\n",
      "z score =  43.2079033529\n",
      "p value =  0.0\n",
      "Null hypothesis is False\n",
      "Difference in proportions between amount_purchased_shop_2 and amount_purchased_shop_5\n",
      "may NOT have been due to chance\n",
      "############################################################\n",
      "Comparing proportions for shops 3 and 4\n",
      "z score =  -0.971914104232\n",
      "p value =  0.165546641239\n",
      "Null hypothesis is True\n",
      "Difference in proportions between amount_purchased_shop_3 and amount_purchased_shop_4\n",
      "may have been due to chance\n",
      "############################################################\n",
      "Comparing proportions for shops 3 and 5\n",
      "z score =  4.49325993291\n",
      "p value =  3.50705418551e-06\n",
      "Null hypothesis is False\n",
      "Difference in proportions between amount_purchased_shop_3 and amount_purchased_shop_5\n",
      "may NOT have been due to chance\n",
      "############################################################\n",
      "Comparing proportions for shops 4 and 5\n",
      "z score =  5.45507983921\n",
      "p value =  2.44754231668e-08\n",
      "Null hypothesis is False\n",
      "Difference in proportions between amount_purchased_shop_4 and amount_purchased_shop_5\n",
      "may NOT have been due to chance\n",
      "############################################################\n"
     ]
    }
   ],
   "source": [
    "text_ = 'amount_purchased_shop_'\n",
    "for i in range(1,6):\n",
    "    for j in range(i+1,6):\n",
    "        print \"Comparing proportions for shops \"  + str(i) + \" and \" + str(j)\n",
    "        ABTest_Proportions(data,'amount_purchased_shop_'+str(i),'amount_purchased_shop_'+str(j),0.05)"
   ]
  },
  {
   "cell_type": "markdown",
   "metadata": {
    "collapsed": false
   },
   "source": [
    "Let's recall the distribution of number of unique products for only-one-shop buyers"
   ]
  },
  {
   "cell_type": "code",
   "execution_count": 31,
   "metadata": {
    "collapsed": false
   },
   "outputs": [
    {
     "data": {
      "image/png": "[encoded data removed]",
      "text/plain": [
       "<matplotlib.figure.Figure at 0x11cc52a90>"
      ]
     },
     "metadata": {},
     "output_type": "display_data"
    },
    {
     "name": "stdout",
     "output_type": "stream",
     "text": [
      "[1229, 899, 739, 725, 572]\n"
     ]
    }
   ],
   "source": [
    "# Auxiliary texts for the processing\n",
    "text_1 = 'unique_products_purchased_shop_'\n",
    "text_2 = 'amount_purchased_shop_'\n",
    "# Empty list to creat the needed dataframe\n",
    "list_purchase = []\n",
    "# For each store ...\n",
    "for k in range(1,6):\n",
    "    # ... we subset the dataset to find one-shop buyers and the individuals that purchased \n",
    "    # in the corresponding store\n",
    "    aux_ = max(data[(data[text_2 + str(k)] != 0.) & (data.shops_used == 1) ][text_1 + str(k)].values)\n",
    "    # Add such a number of the created list\n",
    "    list_purchase.append(aux_)\n",
    "\n",
    "# Create empty dataframe\n",
    "dfAux = pd.DataFrame()\n",
    "# Add columns\n",
    "dfAux['Shop Number'] = [1,2,3,4,5]\n",
    "dfAux['Number of unique products'] = list_purchase\n",
    "# ... and index it\n",
    "#dfAux.index = range(1,6)\n",
    "\n",
    "# Generate the plot\n",
    "dfAux.plot(x='Shop Number',y='Number of unique products',kind='bar',\n",
    "           title='Max. number of unique products purchased (only one-store-buyers)',\n",
    "           legend=False,grid=True)\n",
    "plt.xlabel('Shop Number')\n",
    "plt.ylabel('Number of unique products')\n",
    "plt.show()\n",
    "\n",
    "print list_purchase"
   ]
  },
  {
   "cell_type": "markdown",
   "metadata": {},
   "source": [
    "Our AB tests executed indicate that only in the pair of shops 3 and 4 the difference in proportion between these two groups may have been due to chance. This somehow is reflected in the previous bar plot as the difference in the number of unique products purchased in those two groups is only 14. In the other two pairs the difference in number of unique products is, at least, 150. This may indicate that the driver in customers' decisions in what shop to buy, more than anything else, is variety of products. It would be nice to have more information regarding the specific type of products offered in each store. "
   ]
  },
  {
   "cell_type": "markdown",
   "metadata": {},
   "source": [
    "Let's try to cluster customers based on unique number of proucts purchased in every store as well as the distance to every store. We first attempt to cluster customers who buy exclusively in only two stores."
   ]
  },
  {
   "cell_type": "code",
   "execution_count": 78,
   "metadata": {
    "collapsed": false
   },
   "outputs": [
    {
     "name": "stdout",
     "output_type": "stream",
     "text": [
      "(17053, 5)\n"
     ]
    }
   ],
   "source": [
    "# Important references: \n",
    "# https://www.quora.com/Is-it-possible-to-use-cross-validation-to-select-the-number-of-clusters-for-k-means-or-the-EM-algorithm-for-mixture-models-of-Gaussians\n",
    "# http://www.statsoft.com/Textbook/Cluster-Analysis#vfold\n",
    "\n",
    "# We import tools to split dataset into train and test sets\n",
    "from sklearn.cross_validation import train_test_split\n",
    "\n",
    "# We focus on customers who purchased exactly in only two shops and grab only unique products purchased in every store \n",
    "# as well as distance to each of them.\n",
    "unique_2 = data[(data.shops_used == 2)][['unique_products_purchased_shop_1',\n",
    "                                                                           'unique_products_purchased_shop_2',\n",
    "                                         'unique_products_purchased_shop_3','unique_products_purchased_shop_4',\n",
    "                                         'unique_products_purchased_shop_5']].values\n",
    "\n",
    "\n",
    "#unique_2 = data[(data.shops_used == 2)][['unique_products_purchased_shop_1',\n",
    "#                                                                           'unique_products_purchased_shop_2',\n",
    "#                                         'unique_products_purchased_shop_3','unique_products_purchased_shop_4',\n",
    "#                                         'unique_products_purchased_shop_5','distance_shop_1','distance_shop_2',\n",
    "#                                                                           'distance_shop_3','distance_shop_4',\n",
    "#                                                                           'distance_shop_5']].values\n",
    "\n",
    "\n",
    "# We split dataset into training set (70%) and test set (30%)\n",
    "train_2, test_2 = train_test_split(unique_2, train_size=0.7)\n",
    "# We get an idea of the number of records in the training set\n",
    "print train_2.shape"
   ]
  },
  {
   "cell_type": "markdown",
   "metadata": {},
   "source": [
    "We now generate a plot to observe the percentage of variance explained versus the nuber of clusters. The idea is to determine the minumum number of cluster we need"
   ]
  },
  {
   "cell_type": "code",
   "execution_count": 79,
   "metadata": {
    "collapsed": false
   },
   "outputs": [
    {
     "data": {
      "text/plain": [
       "<matplotlib.text.Text at 0x118796210>"
      ]
     },
     "execution_count": 79,
     "metadata": {},
     "output_type": "execute_result"
    },
    {
     "data": {
      "image/png": "[encoded data removed]",
      "text/plain": [
       "<matplotlib.figure.Figure at 0x11849a490>"
      ]
     },
     "metadata": {},
     "output_type": "display_data"
    }
   ],
   "source": [
    "from scipy.spatial.distance import cdist, pdist\n",
    "from matplotlib import pyplot as plt\n",
    "\n",
    "# Determine your k range\n",
    "k_range = range(1,10)\n",
    "\n",
    "# Fit the kmeans model for each n_clusters = k\n",
    "k_means_var = [KMeans(n_clusters=k).fit(train_2) for k in k_range]\n",
    "\n",
    "# Pull out the cluster centers for each model\n",
    "centroids = [X.cluster_centers_ for X in k_means_var]\n",
    "\n",
    "# Calculate the Euclidean distance from \n",
    "# each point to each cluster center\n",
    "k_euclid = [cdist(train_2, cent, 'euclidean') for cent in centroids]\n",
    "dist = [np.min(ke,axis=1) for ke in k_euclid]\n",
    "\n",
    "# Total within-cluster sum of squares\n",
    "wcss = [sum(d**2) for d in dist]\n",
    "\n",
    "# The total sum of squares\n",
    "tss = sum(pdist(train_2)**2)/train_2.shape[0]\n",
    "\n",
    "# The between-cluster sum of squares\n",
    "bss = tss - wcss\n",
    "\n",
    "# elbow curve\n",
    "fig = plt.figure()\n",
    "ax = fig.add_subplot(111)\n",
    "ax.plot(k_range, bss/tss*100, 'b*-')\n",
    "ax.set_ylim((0,100))\n",
    "plt.grid(True)\n",
    "plt.xlabel('Number of clusters')\n",
    "plt.ylabel('Percentage of variance explained')\n",
    "plt.title('Variance Explained vs. k')\n"
   ]
  },
  {
   "cell_type": "markdown",
   "metadata": {},
   "source": [
    "Motivated by the previous plot we observe that six clusters explain almost **80%** of the variance; we attempt then six clusters on the test set."
   ]
  },
  {
   "cell_type": "code",
   "execution_count": 90,
   "metadata": {
    "collapsed": false
   },
   "outputs": [],
   "source": [
    "num_clusters = 6\n",
    "k_means = KMeans(n_clusters=num_clusters)\n",
    "kMeans = k_means.fit(test_1)\n",
    "clusters_labels = kMeans.predict(test_1) + 1\n",
    "\n",
    "df_clusters = pd.DataFrame()\n",
    "df_clusters['shop_1'] = test_1[:,0]\n",
    "df_clusters['shop_2'] = test_1[:,1]\n",
    "df_clusters['shop_3'] = test_1[:,2]\n",
    "df_clusters['shop_4'] = test_1[:,3]\n",
    "df_clusters['shop_5'] = test_1[:,4]\n",
    "df_clusters['cluster'] = clusters_labels"
   ]
  },
  {
   "cell_type": "code",
   "execution_count": 91,
   "metadata": {
    "collapsed": false
   },
   "outputs": [
    {
     "data": {
      "text/html": [
       "<div>\n",
       "<table border=\"1\" class=\"dataframe\">\n",
       "  <thead>\n",
       "    <tr style=\"text-align: right;\">\n",
       "      <th></th>\n",
       "      <th>shop_1</th>\n",
       "      <th>shop_2</th>\n",
       "      <th>shop_3</th>\n",
       "      <th>shop_4</th>\n",
       "      <th>shop_5</th>\n",
       "      <th>cluster</th>\n",
       "    </tr>\n",
       "  </thead>\n",
       "  <tbody>\n",
       "    <tr>\n",
       "      <th>0</th>\n",
       "      <td>149</td>\n",
       "      <td>0</td>\n",
       "      <td>0</td>\n",
       "      <td>33</td>\n",
       "      <td>0</td>\n",
       "      <td>6</td>\n",
       "    </tr>\n",
       "    <tr>\n",
       "      <th>1</th>\n",
       "      <td>99</td>\n",
       "      <td>714</td>\n",
       "      <td>0</td>\n",
       "      <td>0</td>\n",
       "      <td>0</td>\n",
       "      <td>2</td>\n",
       "    </tr>\n",
       "    <tr>\n",
       "      <th>2</th>\n",
       "      <td>300</td>\n",
       "      <td>205</td>\n",
       "      <td>0</td>\n",
       "      <td>0</td>\n",
       "      <td>0</td>\n",
       "      <td>2</td>\n",
       "    </tr>\n",
       "    <tr>\n",
       "      <th>3</th>\n",
       "      <td>124</td>\n",
       "      <td>429</td>\n",
       "      <td>0</td>\n",
       "      <td>0</td>\n",
       "      <td>0</td>\n",
       "      <td>2</td>\n",
       "    </tr>\n",
       "    <tr>\n",
       "      <th>4</th>\n",
       "      <td>194</td>\n",
       "      <td>94</td>\n",
       "      <td>0</td>\n",
       "      <td>0</td>\n",
       "      <td>0</td>\n",
       "      <td>1</td>\n",
       "    </tr>\n",
       "  </tbody>\n",
       "</table>\n",
       "</div>"
      ],
      "text/plain": [
       "   shop_1  shop_2  shop_3  shop_4  shop_5  cluster\n",
       "0     149       0       0      33       0        6\n",
       "1      99     714       0       0       0        2\n",
       "2     300     205       0       0       0        2\n",
       "3     124     429       0       0       0        2\n",
       "4     194      94       0       0       0        1"
      ]
     },
     "execution_count": 91,
     "metadata": {},
     "output_type": "execute_result"
    }
   ],
   "source": [
    "df_clusters.head()"
   ]
  },
  {
   "cell_type": "markdown",
   "metadata": {},
   "source": [
    "We now plot the clusters in a bar plot"
   ]
  },
  {
   "cell_type": "code",
   "execution_count": 92,
   "metadata": {
    "collapsed": false
   },
   "outputs": [],
   "source": [
    "matrix_clusters = np.zeros((num_clusters,5))\n",
    "for m in range(num_clusters):\n",
    "    #print \"Cluster \" , m+1\n",
    "    for k in range(5):\n",
    "        text = 'shop_' + str(k+1) \n",
    "        sum_ = sum((df_clusters.cluster == m+1) & (df_clusters['shop_'+str(k+1)] != 0 ))\n",
    "        #print text, sum_\n",
    "        matrix_clusters[m,k] = sum_\n",
    "    #print \"#######\"*2\n",
    "\n",
    "    \n",
    "df = pd.DataFrame()\n",
    "for k in range(5):\n",
    "    df['Shop ' + str(k+1)] = matrix_clusters[:,k]\n",
    "df.index = range(1,num_clusters+1) #['Cluster '+ str(i) for i in range(1,6)]\n"
   ]
  },
  {
   "cell_type": "code",
   "execution_count": 93,
   "metadata": {
    "collapsed": false
   },
   "outputs": [
    {
     "data": {
      "text/html": [
       "<div>\n",
       "<table border=\"1\" class=\"dataframe\">\n",
       "  <thead>\n",
       "    <tr style=\"text-align: right;\">\n",
       "      <th></th>\n",
       "      <th>Shop 1</th>\n",
       "      <th>Shop 2</th>\n",
       "      <th>Shop 3</th>\n",
       "      <th>Shop 4</th>\n",
       "      <th>Shop 5</th>\n",
       "    </tr>\n",
       "  </thead>\n",
       "  <tbody>\n",
       "    <tr>\n",
       "      <th>1</th>\n",
       "      <td>979</td>\n",
       "      <td>595</td>\n",
       "      <td>170</td>\n",
       "      <td>51</td>\n",
       "      <td>309</td>\n",
       "    </tr>\n",
       "    <tr>\n",
       "      <th>2</th>\n",
       "      <td>2425</td>\n",
       "      <td>2415</td>\n",
       "      <td>64</td>\n",
       "      <td>28</td>\n",
       "      <td>22</td>\n",
       "    </tr>\n",
       "    <tr>\n",
       "      <th>3</th>\n",
       "      <td>676</td>\n",
       "      <td>679</td>\n",
       "      <td>9</td>\n",
       "      <td>1</td>\n",
       "      <td>3</td>\n",
       "    </tr>\n",
       "    <tr>\n",
       "      <th>4</th>\n",
       "      <td>1532</td>\n",
       "      <td>1320</td>\n",
       "      <td>328</td>\n",
       "      <td>40</td>\n",
       "      <td>32</td>\n",
       "    </tr>\n",
       "    <tr>\n",
       "      <th>5</th>\n",
       "      <td>124</td>\n",
       "      <td>84</td>\n",
       "      <td>10</td>\n",
       "      <td>25</td>\n",
       "      <td>9</td>\n",
       "    </tr>\n",
       "    <tr>\n",
       "      <th>6</th>\n",
       "      <td>1289</td>\n",
       "      <td>755</td>\n",
       "      <td>90</td>\n",
       "      <td>488</td>\n",
       "      <td>66</td>\n",
       "    </tr>\n",
       "  </tbody>\n",
       "</table>\n",
       "</div>"
      ],
      "text/plain": [
       "   Shop 1  Shop 2  Shop 3  Shop 4  Shop 5\n",
       "1     979     595     170      51     309\n",
       "2    2425    2415      64      28      22\n",
       "3     676     679       9       1       3\n",
       "4    1532    1320     328      40      32\n",
       "5     124      84      10      25       9\n",
       "6    1289     755      90     488      66"
      ]
     },
     "execution_count": 93,
     "metadata": {},
     "output_type": "execute_result"
    }
   ],
   "source": [
    "df"
   ]
  },
  {
   "cell_type": "code",
   "execution_count": 94,
   "metadata": {
    "collapsed": false
   },
   "outputs": [
    {
     "data": {
      "image/png": "[encoded data removed]",
      "text/plain": [
       "<matplotlib.figure.Figure at 0x117db41d0>"
      ]
     },
     "metadata": {},
     "output_type": "display_data"
    }
   ],
   "source": [
    "df.plot(kind='bar',\n",
    "           title='Distribution of only-one-store buyers',stacked=True)\n",
    "plt.xlabel('Cluster')\n",
    "plt.ylabel('Number of customers')\n",
    "plt.show()"
   ]
  },
  {
   "cell_type": "markdown",
   "metadata": {},
   "source": [
    "We observe that although all clusters are dominated mostly by stores 1 and 2, all clusters still contain a mix of all shops. Just to get a feeling of the impact of distances on clusters, let's now attempt to use distances as features."
   ]
  },
  {
   "cell_type": "code",
   "execution_count": 95,
   "metadata": {
    "collapsed": false
   },
   "outputs": [
    {
     "name": "stdout",
     "output_type": "stream",
     "text": [
      "(17053, 5)\n"
     ]
    }
   ],
   "source": [
    "# Important references: \n",
    "# https://www.quora.com/Is-it-possible-to-use-cross-validation-to-select-the-number-of-clusters-for-k-means-or-the-EM-algorithm-for-mixture-models-of-Gaussians\n",
    "# http://www.statsoft.com/Textbook/Cluster-Analysis#vfold\n",
    "\n",
    "# We import tools to split dataset into train and test sets\n",
    "from sklearn.cross_validation import train_test_split\n",
    "\n",
    "# We focus on customers who purchased exactly in only two shops and grab only unique products purchased in every store \n",
    "# as well as distance to each of them.\n",
    "\n",
    "\n",
    "unique_2 = data[(data.shops_used == 2)][['distance_shop_1','distance_shop_2',\n",
    "                                                                           'distance_shop_3','distance_shop_4',\n",
    "                                                                           'distance_shop_5']].values\n",
    "\n",
    "\n",
    "#unique_2 = data[(data.shops_used == 2)][['unique_products_purchased_shop_1',\n",
    "#                                                                           'unique_products_purchased_shop_2',\n",
    "#                                         'unique_products_purchased_shop_3','unique_products_purchased_shop_4',\n",
    "#                                         'unique_products_purchased_shop_5','distance_shop_1','distance_shop_2',\n",
    "#                                                                           'distance_shop_3','distance_shop_4',\n",
    "#                                                                           'distance_shop_5']].values\n",
    "\n",
    "\n",
    "# We split dataset into training set (70%) and test set (30%)\n",
    "train_2, test_2 = train_test_split(unique_2, train_size=0.7)\n",
    "# We get an idea of the number of records in the training set\n",
    "print train_2.shape"
   ]
  },
  {
   "cell_type": "code",
   "execution_count": 96,
   "metadata": {
    "collapsed": false
   },
   "outputs": [
    {
     "data": {
      "text/plain": [
       "<matplotlib.text.Text at 0x11ca7e490>"
      ]
     },
     "execution_count": 96,
     "metadata": {},
     "output_type": "execute_result"
    },
    {
     "data": {
      "image/png": "[encoded data removed]",
      "text/plain": [
       "<matplotlib.figure.Figure at 0x11849a050>"
      ]
     },
     "metadata": {},
     "output_type": "display_data"
    }
   ],
   "source": [
    "from scipy.spatial.distance import cdist, pdist\n",
    "from matplotlib import pyplot as plt\n",
    "\n",
    "# Determine your k range\n",
    "k_range = range(1,10)\n",
    "\n",
    "# Fit the kmeans model for each n_clusters = k\n",
    "k_means_var = [KMeans(n_clusters=k).fit(train_2) for k in k_range]\n",
    "\n",
    "# Pull out the cluster centers for each model\n",
    "centroids = [X.cluster_centers_ for X in k_means_var]\n",
    "\n",
    "# Calculate the Euclidean distance from \n",
    "# each point to each cluster center\n",
    "k_euclid = [cdist(train_2, cent, 'euclidean') for cent in centroids]\n",
    "dist = [np.min(ke,axis=1) for ke in k_euclid]\n",
    "\n",
    "# Total within-cluster sum of squares\n",
    "wcss = [sum(d**2) for d in dist]\n",
    "\n",
    "# The total sum of squares\n",
    "tss = sum(pdist(train_2)**2)/train_2.shape[0]\n",
    "\n",
    "# The between-cluster sum of squares\n",
    "bss = tss - wcss\n",
    "\n",
    "# elbow curve\n",
    "fig = plt.figure()\n",
    "ax = fig.add_subplot(111)\n",
    "ax.plot(k_range, bss/tss*100, 'b*-')\n",
    "ax.set_ylim((0,100))\n",
    "plt.grid(True)\n",
    "plt.xlabel('Number of clusters')\n",
    "plt.ylabel('Percentage of variance explained')\n",
    "plt.title('Variance Explained vs. k')\n"
   ]
  },
  {
   "cell_type": "code",
   "execution_count": 97,
   "metadata": {
    "collapsed": true
   },
   "outputs": [],
   "source": [
    "num_clusters = 6\n",
    "k_means = KMeans(n_clusters=num_clusters)\n",
    "kMeans = k_means.fit(test_1)\n",
    "clusters_labels = kMeans.predict(test_1) + 1\n",
    "\n",
    "df_clusters = pd.DataFrame()\n",
    "df_clusters['shop_1'] = test_1[:,0]\n",
    "df_clusters['shop_2'] = test_1[:,1]\n",
    "df_clusters['shop_3'] = test_1[:,2]\n",
    "df_clusters['shop_4'] = test_1[:,3]\n",
    "df_clusters['shop_5'] = test_1[:,4]\n",
    "df_clusters['cluster'] = clusters_labels"
   ]
  },
  {
   "cell_type": "code",
   "execution_count": 98,
   "metadata": {
    "collapsed": false
   },
   "outputs": [
    {
     "data": {
      "text/html": [
       "<div>\n",
       "<table border=\"1\" class=\"dataframe\">\n",
       "  <thead>\n",
       "    <tr style=\"text-align: right;\">\n",
       "      <th></th>\n",
       "      <th>shop_1</th>\n",
       "      <th>shop_2</th>\n",
       "      <th>shop_3</th>\n",
       "      <th>shop_4</th>\n",
       "      <th>shop_5</th>\n",
       "      <th>cluster</th>\n",
       "    </tr>\n",
       "  </thead>\n",
       "  <tbody>\n",
       "    <tr>\n",
       "      <th>0</th>\n",
       "      <td>149</td>\n",
       "      <td>0</td>\n",
       "      <td>0</td>\n",
       "      <td>33</td>\n",
       "      <td>0</td>\n",
       "      <td>6</td>\n",
       "    </tr>\n",
       "    <tr>\n",
       "      <th>1</th>\n",
       "      <td>99</td>\n",
       "      <td>714</td>\n",
       "      <td>0</td>\n",
       "      <td>0</td>\n",
       "      <td>0</td>\n",
       "      <td>2</td>\n",
       "    </tr>\n",
       "    <tr>\n",
       "      <th>2</th>\n",
       "      <td>300</td>\n",
       "      <td>205</td>\n",
       "      <td>0</td>\n",
       "      <td>0</td>\n",
       "      <td>0</td>\n",
       "      <td>2</td>\n",
       "    </tr>\n",
       "    <tr>\n",
       "      <th>3</th>\n",
       "      <td>124</td>\n",
       "      <td>429</td>\n",
       "      <td>0</td>\n",
       "      <td>0</td>\n",
       "      <td>0</td>\n",
       "      <td>2</td>\n",
       "    </tr>\n",
       "    <tr>\n",
       "      <th>4</th>\n",
       "      <td>194</td>\n",
       "      <td>94</td>\n",
       "      <td>0</td>\n",
       "      <td>0</td>\n",
       "      <td>0</td>\n",
       "      <td>1</td>\n",
       "    </tr>\n",
       "  </tbody>\n",
       "</table>\n",
       "</div>"
      ],
      "text/plain": [
       "   shop_1  shop_2  shop_3  shop_4  shop_5  cluster\n",
       "0     149       0       0      33       0        6\n",
       "1      99     714       0       0       0        2\n",
       "2     300     205       0       0       0        2\n",
       "3     124     429       0       0       0        2\n",
       "4     194      94       0       0       0        1"
      ]
     },
     "execution_count": 98,
     "metadata": {},
     "output_type": "execute_result"
    }
   ],
   "source": [
    "df_clusters.head()"
   ]
  },
  {
   "cell_type": "code",
   "execution_count": 99,
   "metadata": {
    "collapsed": true
   },
   "outputs": [],
   "source": [
    "matrix_clusters = np.zeros((num_clusters,5))\n",
    "for m in range(num_clusters):\n",
    "    #print \"Cluster \" , m+1\n",
    "    for k in range(5):\n",
    "        text = 'shop_' + str(k+1) \n",
    "        sum_ = sum((df_clusters.cluster == m+1) & (df_clusters['shop_'+str(k+1)] != 0 ))\n",
    "        #print text, sum_\n",
    "        matrix_clusters[m,k] = sum_\n",
    "    #print \"#######\"*2\n",
    "\n",
    "    \n",
    "df = pd.DataFrame()\n",
    "for k in range(5):\n",
    "    df['Shop ' + str(k+1)] = matrix_clusters[:,k]\n",
    "df.index = range(1,num_clusters+1) #['Cluster '+ str(i) for i in range(1,6)]\n"
   ]
  },
  {
   "cell_type": "code",
   "execution_count": 100,
   "metadata": {
    "collapsed": false
   },
   "outputs": [
    {
     "data": {
      "text/html": [
       "<div>\n",
       "<table border=\"1\" class=\"dataframe\">\n",
       "  <thead>\n",
       "    <tr style=\"text-align: right;\">\n",
       "      <th></th>\n",
       "      <th>Shop 1</th>\n",
       "      <th>Shop 2</th>\n",
       "      <th>Shop 3</th>\n",
       "      <th>Shop 4</th>\n",
       "      <th>Shop 5</th>\n",
       "    </tr>\n",
       "  </thead>\n",
       "  <tbody>\n",
       "    <tr>\n",
       "      <th>1</th>\n",
       "      <td>974</td>\n",
       "      <td>594</td>\n",
       "      <td>166</td>\n",
       "      <td>51</td>\n",
       "      <td>309</td>\n",
       "    </tr>\n",
       "    <tr>\n",
       "      <th>2</th>\n",
       "      <td>2425</td>\n",
       "      <td>2415</td>\n",
       "      <td>64</td>\n",
       "      <td>28</td>\n",
       "      <td>22</td>\n",
       "    </tr>\n",
       "    <tr>\n",
       "      <th>3</th>\n",
       "      <td>676</td>\n",
       "      <td>679</td>\n",
       "      <td>9</td>\n",
       "      <td>1</td>\n",
       "      <td>3</td>\n",
       "    </tr>\n",
       "    <tr>\n",
       "      <th>4</th>\n",
       "      <td>1537</td>\n",
       "      <td>1321</td>\n",
       "      <td>332</td>\n",
       "      <td>40</td>\n",
       "      <td>32</td>\n",
       "    </tr>\n",
       "    <tr>\n",
       "      <th>5</th>\n",
       "      <td>124</td>\n",
       "      <td>84</td>\n",
       "      <td>10</td>\n",
       "      <td>25</td>\n",
       "      <td>9</td>\n",
       "    </tr>\n",
       "    <tr>\n",
       "      <th>6</th>\n",
       "      <td>1289</td>\n",
       "      <td>755</td>\n",
       "      <td>90</td>\n",
       "      <td>488</td>\n",
       "      <td>66</td>\n",
       "    </tr>\n",
       "  </tbody>\n",
       "</table>\n",
       "</div>"
      ],
      "text/plain": [
       "   Shop 1  Shop 2  Shop 3  Shop 4  Shop 5\n",
       "1     974     594     166      51     309\n",
       "2    2425    2415      64      28      22\n",
       "3     676     679       9       1       3\n",
       "4    1537    1321     332      40      32\n",
       "5     124      84      10      25       9\n",
       "6    1289     755      90     488      66"
      ]
     },
     "execution_count": 100,
     "metadata": {},
     "output_type": "execute_result"
    }
   ],
   "source": [
    "df"
   ]
  },
  {
   "cell_type": "code",
   "execution_count": 123,
   "metadata": {
    "collapsed": false
   },
   "outputs": [
    {
     "data": {
      "image/png": "[encoded data removed]",
      "text/plain": [
       "<matplotlib.figure.Figure at 0x118f34910>"
      ]
     },
     "metadata": {},
     "output_type": "display_data"
    }
   ],
   "source": [
    "df.plot(kind='bar',\n",
    "           title='Distribution of only-two-store buyers',stacked=True)\n",
    "plt.xlabel('Cluster')\n",
    "plt.ylabel('Number of customers')\n",
    "plt.show()"
   ]
  },
  {
   "cell_type": "markdown",
   "metadata": {},
   "source": [
    "We observe something similar as before. Let's now then try to do PCA before clustering. The motivation for doing this is that from our previous analysis we oberved that both, distance and unique number of items purchased, were identified as important features for our analysis."
   ]
  },
  {
   "cell_type": "code",
   "execution_count": 155,
   "metadata": {
    "collapsed": false
   },
   "outputs": [
    {
     "name": "stdout",
     "output_type": "stream",
     "text": [
      "(17053, 10)\n"
     ]
    }
   ],
   "source": [
    "from sklearn.decomposition import PCA\n",
    "\n",
    "\n",
    "unique_2 = data[(data.shops_used == 2)][['unique_products_purchased_shop_1',\n",
    "                                                                           'unique_products_purchased_shop_2',\n",
    "                                         'unique_products_purchased_shop_3','unique_products_purchased_shop_4',\n",
    "                                         'unique_products_purchased_shop_5','distance_shop_1','distance_shop_2',\n",
    "                                                                           'distance_shop_3','distance_shop_4',\n",
    "                                                                           'distance_shop_5']].values\n",
    "\n",
    "\n",
    "# We split dataset into training set (70%) and test set (30%)\n",
    "train_2, test_2 = train_test_split(unique_2, train_size=0.7)\n",
    "# We get an idea of the number of records in the training set\n",
    "print train_2.shape\n"
   ]
  },
  {
   "cell_type": "markdown",
   "metadata": {},
   "source": [
    "Let's now do PCA in **all** components with the idea of seeing what is the minimum number of components we wish to retain for a desired variance"
   ]
  },
  {
   "cell_type": "code",
   "execution_count": 174,
   "metadata": {
    "collapsed": false
   },
   "outputs": [
    {
     "name": "stdout",
     "output_type": "stream",
     "text": [
      "Cumulative sum of ratio of explained variance\n",
      "67.96 % explained by 0 components\n",
      "97.11 % explained by 1 components\n",
      "98.5 % explained by 2 components\n",
      "99.21 % explained by 3 components\n",
      "99.62 % explained by 4 components\n",
      "99.85 % explained by 5 components\n",
      "99.95 % explained by 6 components\n",
      "99.97 % explained by 7 components\n",
      "99.99 % explained by 8 components\n",
      "100.0 % explained by 9 components\n"
     ]
    }
   ],
   "source": [
    "# Number of components to consider\n",
    "comp_ = 10\n",
    "\n",
    "# Generate model\n",
    "pca = PCA(n_components=comp_)\n",
    "\n",
    "# Fit model\n",
    "pca2 = pca.fit_transform(train_2)\n",
    "\n",
    "# Print out useful information reagarding the variance captured by the \n",
    "# number of components chosen\n",
    "\n",
    "\n",
    "#print pca.explained_variance_\n",
    "#print \"Ratio of explained variance\"\n",
    "#print pca.explained_variance_ratio_\n",
    "print \"Cumulative sum of ratio of explained variance\"\n",
    "pca_results = pca.explained_variance_ratio_.cumsum()\n",
    "for k in range(10):\n",
    "    print round(pca_results[k]*100.,2), \"% explained by \" +str(k)+ \" components\"\n"
   ]
  },
  {
   "cell_type": "markdown",
   "metadata": {},
   "source": [
    "We see that **two components** capture **97%** of the variance. This is a very high variance for a little number of compnents. Let's proceed with two components then."
   ]
  },
  {
   "cell_type": "code",
   "execution_count": 166,
   "metadata": {
    "collapsed": false
   },
   "outputs": [
    {
     "name": "stdout",
     "output_type": "stream",
     "text": [
      "Ratio of explained variance\n",
      "[ 0.6796324   0.29146588]\n",
      "Cumulative sum of ratio of explained variance\n",
      "[ 0.6796324   0.97109828]\n"
     ]
    }
   ],
   "source": [
    "# Number of components to consider\n",
    "comp_ = 2\n",
    "\n",
    "# Generate model\n",
    "pca = PCA(n_components=comp_)\n",
    "\n",
    "# Fit model\n",
    "pca2 = pca.fit_transform(train_2)\n",
    "\n",
    "# Print out useful information reagarding the variance captured by the \n",
    "# number of components chosen\n",
    "\n",
    "\n",
    "#print pca.explained_variance_\n",
    "print \"Ratio of explained variance\"\n",
    "print pca.explained_variance_ratio_\n",
    "print \"Cumulative sum of ratio of explained variance\"\n",
    "print pca.explained_variance_ratio_.cumsum()\n"
   ]
  },
  {
   "cell_type": "markdown",
   "metadata": {},
   "source": [
    "And we do clustering with the results of this PCA analysis"
   ]
  },
  {
   "cell_type": "code",
   "execution_count": 167,
   "metadata": {
    "collapsed": false
   },
   "outputs": [
    {
     "data": {
      "text/plain": [
       "<matplotlib.text.Text at 0x11c183390>"
      ]
     },
     "execution_count": 167,
     "metadata": {},
     "output_type": "execute_result"
    },
    {
     "data": {
      "image/png": "[encoded data removed]",
      "text/plain": [
       "<matplotlib.figure.Figure at 0x119a29c50>"
      ]
     },
     "metadata": {},
     "output_type": "display_data"
    }
   ],
   "source": [
    "# Determine your k range\n",
    "k_range = range(1,10)\n",
    "\n",
    "# Fit the kmeans model for each n_clusters = k\n",
    "k_means_var = [KMeans(n_clusters=k).fit(pca2) for k in k_range]\n",
    "\n",
    "# Pull out the cluster centers for each model\n",
    "centroids = [X.cluster_centers_ for X in k_means_var]\n",
    "\n",
    "# Calculate the Euclidean distance from \n",
    "# each point to each cluster center\n",
    "k_euclid = [cdist(pca2, cent, 'euclidean') for cent in centroids]\n",
    "dist = [np.min(ke,axis=1) for ke in k_euclid]\n",
    "\n",
    "# Total within-cluster sum of squares\n",
    "wcss = [sum(d**2) for d in dist]\n",
    "\n",
    "# The total sum of squares\n",
    "tss = sum(pdist(pca2)**2)/pca2.shape[0]\n",
    "\n",
    "# The between-cluster sum of squares\n",
    "bss = tss - wcss\n",
    "\n",
    "# elbow curve\n",
    "fig = plt.figure()\n",
    "ax = fig.add_subplot(111)\n",
    "ax.plot(k_range, bss/tss*100, 'b*-')\n",
    "ax.set_ylim((0,100))\n",
    "plt.grid(True)\n",
    "plt.xlabel('Number of clusters')\n",
    "plt.ylabel('Percentage of variance explained')\n",
    "plt.title('Variance Explained vs. k')"
   ]
  },
  {
   "cell_type": "code",
   "execution_count": 168,
   "metadata": {
    "collapsed": false
   },
   "outputs": [],
   "source": [
    "num_clusters = 5\n",
    "k_means = KMeans(n_clusters=num_clusters)\n",
    "kMeans = k_means.fit(pca2)\n",
    "clusters_labels = kMeans.predict(pca2) + 1\n",
    "\n",
    "\n",
    "df_clusters = pd.DataFrame()\n",
    "for k in range(comp_):\n",
    "    df_clusters['comp_' + str(k+1)] = pca2[:,k]\n",
    "    df_clusters['comp_' + str(k+1)] = pca2[:,k]\n",
    "df_clusters['cluster'] = clusters_labels"
   ]
  },
  {
   "cell_type": "code",
   "execution_count": 169,
   "metadata": {
    "collapsed": false
   },
   "outputs": [
    {
     "data": {
      "text/html": [
       "<div>\n",
       "<table border=\"1\" class=\"dataframe\">\n",
       "  <thead>\n",
       "    <tr style=\"text-align: right;\">\n",
       "      <th></th>\n",
       "      <th>comp_1</th>\n",
       "      <th>comp_2</th>\n",
       "      <th>cluster</th>\n",
       "    </tr>\n",
       "  </thead>\n",
       "  <tbody>\n",
       "    <tr>\n",
       "      <th>0</th>\n",
       "      <td>-2055.041725</td>\n",
       "      <td>2345.812201</td>\n",
       "      <td>1</td>\n",
       "    </tr>\n",
       "    <tr>\n",
       "      <th>1</th>\n",
       "      <td>-294.583540</td>\n",
       "      <td>-358.415177</td>\n",
       "      <td>4</td>\n",
       "    </tr>\n",
       "    <tr>\n",
       "      <th>2</th>\n",
       "      <td>-3259.842909</td>\n",
       "      <td>1634.957228</td>\n",
       "      <td>1</td>\n",
       "    </tr>\n",
       "    <tr>\n",
       "      <th>3</th>\n",
       "      <td>2781.805052</td>\n",
       "      <td>-1076.312636</td>\n",
       "      <td>2</td>\n",
       "    </tr>\n",
       "    <tr>\n",
       "      <th>4</th>\n",
       "      <td>805.413521</td>\n",
       "      <td>-2205.783590</td>\n",
       "      <td>2</td>\n",
       "    </tr>\n",
       "  </tbody>\n",
       "</table>\n",
       "</div>"
      ],
      "text/plain": [
       "        comp_1       comp_2  cluster\n",
       "0 -2055.041725  2345.812201        1\n",
       "1  -294.583540  -358.415177        4\n",
       "2 -3259.842909  1634.957228        1\n",
       "3  2781.805052 -1076.312636        2\n",
       "4   805.413521 -2205.783590        2"
      ]
     },
     "execution_count": 169,
     "metadata": {},
     "output_type": "execute_result"
    }
   ],
   "source": [
    "df_clusters.head()"
   ]
  },
  {
   "cell_type": "code",
   "execution_count": 170,
   "metadata": {
    "collapsed": false
   },
   "outputs": [],
   "source": [
    "matrix_clusters = np.zeros((num_clusters,2))\n",
    "for m in range(num_clusters):\n",
    "    #print \"Cluster \" , m+1\n",
    "    for k in range(2):\n",
    "        text = 'shop_' + str(k+1) \n",
    "        sum_ = sum((df_clusters.cluster == m+1) & (df_clusters['comp_'+str(k+1)] != 0 ))\n",
    "        #print text, sum_\n",
    "        matrix_clusters[m,k] = sum_\n",
    "    #print \"#######\"*2\n",
    "\n",
    "    \n",
    "df = pd.DataFrame()\n",
    "for k in range(2):\n",
    "    df['Comp ' + str(k+1)] = matrix_clusters[:,k]\n",
    "df.index = range(1,num_clusters+1) #['Cluster '+ str(i) for i in range(1,6)]\n"
   ]
  },
  {
   "cell_type": "code",
   "execution_count": 172,
   "metadata": {
    "collapsed": false
   },
   "outputs": [
    {
     "data": {
      "text/html": [
       "<div>\n",
       "<table border=\"1\" class=\"dataframe\">\n",
       "  <thead>\n",
       "    <tr style=\"text-align: right;\">\n",
       "      <th></th>\n",
       "      <th>Comp 1</th>\n",
       "      <th>Comp 2</th>\n",
       "    </tr>\n",
       "  </thead>\n",
       "  <tbody>\n",
       "    <tr>\n",
       "      <th>1</th>\n",
       "      <td>3819</td>\n",
       "      <td>3819</td>\n",
       "    </tr>\n",
       "    <tr>\n",
       "      <th>2</th>\n",
       "      <td>6474</td>\n",
       "      <td>6474</td>\n",
       "    </tr>\n",
       "    <tr>\n",
       "      <th>3</th>\n",
       "      <td>1608</td>\n",
       "      <td>1608</td>\n",
       "    </tr>\n",
       "    <tr>\n",
       "      <th>4</th>\n",
       "      <td>4848</td>\n",
       "      <td>4848</td>\n",
       "    </tr>\n",
       "    <tr>\n",
       "      <th>5</th>\n",
       "      <td>304</td>\n",
       "      <td>304</td>\n",
       "    </tr>\n",
       "  </tbody>\n",
       "</table>\n",
       "</div>"
      ],
      "text/plain": [
       "   Comp 1  Comp 2\n",
       "1    3819    3819\n",
       "2    6474    6474\n",
       "3    1608    1608\n",
       "4    4848    4848\n",
       "5     304     304"
      ]
     },
     "execution_count": 172,
     "metadata": {},
     "output_type": "execute_result"
    }
   ],
   "source": [
    "df"
   ]
  },
  {
   "cell_type": "code",
   "execution_count": 171,
   "metadata": {
    "collapsed": false
   },
   "outputs": [
    {
     "data": {
      "image/png": "[encoded data removed]",
      "text/plain": [
       "<matplotlib.figure.Figure at 0x11c1d3c90>"
      ]
     },
     "metadata": {},
     "output_type": "display_data"
    }
   ],
   "source": [
    "df.plot(kind='bar',\n",
    "           title='Distribution of only-two-store buyers',stacked=True)\n",
    "plt.xlabel('Cluster')\n",
    "plt.ylabel('Number of customers')\n",
    "plt.show()"
   ]
  },
  {
   "cell_type": "code",
   "execution_count": null,
   "metadata": {
    "collapsed": true
   },
   "outputs": [],
   "source": []
  }
 ],
 "metadata": {
  "kernelspec": {
   "display_name": "Python 2",
   "language": "python",
   "name": "python2"
  },
  "language_info": {
   "codemirror_mode": {
    "name": "ipython",
    "version": 2
   },
   "file_extension": ".py",
   "mimetype": "text/x-python",
   "name": "python",
   "nbconvert_exporter": "python",
   "pygments_lexer": "ipython2",
   "version": "2.7.9"
  }
 },
 "nbformat": 4,
 "nbformat_minor": 0
}
